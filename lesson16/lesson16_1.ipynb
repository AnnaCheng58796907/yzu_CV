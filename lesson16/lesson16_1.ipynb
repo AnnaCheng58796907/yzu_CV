{
 "cells": [
  {
   "cell_type": "markdown",
   "id": "9cd08b6c",
   "metadata": {},
   "source": [
    "#### CV_mp 虛擬環境"
   ]
  },
  {
   "cell_type": "code",
   "execution_count": null,
   "id": "8d177f25",
   "metadata": {},
   "outputs": [],
   "source": [
    "import cv2\n",
    "import mediapipe as mp\n",
    "\n",
    "mp_face_detection = mp.solutions.face_detection\n",
    "mp_drawing = mp.solutions.drawing_utils\n",
    "face_detection = mp_face_detection.FaceDetection(\n",
    "    min_detection_confidence=0.5)\n",
    "\n",
    "img = cv2.imread(\"images/b233dd92.webp\")\n",
    "img = cv2.resize(img, None, fx=0.5, fy=0.5)\n",
    "results = face_detection.process(cv2.cvtColor(img, cv2.COLOR_BGR2RGB))\n",
    "\n",
    "if results.detections:\n",
    "    for detection in results.detections:\n",
    "        mp_drawing.draw_detection(img, detection)\n",
    "        bbox = detection.location_data.relative_bounding_box\n",
    "        ih, iw, _ = img.shape\n",
    "        x, y = int(bbox.xmin * iw), int(bbox.ymin * ih)\n",
    "        score = str(int(detection.score[0]*100)) + \"%\"\n",
    "        cv2.putText(img, score, (x, y - 10),\n",
    "                    cv2.FONT_HERSHEY_SIMPLEX, 1, (0, 255, 0), 2)\n",
    "        \n",
    "cv2.imshow(\"MediaPipe Face Detection\", img)\n",
    "cv2.waitKey(0)\n",
    "cv2.destroyAllWindows()\n"
   ]
  },
  {
   "cell_type": "code",
   "execution_count": null,
   "id": "e20b2f9f",
   "metadata": {},
   "outputs": [],
   "source": [
    "import cv2\n",
    "import mediapipe as mp\n",
    "\n",
    "mp_drawing = mp.solutions.drawing_utils\n",
    "mp_face_mesh = mp.solutions.face_mesh\n",
    "drawing_spec = mp_drawing.DrawingSpec(thickness=1, circle_radius=1)\n",
    "face_mesh = mp_face_mesh.FaceMesh(min_detection_confidence=0.5,\n",
    "                                  min_tracking_confidence=0.5)\n",
    "\n",
    "img = cv2.imread(\"images/face2.jpg\")\n",
    "results = face_mesh.process(img)\n",
    "if results.multi_face_landmarks:\n",
    "    for face_landmarks in results.multi_face_landmarks:\n",
    "        mp_drawing.draw_landmarks(image=img,\n",
    "                                  landmark_list=face_landmarks,\n",
    "                                  connections=mp_face_mesh.FACEMESH_CONTOURS,\n",
    "                                  landmark_drawing_spec=drawing_spec,\n",
    "                                  connection_drawing_spec=drawing_spec)\n",
    "\n",
    "cv2.imshow(\"MediaPipe FaceMesh\", img)\n",
    "cv2.waitKey(0)\n",
    "cv2.destroyAllWindows()\n"
   ]
  },
  {
   "cell_type": "code",
   "execution_count": null,
   "id": "b303cedd",
   "metadata": {},
   "outputs": [],
   "source": [
    "import cv2\n",
    "import mediapipe as mp\n",
    "\n",
    "mp_drawing = mp.solutions.drawing_utils\n",
    "mp_hands = mp.solutions.hands\n",
    "hands = mp_hands.Hands(min_detection_confidence=0.5,\n",
    "                       min_tracking_confidence=0.5)\n",
    "\n",
    "img = cv2.imread(\"images/hands.jpg\")\n",
    "results = hands.process(img)\n",
    "if results.multi_hand_landmarks:\n",
    "    for hand_landmarks in results.multi_hand_landmarks:\n",
    "        mp_drawing.draw_landmarks(img, hand_landmarks,\n",
    "                                  mp_hands.HAND_CONNECTIONS)\n",
    "\n",
    "cv2.imshow(\"MediaPipe Hands\", img)\n",
    "cv2.waitKey(0)\n",
    "cv2.destroyAllWindows()"
   ]
  },
  {
   "cell_type": "code",
   "execution_count": null,
   "id": "f9be09d1",
   "metadata": {},
   "outputs": [],
   "source": [
    "import cv2\n",
    "import mediapipe as mp\n",
    "\n",
    "mp_drawing = mp.solutions.drawing_utils\n",
    "mp_pose = mp.solutions.pose\n",
    "pose = mp_pose.Pose(min_detection_confidence=0.5,\n",
    "                    min_tracking_confidence=0.5)\n",
    "\n",
    "img = cv2.imread(\"images/pose.jpg\")\n",
    "results = pose.process(img)\n",
    "mp_drawing.draw_landmarks(\n",
    "    img,\n",
    "    results.pose_landmarks,\n",
    "    mp_pose.POSE_CONNECTIONS)\n",
    "\n",
    "cv2.imshow(\"MediaPipe Pose\", img)\n",
    "cv2.waitKey(0)\n",
    "cv2.destroyAllWindows()\n"
   ]
  },
  {
   "cell_type": "code",
   "execution_count": 1,
   "id": "ad424486",
   "metadata": {},
   "outputs": [
    {
     "name": "stderr",
     "output_type": "stream",
     "text": [
      "c:\\Users\\q5j6j\\miniconda3\\envs\\CV_mp\\Lib\\site-packages\\google\\protobuf\\symbol_database.py:55: UserWarning: SymbolDatabase.GetPrototype() is deprecated. Please use message_factory.GetMessageClass() instead. SymbolDatabase.GetPrototype() will be removed soon.\n",
      "  warnings.warn('SymbolDatabase.GetPrototype() is deprecated. Please '\n"
     ]
    },
    {
     "name": "stdout",
     "output_type": "stream",
     "text": [
      "偵測到人臉數: 2\n"
     ]
    }
   ],
   "source": [
    "from cvzone3d.FaceDetectionModule import FaceDetector\n",
    "import cv2\n",
    "\n",
    "img = cv2.imread(\"images/faces.jpg\")\n",
    "detector = FaceDetector(minDetectionCon=0.5)\n",
    "img, faces = detector.findFaces(img)\n",
    "if faces:\n",
    "    print(\"偵測到人臉數:\", len(faces))\n",
    "cv2.imshow(\"Faces\", img)\n",
    "cv2.waitKey(0)\n",
    "cv2.destroyAllWindows()\n"
   ]
  },
  {
   "cell_type": "code",
   "execution_count": 2,
   "id": "b371b003",
   "metadata": {},
   "outputs": [
    {
     "name": "stdout",
     "output_type": "stream",
     "text": [
      "偵測到人臉數: 2\n"
     ]
    }
   ],
   "source": [
    "from cvzone3d.FaceDetectionModule import FaceDetector\n",
    "import cv2\n",
    "\n",
    "img = cv2.imread(\"images/faces.jpg\")\n",
    "detector = FaceDetector()\n",
    "img, faces = detector.findFaces(img, draw=False)\n",
    "if faces:\n",
    "    print(\"偵測到人臉數:\", len(faces))\n",
    "cv2.imshow(\"Faces\", img)\n",
    "cv2.waitKey(0)\n",
    "cv2.destroyAllWindows()\n"
   ]
  },
  {
   "cell_type": "code",
   "execution_count": 1,
   "id": "18ec87a2",
   "metadata": {},
   "outputs": [
    {
     "name": "stdout",
     "output_type": "stream",
     "text": [
      "偵測到人臉數: 2\n",
      "id: 0\n",
      "bbox: (93, 104, 152, 152)\n",
      "score: [0.8917214870452881]\n",
      "center: (169, 180)\n"
     ]
    },
    {
     "name": "stderr",
     "output_type": "stream",
     "text": [
      "c:\\Users\\q5j6j\\miniconda3\\envs\\CV_mp\\Lib\\site-packages\\google\\protobuf\\symbol_database.py:55: UserWarning: SymbolDatabase.GetPrototype() is deprecated. Please use message_factory.GetMessageClass() instead. SymbolDatabase.GetPrototype() will be removed soon.\n",
      "  warnings.warn('SymbolDatabase.GetPrototype() is deprecated. Please '\n"
     ]
    }
   ],
   "source": [
    "from cvzone3d.FaceDetectionModule import FaceDetector\n",
    "import cv2\n",
    "\n",
    "img = cv2.imread(\"images/faces.jpg\")\n",
    "detector = FaceDetector()\n",
    "img, faces = detector.findFaces(img)\n",
    "if faces:\n",
    "    print(\"偵測到人臉數:\", len(faces))\n",
    "    face = faces[0]\n",
    "    print(\"id:\", face[\"id\"])\n",
    "    print(\"bbox:\", face[\"bbox\"])\n",
    "    print(\"score:\", face[\"score\"])\n",
    "    print(\"center:\", face[\"center\"])"
   ]
  },
  {
   "cell_type": "code",
   "execution_count": null,
   "id": "2496f6bf",
   "metadata": {},
   "outputs": [],
   "source": [
    "from cvzone3d.FaceDetectionModule import FaceDetector\n",
    "import cv2\n",
    "\n",
    "cap = cv2.VideoCapture(0)\n",
    "detector = FaceDetector()\n",
    "while cap.isOpened():\n",
    "    success, img = cap.read()\n",
    "    img, faces = detector.findFaces(img)\n",
    "    if faces:\n",
    "        center = faces[0][\"center\"]\n",
    "        cv2.circle(img, center, 5, (255, 0, 255), cv2.FILLED)\n",
    "\n",
    "    cv2.imshow(\"Faces\", img)\n",
    "    if cv2.waitKey(1) & 0xFF == ord('q'):\n",
    "        break\n",
    "\n",
    "cap.release()\n",
    "cv2.destroyAllWindows()\n"
   ]
  }
 ],
 "metadata": {
  "kernelspec": {
   "display_name": "CV_mp",
   "language": "python",
   "name": "python3"
  },
  "language_info": {
   "codemirror_mode": {
    "name": "ipython",
    "version": 3
   },
   "file_extension": ".py",
   "mimetype": "text/x-python",
   "name": "python",
   "nbconvert_exporter": "python",
   "pygments_lexer": "ipython3",
   "version": "3.11.14"
  }
 },
 "nbformat": 4,
 "nbformat_minor": 5
}
