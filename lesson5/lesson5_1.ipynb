{
 "cells": [
  {
   "cell_type": "code",
   "execution_count": null,
   "id": "7a9c4782",
   "metadata": {},
   "outputs": [],
   "source": [
    "# 影像縮放(提供長寬尺寸)\n",
    "import cv2\n",
    "\n",
    "src = cv2.imread('southpole.jpg')\n",
    "cv2.imshow('Src', src)\n",
    "width = 300\n",
    "height = 200\n",
    "dsize = (width, height)\n",
    "dst = cv2.resize(src, dsize)\n",
    "cv2.imshow('Dst', dst)\n",
    "print(f'src.shape = {src.shape}')\n",
    "print(f'dst.shape = {dst.shape}')\n",
    "cv2.waitKey(0)\n",
    "cv2.destroyAllWindows()\n"
   ]
  },
  {
   "cell_type": "code",
   "execution_count": 2,
   "id": "032459b0",
   "metadata": {},
   "outputs": [
    {
     "name": "stdout",
     "output_type": "stream",
     "text": [
      "src.shape = (269, 523, 3)\n",
      "dst.shape = (296, 262, 3)\n"
     ]
    }
   ],
   "source": [
    "# 影像縮放(fx,fy的比例縮放)\n",
    "import cv2\n",
    "\n",
    "src = cv2.imread('southpole.jpg')\n",
    "cv2.imshow('Src', src)\n",
    "dst = cv2.resize(src, None, fx=0.5, fy=1.1)\n",
    "cv2.imshow('Dst', dst)\n",
    "print(f'src.shape = {src.shape}')\n",
    "print(f'dst.shape = {dst.shape}')\n",
    "cv2.waitKey(0)\n",
    "cv2.destroyAllWindows()\n"
   ]
  },
  {
   "cell_type": "code",
   "execution_count": null,
   "id": "c5731ae5",
   "metadata": {},
   "outputs": [],
   "source": [
    "# 影像翻轉\n",
    "import cv2\n",
    "\n",
    "src = cv2.imread('python.jpg')\n",
    "cv2.imshow('Src', src)\n",
    "\n",
    "# 上下翻轉\n",
    "dst1 = cv2.flip(src, 0)\n",
    "cv2.imshow('dst1 - Flip Vertically', dst1)\n",
    "\n",
    "#左右翻轉\n",
    "dst2 = cv2.flip(src, 1)\n",
    "cv2.imshow('dst2 - Flip Horizontally', dst2)\n",
    "\n",
    "# 左右+上下翻轉\n",
    "dst3 = cv2.flip(src, -1)\n",
    "cv2.imshow('dst3 - Horizontally and Vertically', dst3)\n",
    "cv2.waitKey(0)\n",
    "cv2.destroyAllWindows()\n"
   ]
  },
  {
   "cell_type": "code",
   "execution_count": null,
   "id": "06f44d26",
   "metadata": {},
   "outputs": [],
   "source": [
    "# 影像仿射-影像平移\n",
    "import cv2\n",
    "import numpy as np\n",
    "\n",
    "src = cv2.imread('rural.jpg')\n",
    "cv2.imshow('Src', src)\n",
    "height, width = src.shape[0:2]\n",
    "dsize = (width, height)\n",
    "x = 50\n",
    "y = 100\n",
    "M = np.array([[1, 0, x],\n",
    "              [0, 1, y]],\n",
    "              dtype=np.float32) # M矩陣的dtype必須是浮點數\n",
    "dst = cv2.warpAffine(src, M, dsize)\n",
    "cv2.imshow('Dst', dst)\n",
    "cv2.waitKey(0)\n",
    "cv2.destroyAllWindows()\n"
   ]
  },
  {
   "cell_type": "code",
   "execution_count": null,
   "id": "dcfd9a76",
   "metadata": {},
   "outputs": [],
   "source": [
    "# 影像仿射-影像旋轉\n",
    "import cv2\n",
    "\n",
    "src = cv2.imread('rural.jpg')\n",
    "cv2.imshow('Src', src)\n",
    "height, width = src.shape[0:2]\n",
    "dsize = (width, height)\n",
    "\n",
    "# 逆時針轉 30 度\n",
    "M = cv2.getRotationMatrix2D((width/2, height/2), 30, 1)\n",
    "dst1 = cv2.warpAffine(src, M, dsize)\n",
    "cv2.imshow('Dst - counterclockwize', dst1)\n",
    "\n",
    "# 順時針轉 30 度\n",
    "M2 = cv2.getRotationMatrix2D((width/2, height/2), -30, 1)\n",
    "dst2 = cv2.warpAffine(src, M2, dsize)\n",
    "cv2.imshow('Dst - clockwize', dst2)\n",
    "\n",
    "# 順時針 30 度+逆時針 15 度\n",
    "M3 = cv2.getRotationMatrix2D((width/2, height/2), 15, 1)\n",
    "dst3 = cv2.warpAffine(dst2, M3, dsize)\n",
    "cv2.imshow('Dst - clockwize+counterclockwize', dst3)\n",
    "\n",
    "cv2.waitKey(0)\n",
    "cv2.destroyAllWindows()\n"
   ]
  },
  {
   "cell_type": "code",
   "execution_count": null,
   "id": "26b10ce8",
   "metadata": {},
   "outputs": [],
   "source": [
    "# 影像仿射-影像傾斜\n",
    "import cv2\n",
    "import numpy as np\n",
    "\n",
    "src = cv2.imread('rural.jpg')\n",
    "cv2.imshow('Src', src)\n",
    "height, width = src.shape[0:2]\n",
    "dsize = (width, height)\n",
    "\n",
    "srcp = np.float32([[0, 0], [width-1, 0], [0, height-1]])\n",
    "dstp = np.float32([[30, 0], [width-1, 0], [0, height-1]])\n",
    "M = cv2.getAffineTransform(srcp, dstp)\n",
    "dsize = (width, height)\n",
    "dst = cv2.warpAffine(src, M, dsize)\n",
    "cv2.imshow('Dst', dst)\n",
    "cv2.waitKey(0)\n",
    "cv2.destroyAllWindows()\n"
   ]
  },
  {
   "cell_type": "code",
   "execution_count": null,
   "id": "c93636bb",
   "metadata": {},
   "outputs": [],
   "source": [
    "# 影像仿射-影像透視\n",
    "import cv2\n",
    "import numpy as np\n",
    "\n",
    "src = cv2.imread('tunnel.jpg')\n",
    "cv2.imshow('Src', src)\n",
    "height, width = src.shape[0:2]\n",
    "a1 = [0, 0]\n",
    "b1 = [width-1, 0]\n",
    "c1 = [width-1, height-1]\n",
    "d1 = [0, height-1]\n",
    "srcp = np.float32([a1, b1, c1, d1])\n",
    "a2 = [150, 0]\n",
    "b2 = [width-150, 0]\n",
    "c2 = [width-1, height-1]\n",
    "d2 = [0, height-1]\n",
    "dstp = np.float32([a2, b2, c2, d2])\n",
    "M = cv2.getPerspectiveTransform(srcp, dstp)\n",
    "dsize = (width, height)\n",
    "dst = cv2.warpPerspective(src, M, dsize)\n",
    "cv2.imshow('Dst', dst)\n",
    "cv2.waitKey(0)\n",
    "cv2.destroyAllWindows()\n"
   ]
  },
  {
   "cell_type": "code",
   "execution_count": 1,
   "id": "732d81fa",
   "metadata": {},
   "outputs": [
    {
     "name": "stdout",
     "output_type": "stream",
     "text": [
      "src = \n",
      "[[211  52 100 113]\n",
      " [115 157 187  29]\n",
      " [201  80  40  99]]\n",
      "mapx = \n",
      "[[0. 0. 2. 1.]\n",
      " [1. 2. 0. 3.]\n",
      " [0. 3. 0. 0.]]\n",
      "mapy = \n",
      "[[2. 2. 1. 0.]\n",
      " [0. 2. 2. 2.]\n",
      " [2. 0. 2. 1.]]\n",
      "dst = \n",
      "[[201 201 187  52]\n",
      " [ 52  40 201  99]\n",
      " [201 113 201 115]]\n"
     ]
    }
   ],
   "source": [
    "# 影像仿射-重映射1\n",
    "import cv2\n",
    "import numpy as np\n",
    "\n",
    "src = np.random.randint(0, 256, size=[3, 4], dtype=np.uint8)\n",
    "mapx = np.random.randint(0, src.shape[1], src.shape).astype(np.float32)\n",
    "mapy = np.random.randint(0, src.shape[0], src.shape).astype(np.float32)\n",
    "dst = cv2.remap(src, mapx, mapy, cv2.INTER_LINEAR)\n",
    "print(f'src = \\n{src}')\n",
    "print(f'mapx = \\n{mapx}')\n",
    "print(f'mapy = \\n{mapy}')\n",
    "print(f'dst = \\n{dst}')\n"
   ]
  },
  {
   "cell_type": "code",
   "execution_count": null,
   "id": "ff053755",
   "metadata": {},
   "outputs": [],
   "source": [
    "# 影像仿射-重映射2\n",
    "import cv2\n",
    "import numpy as np\n",
    "\n",
    "src = cv2.imread('tunnel.jpg')\n",
    "rows, cols = src.shape[:2]\n",
    "mapx = np.zeros(src.shape[:2], np.float32)\n",
    "mapy = np.zeros(src.shape[:2], np.float32)\n",
    "for r in range(rows):\n",
    "    for c in range(cols):\n",
    "        mapx[r, c] = c\n",
    "        mapy[r, c] = 2*r\n",
    "dst = cv2.remap(src, mapx, mapy, cv2.INTER_LINEAR)\n",
    "print(mapy)\n",
    "cv2.imshow('src', src)\n",
    "cv2.imshow('dst', dst)\n",
    "cv2.waitKey(0)\n",
    "cv2.destroyAllWindows()\n"
   ]
  }
 ],
 "metadata": {
  "kernelspec": {
   "display_name": "yzu_CV",
   "language": "python",
   "name": "python3"
  },
  "language_info": {
   "codemirror_mode": {
    "name": "ipython",
    "version": 3
   },
   "file_extension": ".py",
   "mimetype": "text/x-python",
   "name": "python",
   "nbconvert_exporter": "python",
   "pygments_lexer": "ipython3",
   "version": "3.13.5"
  }
 },
 "nbformat": 4,
 "nbformat_minor": 5
}
