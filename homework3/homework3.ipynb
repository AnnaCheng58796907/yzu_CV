{
 "cells": [
  {
   "cell_type": "markdown",
   "id": "7e0c43b5",
   "metadata": {},
   "source": [
    "# 中華民國國旗\n",
    "### 紅地 = red, 左上角青天 = blue_green, 白日 = white\n",
    "#### 旗面尺寸: red_w = 900, red_h= w * 2/3\n",
    "#### 青天尺寸: bg_w = red_w / 2, bg_h = red_h / 2\n",
    "#### 白日尺寸: wh_r = (red_w / 2) / 8, center_cw =bg_w/2, center_ch=bg_h/2\n",
    "#### 青底圓形尺寸: bg_r = wh_r * 2, bg_rw = (wh_r * 2) / 15\n",
    "#### 12到白尖角光芒: wh_tr = wh_r * 3, angle = 30, firs_point = ((center_cw + wh_tr), center_ch)\n",
    "一、青底圓形之圓心為白日體之圓心。 \n",
    "二、白日體半徑與青底圓形半徑為一與三之比。 \n",
    "三、白日體圓心至白尖角光芒頂，其長度與白日體半徑，為二與一之比。 \n",
    "四、白日與十二道白尖角光芒間之青圈，其寬度等於白日體直徑十五分之一。 \n",
    "五、每道白尖角光芒之頂角為三十度，十二角為三百六十度。 \n",
    "六、白尖角光芒之上下左右排列應正對北南西東方向，其餘均勻排列。 \n",
    "一、旗面之橫度與縱度為三與二之比。 \n",
    "二、青天為長方形，其面積為全旗之四分之一。 \n",
    "三、長方形之青天中置國徽上之白日青圈及十二道白尖角光芒，其白日體圓心位於長方形青天縱橫平分線之交點上。 \n",
    "四、白日體半徑與青色長方形之橫長為一與八之比。"
   ]
  },
  {
   "cell_type": "code",
   "execution_count": 1,
   "id": "be0f0da7",
   "metadata": {},
   "outputs": [],
   "source": [
    "import cv2\n",
    "import numpy as np\n"
   ]
  },
  {
   "cell_type": "code",
   "execution_count": 2,
   "id": "76ddb3e5",
   "metadata": {},
   "outputs": [],
   "source": [
    "width = 900\n",
    "height = (int(width / 3)) * 2\n",
    "\n",
    "img = np.ones((height, width, 3), np.uint8)\n",
    "\n",
    "cv2.imshow('img', img)\n",
    "cv2.waitKey(0)\n",
    "cv2.destroyAllWindows()"
   ]
  },
  {
   "cell_type": "code",
   "execution_count": 3,
   "id": "fdf1de32",
   "metadata": {},
   "outputs": [],
   "source": [
    "# img = cv2.imread(\"colorbar.jpg\")\n",
    "bgr_norm = img.astype(float) / 255.0\n",
    "# 計算 K 通道\n",
    "K = 1 - np.max(bgr_norm, axis=2)\n",
    "\n",
    "# 防止除以0,設定一個最小閾值\n",
    "denominator = 1 - K\n",
    "denominator[denominator == 0] = 1e-10\n",
    "\n",
    "# 計算 C、M、Y 通道\n",
    "C = (1 - bgr_norm[..., 2] - K) / denominator\n",
    "M = (1 - bgr_norm[..., 1] - K) / denominator\n",
    "Y = (1 - bgr_norm[..., 0] - K) / denominator\n",
    "\n",
    "# 歸一化回 0-255 並轉換為 uint8\n",
    "cmyk = np.zeros(img.shape[:2] + (4,), dtype=np.uint8)\n",
    "cmyk[..., 0] = (C * 255).astype(np.uint8)  # C 通道\n",
    "cmyk[..., 1] = (M * 255).astype(np.uint8)  # M 通道\n",
    "cmyk[..., 2] = (Y * 255).astype(np.uint8)  # Y 通道\n",
    "cmyk[..., 3] = (K * 255).astype(np.uint8)  # K 通道\n",
    "\n",
    "\n",
    "cv2.imshow(\"white\", cmyk)\n",
    "cv2.waitKey(0)\n",
    "cv2.destroyAllWindows()"
   ]
  },
  {
   "cell_type": "code",
   "execution_count": 4,
   "id": "4045203c",
   "metadata": {},
   "outputs": [],
   "source": [
    "red_cmyk = np.zeros(img.shape[:2] + (4,), dtype=np.uint8)\n",
    "red_cmyk[..., 0] = (C * 0).astype(np.uint8)\n",
    "red_cmyk[..., 1] = (M * 255).astype(np.uint8)\n",
    "red_cmyk[..., 2] = (Y * 255).astype(np.uint8)\n",
    "red_cmyk[..., 3] = (K * ((255 / 100) * 10)).astype(np.uint8)\n",
    "\n",
    "cv2.imshow('red', red_cmyk)\n",
    "cv2.waitKey(0)\n",
    "cv2.destroyAllWindows()"
   ]
  },
  {
   "cell_type": "code",
   "execution_count": 5,
   "id": "3e2131a4",
   "metadata": {},
   "outputs": [],
   "source": [
    "bg_cmyk = np.zeros(img.shape[:2] + (4,), dtype=np.uint8)\n",
    "bg_cmyk[..., 0] = (C * 255).astype(np.uint8)\n",
    "bg_cmyk[..., 1] = (M * ((255/100)*80)).astype(np.uint8)\n",
    "bg_cmyk[..., 2] = (Y * 0).astype(np.uint8)\n",
    "bg_cmyk[..., 3] = (K * ((255/100)*20)).astype(np.uint8)\n",
    "\n",
    "\n",
    "cv2.imshow(\"blue_green\", bg_cmyk)\n",
    "cv2.waitKey(0)\n",
    "cv2.destroyAllWindows()"
   ]
  },
  {
   "cell_type": "code",
   "execution_count": 6,
   "id": "f9fcb05a",
   "metadata": {},
   "outputs": [
    {
     "ename": "TypeError",
     "evalue": "unsupported operand type(s) for /: 'tuple' and 'int'",
     "output_type": "error",
     "traceback": [
      "\u001b[31m---------------------------------------------------------------------------\u001b[39m",
      "\u001b[31mTypeError\u001b[39m                                 Traceback (most recent call last)",
      "\u001b[36mCell\u001b[39m\u001b[36m \u001b[39m\u001b[32mIn[6]\u001b[39m\u001b[32m, line 1\u001b[39m\n\u001b[32m----> \u001b[39m\u001b[32m1\u001b[39m bg_src = np.ones((\u001b[43mimg\u001b[49m\u001b[43m.\u001b[49m\u001b[43mshape\u001b[49m\u001b[43m[\u001b[49m\u001b[32;43m0\u001b[39;49m\u001b[43m:\u001b[49m\u001b[32;43m2\u001b[39;49m\u001b[43m]\u001b[49m\u001b[43m/\u001b[49m\u001b[32;43m4\u001b[39;49m) + (\u001b[32m3\u001b[39m,), np.uint8) * \u001b[32m255\u001b[39m\n",
      "\u001b[31mTypeError\u001b[39m: unsupported operand type(s) for /: 'tuple' and 'int'"
     ]
    }
   ],
   "source": [
    "bg_src = np.ones((img.shape[0:2]/4) + (3,), np.uint8) * 255"
   ]
  },
  {
   "cell_type": "code",
   "execution_count": 8,
   "id": "7d2a86ca",
   "metadata": {},
   "outputs": [],
   "source": [
    "import numpy as np\n",
    "import cv2\n",
    "\n",
    "img = np.zeros((700, 700, 3), dtype=np.uint8)\n",
    "center = (350, 350)\n",
    "radius = 300\n",
    "angle_half = 15\n",
    "num_angles = 12\n",
    "angle_step = 360 / num_angles\n",
    "inner_length = 100  # 尖角內部線段長度，可調整\n",
    "\n",
    "def get_point(center, length, angle_deg):\n",
    "    angle_rad = np.deg2rad(angle_deg)\n",
    "    x = int(center[0] + length * np.cos(angle_rad))\n",
    "    y = int(center[1] - length * np.sin(angle_rad))\n",
    "    return (x, y)\n",
    "\n",
    "for i in range(num_angles):\n",
    "    vertex_angle = i * angle_step\n",
    "    vertex = get_point(center, radius, vertex_angle)  # 300距離圓心點(第一頂點)\n",
    "\n",
    "    # 兩條邊角度：頂點角度加減15度，方向往中心方向 (反方向長度100)\n",
    "    side_angle1 = vertex_angle + 180 - angle_half\n",
    "    side_angle2 = vertex_angle + 180 + angle_half\n",
    "\n",
    "    side_point1 = get_point(vertex, inner_length, side_angle1)\n",
    "    side_point2 = get_point(vertex, inner_length, side_angle2)\n",
    "\n",
    "    # 三角形頂點座標（第一頂點 + 往內兩邊點）\n",
    "    triangle = np.array([vertex, side_point1, side_point2], dtype=np.int32).reshape((-1,1,2))\n",
    "\n",
    "    cv2.fillPoly(img, [triangle], (255, 255, 255))\n",
    "\n",
    "cv2.circle(img, center, 5, (0, 0, 255), -1)\n",
    "cv2.imshow(\"Outer Vertex 300\", img)\n",
    "cv2.waitKey(0)\n",
    "cv2.destroyAllWindows()\n"
   ]
  }
 ],
 "metadata": {
  "kernelspec": {
   "display_name": "yzu_CV",
   "language": "python",
   "name": "python3"
  },
  "language_info": {
   "codemirror_mode": {
    "name": "ipython",
    "version": 3
   },
   "file_extension": ".py",
   "mimetype": "text/x-python",
   "name": "python",
   "nbconvert_exporter": "python",
   "pygments_lexer": "ipython3",
   "version": "3.13.5"
  }
 },
 "nbformat": 4,
 "nbformat_minor": 5
}
