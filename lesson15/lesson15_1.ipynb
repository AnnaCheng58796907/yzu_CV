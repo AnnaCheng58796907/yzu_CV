{
 "cells": [
  {
   "cell_type": "code",
   "execution_count": null,
   "id": "7899db11",
   "metadata": {},
   "outputs": [],
   "source": [
    "# opencv攝影功能\n",
    "import cv2\n",
    "\n",
    "api_preference = cv2.CAP_DSHOW\n",
    "capture = cv2.VideoCapture(1, api_preference)    # 初始化攝影功能\n",
    "while (capture.isOpened()):\n",
    "    ret, frame = capture.read()  # 讀取攝影機的影像\n",
    "    cv2.imshow('Frame', frame)   # 顯示攝影機的影像\n",
    "    c = cv2.waitKey(1)           # 等待時機 1 毫秒\n",
    "    if c == 27:                  # 若按 Esc 鍵,結束           \n",
    "        break\n",
    "capture.release()                # 關閉攝影功能\n",
    "cv2.destroyAllWindows()   "
   ]
  },
  {
   "cell_type": "code",
   "execution_count": 16,
   "id": "b79ed1dc",
   "metadata": {},
   "outputs": [],
   "source": [
    "# opencv攝影功能-2台並存\n",
    "import cv2\n",
    "\n",
    "api_preference = cv2.CAP_DSHOW\n",
    "capture0 = cv2.VideoCapture(0, api_preference)    # 初始化攝影功能\n",
    "capture1 = cv2.VideoCapture(1, api_preference)    # 初始化攝影功能\n",
    "while (capture0.isOpened() & capture1.isOpened()):\n",
    "    ret0, frame0 = capture0.read()  # 讀取攝影機的影像\n",
    "    cv2.imshow('Frame0', frame0)   # 顯示攝影機的影像\n",
    "    ret1, frame1 = capture1.read()  # 讀取攝影機的影像\n",
    "    cv2.imshow('Frame1', frame1)   # 顯示攝影機的影像\n",
    "    c = cv2.waitKey(1)           # 等待時機 1 毫秒\n",
    "    if c == 27:                  # 若按 Esc 鍵,結束           \n",
    "        break\n",
    "capture.release()                # 關閉攝影功能\n",
    "cv2.destroyAllWindows()   "
   ]
  },
  {
   "cell_type": "code",
   "execution_count": null,
   "id": "2f92d235",
   "metadata": {},
   "outputs": [],
   "source": [
    "# opencv攝影功能-轉灰階\n",
    "import cv2\n",
    "\n",
    "api_preference = cv2.CAP_DSHOW\n",
    "capture = cv2.VideoCapture(1, api_preference)               # 初始化攝影功能\n",
    "while (capture.isOpened()):\n",
    "    ret, frame = capture.read()                             # 讀取攝影機的影像\n",
    "    cv2.imshow('Frame', frame)                              # 顯示彩色影像\n",
    "    gray_frame = cv2.cvtColor(frame, cv2.COLOR_BGR2GRAY)    # 轉灰階顯示\n",
    "    cv2.imshow(\"Gray Frame\", gray_frame)                    # 顯示灰階影像\n",
    "    c = cv2.waitKey(1)                                      # 等待時間 1 毫秒\n",
    "    if c == 27:                                             # 若按 Esc 鍵,結束           \n",
    "        break\n",
    "capture.release()                                           # 關閉攝影功能\n",
    "cv2.destroyAllWindows()"
   ]
  },
  {
   "cell_type": "code",
   "execution_count": null,
   "id": "ac960faf",
   "metadata": {},
   "outputs": [],
   "source": [
    "# opencv攝影功能-flip()翻轉影像\n",
    "import cv2\n",
    "\n",
    "api_preference = cv2.CAP_DSHOW\n",
    "capture = cv2.VideoCapture(1, api_preference)               # 初始化攝影功能\n",
    "while (capture.isOpened()):\n",
    "    ret, frame = capture.read()                             # 讀取攝影機的影像\n",
    "    cv2.imshow('Frame', frame)                              # 顯示彩色影像\n",
    "    h_frame = cv2.flip(frame, 1)                            # 水平翻轉顯示\n",
    "    cv2.imshow(\"Flip Frame\", h_frame)                       # 顯示水平翻轉\n",
    "    c = cv2.waitKey(1)                                      # 等待時間 1 毫秒\n",
    "    if c == 27:                                             # 若按 Esc 鍵,結束           \n",
    "        break\n",
    "capture.release()                                           # 關閉攝影功能\n",
    "cv2.destroyAllWindows()"
   ]
  },
  {
   "cell_type": "code",
   "execution_count": null,
   "id": "9e0d1eba",
   "metadata": {},
   "outputs": [],
   "source": [
    "# opencv攝影功能-使用imwrite()儲存當下的影像\n",
    "import cv2\n",
    "\n",
    "api_preference = cv2.CAP_DSHOW\n",
    "capture = cv2.VideoCapture(1, api_preference)               # 初始化攝影功能\n",
    "while (capture.isOpened()):\n",
    "    ret, frame = capture.read()                             # 讀取攝影機的影像\n",
    "    cv2.imshow('Frame', frame)                              # 顯示彩色影像\n",
    "    c = cv2.waitKey(1)                                      # 等待時間 1 毫秒\n",
    "    if c == 13:\n",
    "        cv2.imwrite(\"mypict.png\", frame)                    # 拍照\n",
    "        cv2.imshow('My Picture', frame)\n",
    "    if c == 27:                                             # 若按 Esc 鍵,結束           \n",
    "        break\n",
    "capture.release()                                           # 關閉攝影功能\n",
    "cv2.destroyAllWindows()"
   ]
  },
  {
   "cell_type": "markdown",
   "id": "a4fdf8a5",
   "metadata": {},
   "source": [
    "#### 四字元編碼 (Four Character Code，簡稱 fourcc)\n",
    "* 用途：用來指定影片壓縮的編碼器(codec)，決定輸出的影片檔案格式與壓縮方式。\n",
    "* 形式：由4 個字元組成(ASCII 字元)。\n",
    "* 常見的fourcc 編碼：\n",
    "    * XVID：Xvid MPEG-4 編碼，常用於 .avi 檔。\n",
    "    * mp4v：MPEG-4 編碼，用於.mp4 檔。\n",
    "    * X264 或avc1：H.264/MPEG-4 AVC\n",
    "    * DIVX：DivX MPEG-4 編碼\n",
    "    * MJPG：Motion-JPEG，每一張 frame 都是 JPEG 影像。"
   ]
  },
  {
   "cell_type": "code",
   "execution_count": null,
   "id": "06a55e17",
   "metadata": {},
   "outputs": [],
   "source": [
    "# 使用VideoWriter 類別執行錄影，儲存為avi 檔\n",
    "import cv2\n",
    "\n",
    "api_preference = cv2.CAP_DSHOW\n",
    "capture = cv2.VideoCapture(1, api_preference)          # 初始化攝影功能\n",
    "fourcc = cv2.VideoWriter_fourcc(*'XVID')  # MPEG-4\n",
    "# 建立輸出物件\n",
    "video_out = cv2.VideoWriter('out15_5.avi', fourcc, 30, (640, 480))\n",
    "while (capture.isOpened()):\n",
    "    ret, frame = capture.read()\n",
    "    if ret:\n",
    "        video_out.write(frame)       # 寫入影片物件\n",
    "        cv2.imshow('frame', frame)     # 顯示攝影鏡頭的影像\n",
    "    c = cv2.waitKey(1)           # 等待時間1 毫秒\n",
    "    if c == 27:               # 若按Esc 鍵, 結束\n",
    "        break\n",
    "capture.release()              # 關閉攝影功能\n",
    "video_out.release()             # 關閉輸出物件\n",
    "cv2.destroyAllWindows()"
   ]
  },
  {
   "cell_type": "code",
   "execution_count": null,
   "id": "171452ae",
   "metadata": {},
   "outputs": [],
   "source": [
    "# 使用VideoWriter 類別執行錄影，儲存為mp4 檔\n",
    "import cv2\n",
    "\n",
    "api_preference = cv2.CAP_DSHOW\n",
    "capture = cv2.VideoCapture(1, api_preference)        # 初始化攝影功能\n",
    "fourcc = cv2.VideoWriter_fourcc(*'mp4v')  # MPEG-4\n",
    "# 建立輸出物件\n",
    "video_out = cv2.VideoWriter('out15_6.mp4', fourcc, 30, (640, 480))\n",
    "while (capture.isOpened()):\n",
    "    ret, frame = capture.read()\n",
    "    if ret:\n",
    "        video_out.write(frame)       # 寫入影片物件\n",
    "        cv2.imshow('frame', frame)     # 顯示攝影鏡頭的影像\n",
    "    c = cv2.waitKey(1)           # 等待時間1 毫秒\n",
    "    if c == 27:               # 若按Esc 鍵, 結束\n",
    "        break\n",
    "capture.release()              # 關閉攝影功能\n",
    "video_out.release()             # 關閉輸出物件\n",
    "cv2.destroyAllWindows()"
   ]
  },
  {
   "cell_type": "code",
   "execution_count": null,
   "id": "dcd123a2",
   "metadata": {},
   "outputs": [],
   "source": [
    "# 使用VideoCapture 類別播放avi 錄影檔\n",
    "import cv2\n",
    "\n",
    "video = cv2.VideoCapture('out15_5.avi')   # \n",
    "while (video.isOpened()):\n",
    "    ret, frame = video.read()        \n",
    "    if ret:\n",
    "        cv2.imshow('frame', frame)     \n",
    "    else:\n",
    "        break\n",
    "    c = cv2.waitKey(50)           \n",
    "    if c == 27:               \n",
    "        break\n",
    "video.release()               \n",
    "cv2.destroyAllWindows()"
   ]
  }
 ],
 "metadata": {
  "kernelspec": {
   "display_name": "yzu_CV",
   "language": "python",
   "name": "python3"
  },
  "language_info": {
   "codemirror_mode": {
    "name": "ipython",
    "version": 3
   },
   "file_extension": ".py",
   "mimetype": "text/x-python",
   "name": "python",
   "nbconvert_exporter": "python",
   "pygments_lexer": "ipython3",
   "version": "3.13.5"
  }
 },
 "nbformat": 4,
 "nbformat_minor": 5
}
