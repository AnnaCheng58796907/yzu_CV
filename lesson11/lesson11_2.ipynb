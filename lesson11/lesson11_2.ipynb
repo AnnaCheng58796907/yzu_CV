{
 "cells": [
  {
   "cell_type": "code",
   "execution_count": null,
   "id": "1d880460",
   "metadata": {},
   "outputs": [
    {
     "name": "stdout",
     "output_type": "stream",
     "text": [
      "左上角 x = 66, 左上角 y = 39\n",
      "矩形寬度 = 178\n",
      "矩形高度 = 100\n"
     ]
    }
   ],
   "source": [
    "# 外接矩形\n",
    "import cv2\n",
    "\n",
    "src = cv2.imread(\"explode1.jpg\")\n",
    "cv2.imshow(\"src\", src)\n",
    "src_gray = cv2.cvtColor(src, cv2.COLOR_BGR2GRAY)\n",
    "_, dst_binary = cv2.threshold(src_gray, 127, 255, cv2.THRESH_BINARY)\n",
    "contours, _ = cv2.findContours(dst_binary,\n",
    "                               cv2.RETR_LIST,\n",
    "                               cv2.CHAIN_APPROX_SIMPLE)\n",
    "# 取得外接矩形,格式為元組(tuple)\n",
    "rect = cv2.boundingRect(contours[0])\n",
    "# 列出外接矩形的所有細項\n",
    "x, y, w, h = rect\n",
    "print(f\"左上角 x = {x}, 左上角 y = {y}\")\n",
    "print(f\"矩形寬度 = {w}\")\n",
    "print(f\"矩形高度 = {h}\")\n",
    "dst = cv2.rectangle(src, (x, y), (x+w, y+h), (0, 255, 255), 2)\n",
    "cv2.imshow(\"dst\", dst)\n",
    "cv2.waitKey(0)\n",
    "cv2.destroyAllWindows()\n"
   ]
  },
  {
   "cell_type": "code",
   "execution_count": 2,
   "id": "f34ee74e",
   "metadata": {},
   "outputs": [
    {
     "name": "stdout",
     "output_type": "stream",
     "text": [
      "最小外接矩形的中心點、寬、高、旋轉角度 = \n",
      " ((154.83755493164062, 88.25508880615234), (91.39300537109375, 174.26780700683594), 56.449337005615234)\n",
      "轉換後的矩形頂角 = \n",
      " [[ 56  98]\n",
      " [202   2]\n",
      " [252  78]\n",
      " [107 174]]\n"
     ]
    }
   ],
   "source": [
    "# 外接矩形\n",
    "import cv2\n",
    "import numpy as np\n",
    "\n",
    "src = cv2.imread(\"explode2.jpg\")\n",
    "cv2.imshow(\"src\", src)\n",
    "src_gray = cv2.cvtColor(src, cv2.COLOR_BGR2GRAY)\n",
    "_, dst_binary = cv2.threshold(src_gray, 127, 255, cv2.THRESH_BINARY)\n",
    "contours, _ = cv2.findContours(dst_binary,\n",
    "                               cv2.RETR_LIST,\n",
    "                               cv2.CHAIN_APPROX_SIMPLE)\n",
    "box = cv2.minAreaRect(contours[0])      # 取得最小外接矩形\n",
    "print(f\"最小外接矩形的中心點、寬、高、旋轉角度 = \\n {box}\")\n",
    "points = cv2.boxPoints(box)             # 找出頂點座標\n",
    "points = np.int32(points)               # 轉為整數\n",
    "# 調整頂點格式\n",
    "print(f\"轉換後的矩形頂角 = \\n {points}\")\n",
    "dst = cv2.drawContours(src, [points], 0, (0, 255, 0), 2)\n",
    "cv2.imshow(\"dst\", dst)\n",
    "cv2.waitKey(0)\n",
    "cv2.destroyAllWindows()\n"
   ]
  },
  {
   "cell_type": "code",
   "execution_count": 2,
   "id": "6eea61f7",
   "metadata": {},
   "outputs": [
    {
     "name": "stdout",
     "output_type": "stream",
     "text": [
      "最小外接圓的圓心、半徑 = \n",
      " ((152.2089080810547, 123.05834197998047), 90.02757263183594)\n"
     ]
    }
   ],
   "source": [
    "# 外接圓\n",
    "import cv2\n",
    "\n",
    "src = cv2.imread(\"explode3.jpg\")\n",
    "cv2.imshow(\"src\", src)\n",
    "src_gray = cv2.cvtColor(src, cv2.COLOR_BGR2GRAY)\n",
    "_, dst_binary = cv2.threshold(src_gray, 127, 255, cv2.THRESH_BINARY)\n",
    "contours, _ = cv2.findContours(dst_binary,\n",
    "                               cv2.RETR_LIST,\n",
    "                               cv2.CHAIN_APPROX_SIMPLE)\n",
    "circle = cv2.minEnclosingCircle(contours[0])        # 取得最小外接圓\n",
    "print(f\"最小外接圓的圓心、半徑 = \\n {circle}\")\n",
    "(x, y), radius = circle\n",
    "center = (int(x), int(y))                           # 圓中心座標取整數\n",
    "radius = int(radius)                                # 圓半徑取整數\n",
    "dst = cv2.circle(src, center, radius, (0, 255, 255), 2) # 繪製最小外接圓\n",
    "cv2.imshow(\"dst\", dst)\n",
    "cv2.waitKey(0)\n",
    "cv2.destroyAllWindows()\n"
   ]
  },
  {
   "cell_type": "code",
   "execution_count": 3,
   "id": "e87bbfa3",
   "metadata": {},
   "outputs": [
    {
     "name": "stdout",
     "output_type": "stream",
     "text": [
      "擬合橢圓的內容 = ((226.74420166015625, 139.14651489257812), (131.7815399169922, 326.1377868652344), 70.7343978881836)\n",
      "擬合橢圓的資料型態 = <class 'tuple'>\n",
      "橢圓中心點 = (226.74420166015625, 139.14651489257812)\n",
      "長短軸直徑 = (131.7815399169922, 326.1377868652344)\n",
      "旋轉角度 = 70.7343978881836\n"
     ]
    }
   ],
   "source": [
    "# 橢圓擬合\n",
    "import cv2\n",
    "\n",
    "src = cv2.imread(\"cloud.jpg\")\n",
    "cv2.imshow(\"src\", src)\n",
    "src_gray = cv2.cvtColor(src, cv2.COLOR_BGR2GRAY)\n",
    "_, dst_binary = cv2.threshold(src_gray, 127, 255, cv2.THRESH_BINARY)\n",
    "contours, _ = cv2.findContours(dst_binary,\n",
    "                               cv2.RETR_EXTERNAL,\n",
    "                               cv2.CHAIN_APPROX_SIMPLE)\n",
    "ellipse = cv2.fitEllipse(contours[0])           # 取得擬合橢圓\n",
    "print(f\"擬合橢圓的內容 = {ellipse}\")\n",
    "print(f\"擬合橢圓的資料型態 = {type(ellipse)}\")\n",
    "print(f\"橢圓中心點 = {ellipse[0]}\")\n",
    "print(f\"長短軸直徑 = {ellipse[1]}\")\n",
    "print(f\"旋轉角度 = {ellipse[2]}\")\n",
    "dst = cv2.ellipse(src, ellipse, (0, 255, 0), 2) # 繪製擬合橢圓\n",
    "cv2.imshow(\"dst\", dst)\n",
    "cv2.waitKey(0)\n",
    "cv2.destroyAllWindows()\n"
   ]
  },
  {
   "cell_type": "code",
   "execution_count": 1,
   "id": "96434cbe",
   "metadata": {},
   "outputs": [
    {
     "name": "stdout",
     "output_type": "stream",
     "text": [
      "三角形面積 = 15638.060546875\n",
      "三角形頂點座標資料類型 = <class 'numpy.ndarray'>\n",
      "三角頂點座標 = \n",
      "[[[361.3784   115.48649 ]]\n",
      "\n",
      " [[ 63.809917  35.371902]]\n",
      "\n",
      " [[176.73334  170.88    ]]]\n"
     ]
    }
   ],
   "source": [
    "# 外接三角形\n",
    "import cv2\n",
    "import numpy as np\n",
    "\n",
    "src = cv2.imread(\"heart.jpg\")\n",
    "cv2.imshow(\"src\", src)\n",
    "src_gray = cv2.cvtColor(src, cv2.COLOR_BGR2GRAY)\n",
    "_, dst_binary = cv2.threshold(src_gray, 127, 255, cv2.THRESH_BINARY)\n",
    "contours, _ = cv2.findContours(dst_binary,\n",
    "                               cv2.RETR_LIST,\n",
    "                               cv2.CHAIN_APPROX_SIMPLE)\n",
    "area, triangle = cv2.minEnclosingTriangle(contours[0])  # 取得外接三角形\n",
    "print(f\"三角形面積 = {area}\")\n",
    "print(f\"三角形頂點座標資料類型 = {type(triangle)}\")\n",
    "print(f\"三角頂點座標 = \\n{triangle}\")\n",
    "triangle = np.int32(triangle)                           # 轉整數\n",
    "dst = cv2.line(src, tuple(triangle[0][0]),\n",
    "               tuple(triangle[1][0]), (0, 255, 0), 2)\n",
    "dst = cv2.line(src, tuple(triangle[1][0]),\n",
    "               tuple(triangle[2][0]), (0, 255, 0), 2)\n",
    "dst = cv2.line(src, tuple(triangle[0][0]),\n",
    "               tuple(triangle[2][0]), (0, 255, 0), 2)\n",
    "cv2.imshow(\"dst\", dst)\n",
    "cv2.waitKey(0)\n",
    "cv2.destroyAllWindows()\n"
   ]
  },
  {
   "cell_type": "code",
   "execution_count": 2,
   "id": "aa74a982",
   "metadata": {},
   "outputs": [],
   "source": [
    "# 多邊形近似\n",
    "import cv2\n",
    "\n",
    "src = cv2.imread(\"multiple.jpg\")\n",
    "cv2.imshow(\"src\", src)\n",
    "src_gray = cv2.cvtColor(src, cv2.COLOR_BGR2GRAY)\n",
    "_, dst_binary = cv2.threshold(src_gray, 127, 255, cv2.THRESH_BINARY)\n",
    "contours, _ = cv2.findContours(dst_binary,\n",
    "                               cv2.RETR_LIST,\n",
    "                               cv2.CHAIN_APPROX_SIMPLE)\n",
    "n = len(contours)                                   # 輪廓數量\n",
    "src1 = src.copy()                                   # 複製src影像\n",
    "src2 = src.copy()                                   # 複製src影像\n",
    "for i in range(n):\n",
    "    approx = cv2.approxPolyDP(contours[i], 3, True) # epsilon = 3\n",
    "    dst1 = cv2.polylines(src1, [approx], True, (0, 255, 0), 2)  # dst1\n",
    "    approx = cv2.approxPolyDP(contours[i], 15, True)    # epsilon = 15\n",
    "    dst2 = cv2.polylines(src2, [approx], True, (0, 255, 0), 2)  # dst2\n",
    "cv2.imshow(\"dst1: epsilon = 3\", dst1)\n",
    "cv2.imshow(\"dst2: epsilon = 15\", dst2)\n",
    "cv2.waitKey(0)\n",
    "cv2.destroyAllWindows()\n"
   ]
  },
  {
   "cell_type": "code",
   "execution_count": 1,
   "id": "c04273fb",
   "metadata": {},
   "outputs": [
    {
     "name": "stdout",
     "output_type": "stream",
     "text": [
      "共線正規化向量 = 0.9303163886070251, -0.36675795912742615\n",
      "直線經過的點 = 165.3821563720703, 96.8993148803711\n"
     ]
    }
   ],
   "source": [
    "# 直線擬合\n",
    "import cv2\n",
    "\n",
    "src = cv2.imread(\"unregular.jpg\")\n",
    "cv2.imshow(\"src\", src)\n",
    "src_gray = cv2.cvtColor(src, cv2.COLOR_BGR2GRAY)\n",
    "_, dst_binary = cv2.threshold(src_gray, 127, 255, cv2.THRESH_BINARY)\n",
    "contours, _ = cv2.findContours(dst_binary,\n",
    "                               cv2.RETR_LIST,\n",
    "                               cv2.CHAIN_APPROX_SIMPLE)\n",
    "rows, cols = src.shape[:2]\n",
    "vx, vy, x, y =cv2.fitLine(contours[0], cv2.DIST_L2, 0, 0.01, 0.01)\n",
    "# 從陣列中讀取數值，避免警告\n",
    "vx = vx.item()\n",
    "vy = vy.item()\n",
    "x = x.item()\n",
    "y = y.item()\n",
    "print(f\"共線正規化向量 = {vx}, {vy}\")\n",
    "print(f\"直線經過的點 = {x}, {y}\")\n",
    "lefty = int((-x * vy / vx) + y)         #左邊點的y座標\n",
    "righty = int(((cols - x) * vy / vx) + y)    # 右邊點的y座標\n",
    "dst = cv2.line(src, (0, lefty), (cols-1, righty), (0, 255, 0), 2)\n",
    "cv2.imshow(\"dst\", dst)\n",
    "cv2.waitKey(0)\n",
    "cv2.destroyAllWindows()\n"
   ]
  },
  {
   "cell_type": "code",
   "execution_count": 2,
   "id": "5f5865da",
   "metadata": {},
   "outputs": [],
   "source": [
    "# 凸包\n",
    "import cv2\n",
    "\n",
    "src = cv2.imread(\"heart1.jpg\")\n",
    "cv2.imshow(\"src\", src)\n",
    "src_gray = cv2.cvtColor(src, cv2.COLOR_BGR2GRAY)\n",
    "_, dst_binary = cv2.threshold(src_gray, 127, 255, cv2.THRESH_BINARY)\n",
    "contours, _ = cv2.findContours(dst_binary,\n",
    "                               cv2.RETR_LIST,\n",
    "                               cv2.CHAIN_APPROX_SIMPLE)\n",
    "hull = cv2.convexHull(contours[0])                      # 找出凸包點\n",
    "dst = cv2.polylines(src, [hull], True, (0, 255, 0), 2)  # 把凸包連線\n",
    "cv2.imshow(\"dst\", dst)\n",
    "cv2.waitKey(0)\n",
    "cv2.destroyAllWindows()\n"
   ]
  },
  {
   "cell_type": "code",
   "execution_count": null,
   "id": "53a1d25e",
   "metadata": {},
   "outputs": [],
   "source": [
    "# 凸包\n",
    "import cv2\n",
    "\n",
    "src = cv2.imread(\"hand1.jpg\")\n",
    "cv2.imshow(\"src\", src)\n",
    "src_gray = cv2.cvtColor(src, cv2.COLOR_BGR2GRAY)\n",
    "_, dst_binary = cv2.threshold(src_gray, 127, 255, cv2.THRESH_BINARY)\n",
    "contours, _ = cv2.findContours(dst_binary,\n",
    "                               cv2.RETR_LIST,\n",
    "                               cv2.CHAIN_APPROX_SIMPLE)\n",
    "hull = cv2.convexHull(contours[0])                      # 找出凸包點\n",
    "dst = cv2.polylines(src, [hull], True, (0, 255, 0), 2)  # 把凸包連線\n",
    "cv2.imshow(\"dst\", dst)\n",
    "cv2.waitKey(0)\n",
    "cv2.destroyAllWindows()\n"
   ]
  },
  {
   "cell_type": "code",
   "execution_count": 2,
   "id": "791aaeef",
   "metadata": {},
   "outputs": [
    {
     "name": "stdout",
     "output_type": "stream",
     "text": [
      "凸包面積 = 53848.0\n"
     ]
    }
   ],
   "source": [
    "# 凸包-計算手勢的凸包面積\n",
    "import cv2\n",
    "\n",
    "src = cv2.imread(\"hand1.jpg\")\n",
    "cv2.imshow(\"src\", src)\n",
    "src_gray = cv2.cvtColor(src, cv2.COLOR_BGR2GRAY)\n",
    "_, dst_binary = cv2.threshold(src_gray, 127, 255, cv2.THRESH_BINARY)\n",
    "contours, _ = cv2.findContours(dst_binary,\n",
    "                               cv2.RETR_LIST,\n",
    "                               cv2.CHAIN_APPROX_SIMPLE)\n",
    "hull = cv2.convexHull(contours[0])                      # 找出凸包點\n",
    "dst = cv2.polylines(src, [hull], True, (0, 255, 0), 2)  # 把凸包連線\n",
    "cv2.imshow(\"dst\", dst)\n",
    "convex_area = cv2.contourArea(hull)\n",
    "print(f\"凸包面積 = {convex_area}\")\n",
    "cv2.waitKey(0)\n",
    "cv2.destroyAllWindows()"
   ]
  },
  {
   "cell_type": "code",
   "execution_count": 1,
   "id": "9ac836d6",
   "metadata": {},
   "outputs": [],
   "source": [
    "# 凸包-找出手勢的多層凸包\n",
    "import cv2\n",
    "\n",
    "src = cv2.imread(\"hand2.jpg\")\n",
    "cv2.imshow(\"src\", src)\n",
    "src_gray = cv2.cvtColor(src, cv2.COLOR_BGR2GRAY)\n",
    "_, dst_binary = cv2.threshold(src_gray, 127, 255, cv2.THRESH_BINARY)\n",
    "contours, _ = cv2.findContours(dst_binary,\n",
    "                               cv2.RETR_LIST,\n",
    "                               cv2.CHAIN_APPROX_SIMPLE)\n",
    "n = len(contours)\n",
    "for i in range(n):\n",
    "    hull = cv2.convexHull(contours[i])\n",
    "    dst = cv2.polylines(src, [hull], True, (0, 255, 0), 2)\n",
    "cv2.imshow(\"dst\", dst)\n",
    "cv2.waitKey(0)\n",
    "cv2.destroyAllWindows()"
   ]
  }
 ],
 "metadata": {
  "kernelspec": {
   "display_name": "yzu_CV",
   "language": "python",
   "name": "python3"
  },
  "language_info": {
   "codemirror_mode": {
    "name": "ipython",
    "version": 3
   },
   "file_extension": ".py",
   "mimetype": "text/x-python",
   "name": "python",
   "nbconvert_exporter": "python",
   "pygments_lexer": "ipython3",
   "version": "3.13.5"
  }
 },
 "nbformat": 4,
 "nbformat_minor": 5
}
