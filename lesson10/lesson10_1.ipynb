{
 "cells": [
  {
   "cell_type": "code",
   "execution_count": 1,
   "id": "9644fd36",
   "metadata": {},
   "outputs": [],
   "source": [
    "# 影像梯度(濾波器)\n",
    "# Sober()、Scharr()、Laplacian()\n",
    "# x軸方向梯度\n",
    "import cv2\n",
    "src = cv2.imread(\"map.jpg\")\n",
    " # 計算 x 軸方向的影像梯度\n",
    "dst = cv2.Sobel(src, -1, 1, 0)\n",
    "cv2.imshow(\"Src\", src)\n",
    "cv2.imshow(\"Dst\", dst)\n",
    "cv2.waitKey(0)\n",
    "cv2.destroyAllWindows()\n"
   ]
  },
  {
   "cell_type": "code",
   "execution_count": 2,
   "id": "321acc25",
   "metadata": {},
   "outputs": [],
   "source": [
    "# 影像梯度(濾波器)\n",
    "# Sober()、Scharr()、Laplacian()\n",
    "# x軸方向梯度\n",
    "import cv2\n",
    "src = cv2.imread(\"map.jpg\")\n",
    " # 計算 x 軸方向的影像梯度\n",
    "dst = cv2.Sobel(src, cv2.CV_32F, 1, 0)\n",
    " # 把負值轉為正值\n",
    "dst = cv2.convertScaleAbs(dst)\n",
    "cv2.imshow(\"Src\", src)\n",
    "cv2.imshow(\"Dst\", dst)\n",
    "cv2.waitKey(0)\n",
    "cv2.destroyAllWindows()"
   ]
  },
  {
   "cell_type": "code",
   "execution_count": 1,
   "id": "3912c8a5",
   "metadata": {},
   "outputs": [],
   "source": [
    "# 影像梯度(濾波器)\n",
    "# Sober()、Scharr()、Laplacian()\n",
    "# y軸方向梯度\n",
    "import cv2\n",
    "src = cv2.imread(\"map.jpg\")\n",
    " # 計算 y 軸方向的影像梯度\n",
    "dst = cv2.Sobel(src, cv2.CV_32F, 0, 1)\n",
    " # 把負值轉為正值\n",
    "dst = cv2.convertScaleAbs(dst)\n",
    "cv2.imshow(\"Src\", src)\n",
    "cv2.imshow(\"Dst\", dst)\n",
    "cv2.waitKey(0)\n",
    "cv2.destroyAllWindows()\n"
   ]
  },
  {
   "cell_type": "code",
   "execution_count": 1,
   "id": "68cd33f2",
   "metadata": {},
   "outputs": [],
   "source": [
    "# 影像梯度(濾波器)\n",
    "# Sober()、Scharr()、Laplacian()\n",
    "# 影像融合\n",
    "import cv2\n",
    "\n",
    "src = cv2.imread(\"map.jpg\")\n",
    " # 計算 x 軸方向的影像梯度\n",
    "dstx = cv2.Sobel(src, cv2.CV_32F, 1, 0)\n",
    " # 計算 y 軸方向的影像梯度\n",
    "dsty = cv2.Sobel(src, cv2.CV_32F, 0, 1)\n",
    " # 把負值轉為正值\n",
    "dstx = cv2.convertScaleAbs(dstx)\n",
    "dsty = cv2.convertScaleAbs(dsty)\n",
    " # 影像融合\n",
    "dst = cv2.addWeighted(dstx, 0.5, dsty, 0.5, 0)\n",
    "cv2.imshow(\"Src\", src)\n",
    "cv2.imshow(\"Dst\", dst)\n",
    "cv2.waitKey(0)\n",
    "cv2.destroyAllWindows()"
   ]
  },
  {
   "cell_type": "code",
   "execution_count": 2,
   "id": "664213db",
   "metadata": {},
   "outputs": [],
   "source": [
    "# 影像梯度(濾波器)\n",
    "# Sober()、Scharr()、Laplacian()\n",
    "# 影像融合\n",
    "import cv2\n",
    "\n",
    "src = cv2.imread(\"leclerc.png\")\n",
    "dstx = cv2.Sobel(src, cv2.CV_32F, 1, 0)\n",
    "dsty = cv2.Sobel(src, cv2.CV_32F, 0, 1)\n",
    "dstx = cv2.convertScaleAbs(dstx)\n",
    "dsty = cv2.convertScaleAbs(dsty)\n",
    "dst = cv2.addWeighted(dstx, 0.5, dsty, 0.5, 0)\n",
    "cv2.imshow(\"Src\", src)\n",
    "cv2.imshow(\"DstX\", dstx)\n",
    "cv2.imshow(\"DstY\", dsty)\n",
    "cv2.imshow(\"Dst\", dst)\n",
    "cv2.waitKey(0)\n",
    "cv2.destroyAllWindows()"
   ]
  },
  {
   "cell_type": "code",
   "execution_count": 1,
   "id": "84265485",
   "metadata": {},
   "outputs": [],
   "source": [
    "# 影像梯度(濾波器)\n",
    "# Sober()、Scharr()、Laplacian()\n",
    "# Sober()比較Scharr()\n",
    "import cv2\n",
    " # Sobel\n",
    "src = cv2.imread(\"leclerc.png\")\n",
    "dstx = cv2.Sobel(src, cv2.CV_32F, 1, 0)\n",
    "dsty = cv2.Sobel(src, cv2.CV_32F, 0, 1)\n",
    "dstx = cv2.convertScaleAbs(dstx)\n",
    "dsty = cv2.convertScaleAbs(dsty)\n",
    "dst_sobel = cv2.addWeighted(dstx, 0.5, dsty, 0.5, 0)\n",
    " # Scharr\n",
    "dstx = cv2.Scharr(src, cv2.CV_32F, 1, 0)\n",
    "sty = cv2.Scharr(src, cv2.CV_32F, 0, 1)\n",
    "dstx = cv2.convertScaleAbs(dstx)\n",
    "dsty = cv2.convertScaleAbs(dsty)\n",
    "dst_scharr = cv2.addWeighted(dstx, 0.5, dsty, 0.5, 0)\n",
    "cv2.imshow(\"Src\", src)\n",
    "cv2.imshow(\"Sobel\", dst_sobel)\n",
    "cv2.imshow(\"Scharr\", dst_scharr)\n",
    "cv2.waitKey(0)\n",
    "cv2.destroyAllWindows()"
   ]
  },
  {
   "cell_type": "code",
   "execution_count": 2,
   "id": "ce68c87c",
   "metadata": {},
   "outputs": [],
   "source": [
    "# 影像梯度(濾波器)\n",
    "# Sober()、Scharr()、Laplacian()\n",
    "# Laplacian()採用二階微分\n",
    "import cv2\n",
    "src = cv2.imread(\"laplacian.jpg\")\n",
    "dst_tmp = cv2.Laplacian(src, cv2.CV_32F)\n",
    "dst = cv2.convertScaleAbs(dst_tmp)\n",
    "cv2.imshow(\"Src\", src)\n",
    "cv2.imshow(\"Dst\", dst)\n",
    "cv2.waitKey(0)\n",
    "cv2.destroyAllWindows()"
   ]
  },
  {
   "cell_type": "code",
   "execution_count": 1,
   "id": "263a81f1",
   "metadata": {},
   "outputs": [],
   "source": [
    "# Canny() 邊緣檢測\n",
    "import cv2\n",
    "src = cv2.imread(\"leclerc.png\", cv2.IMREAD_GRAYSCALE)\n",
    "dst1 = cv2.Canny(src, 50, 100)  # minVal = 50, maxVal = 100\n",
    "dst2 = cv2.Canny(src, 50, 200)  # minVal = 50, maxVal = 200\n",
    "cv2.imshow(\"Src\", src)\n",
    "cv2.imshow(\"Dst1\", dst1)\n",
    "cv2.imshow(\"Dst2\", dst2)\n",
    "cv2.waitKey(0)\n",
    "cv2.destroyAllWindows()"
   ]
  },
  {
   "cell_type": "code",
   "execution_count": null,
   "id": "6463c621",
   "metadata": {},
   "outputs": [
    {
     "name": "stdout",
     "output_type": "stream",
     "text": [
      "src.shape = (487, 339, 3)\n",
      "dst1.shape = (244, 170, 3)\n",
      "dst2.shape = (122, 85, 3)\n",
      "dst3.shape = (61, 43, 3)\n"
     ]
    }
   ],
   "source": [
    "# 影像金字塔\n",
    "# pyrDown() 向下採樣\n",
    "import cv2\n",
    "\n",
    "src = cv2.imread(\"macau.jpg\")\n",
    "dst1 = cv2.pyrDown(src)     # 第 1 次向下採樣\n",
    "dst2 = cv2.pyrDown(dst1)    # 第 2 次向下採樣 \n",
    "dst3 = cv2.pyrDown(dst2)    # 第 3 次向下採樣\n",
    "print(f\"src.shape = {src.shape}\")\n",
    "print(f\"dst1.shape = {dst1.shape}\")\n",
    "print(f\"dst2.shape = {dst2.shape}\")\n",
    "print(f\"dst3.shape = {dst3.shape}\")\n",
    "cv2.imshow(\"src\", src)\n",
    "cv2.imshow(\"dst1\", dst1)\n",
    "cv2.imshow(\"dst2\", dst2)\n",
    "cv2.imshow(\"dst3\", dst3)\n",
    "cv2.waitKey(0)\n",
    "cv2.destroyAllWindows()"
   ]
  },
  {
   "cell_type": "code",
   "execution_count": null,
   "id": "9261a615",
   "metadata": {},
   "outputs": [
    {
     "name": "stdout",
     "output_type": "stream",
     "text": [
      "src.shape = (61, 43, 3)\n",
      "dst1.shape = (122, 86, 3)\n",
      "dst2.shape = (244, 172, 3)\n",
      "dst3.shape = (488, 344, 3)\n"
     ]
    }
   ],
   "source": [
    "# 影像金字塔\n",
    "# pyrUp() 向上採樣\n",
    "import cv2\n",
    "\n",
    "src = cv2.imread(\"macau_small.jpg\")\n",
    "dst1 = cv2.pyrUp(src)   # 第 1 次向上採樣\n",
    "dst2 = cv2.pyrUp(dst1)  # 第 2 次向上採樣\n",
    "dst3 = cv2.pyrUp(dst2)  # 第 3 次向上採樣\n",
    "print(f\"src.shape = {src.shape}\")\n",
    "print(f\"dst1.shape = {dst1.shape}\")\n",
    "print(f\"dst2.shape = {dst2.shape}\")\n",
    "print(f\"dst3.shape = {dst3.shape}\")\n",
    "cv2.imshow(\"src\", src)\n",
    "cv2.imshow(\"dst1\", dst1)\n",
    "cv2.imshow(\"dst2\", dst2)\n",
    "cv2.imshow(\"dst3\", dst3)\n",
    "cv2.waitKey(0)\n",
    "cv2.destroyAllWindows()"
   ]
  },
  {
   "cell_type": "code",
   "execution_count": 1,
   "id": "07626e37",
   "metadata": {},
   "outputs": [
    {
     "name": "stdout",
     "output_type": "stream",
     "text": [
      "原始影像大小 = \n",
      "(276, 256, 3)\n",
      "向下採樣大小 = \n",
      "(138, 128, 3)\n",
      "向上採樣大小 = \n",
      "(276, 256, 3)\n",
      "結果影像大小 = \n",
      "(276, 256, 3)\n"
     ]
    }
   ],
   "source": [
    "# 影像金字塔\n",
    "# 先向下採樣，再向上採樣，進行比較\n",
    "import cv2\n",
    "\n",
    "src = cv2.imread(\"pengiun.jpg\")\n",
    "print(f\"原始影像大小 = \\n{src.shape}\")\n",
    "dst_down = cv2.pyrDown(src)     # 向下採樣\n",
    "print(f\"向下採樣大小 = \\n{dst_down.shape}\")\n",
    "dst_up = cv2.pyrUp(dst_down)    # 向上採樣, 復原大小\n",
    "print(f\"向上採樣大小 = \\n{dst_up.shape}\")\n",
    "dst = dst_up- src\n",
    "print(f\"結果影像大小 = \\n{dst.shape}\")\n",
    "cv2.imshow(\"src\", src)\n",
    "cv2.imshow(\"dst_up\", dst_up)\n",
    "cv2.imshow(\"dst_up- src\", dst)\n",
    "cv2.waitKey(0)\n",
    "cv2.destroyAllWindows()"
   ]
  },
  {
   "cell_type": "code",
   "execution_count": 2,
   "id": "4f7a01d0",
   "metadata": {},
   "outputs": [
    {
     "name": "stdout",
     "output_type": "stream",
     "text": [
      "L0.shape = \n",
      "(276, 256, 3)\n",
      "L1.shape = \n",
      "(138, 128, 3)\n"
     ]
    }
   ],
   "source": [
    "# 拉普拉斯金字塔(Laplacian Pyramid, LP)\n",
    "import cv2\n",
    "src = cv2.imread(\"pengiun.jpg\")     # 讀取影像\n",
    "G0 = src\n",
    "G1 = cv2.pyrDown(G0)                # 第 1 次向下採樣\n",
    "G2 = cv2.pyrDown(G1)                # 第 2 次向下採樣\n",
    "L0 = G0- cv2.pyrUp(G1)              # 建立第 0 層拉普拉斯金字塔\n",
    "L1 = G1- cv2.pyrUp(G2)              # 建立第 1 層拉普拉斯金字塔\n",
    "print(f\"L0.shape = \\n{L0.shape}\")   # 列印第 0 層拉普拉斯金字塔大小\n",
    "print(f\"L1.shape = \\n{L1.shape}\")   # 列印第 1 層拉普拉斯金字塔大小\n",
    "cv2.imshow(\"Laplacian L0\", L0)      # 顯示第 0 層拉普拉斯金字塔\n",
    "cv2.imshow(\"Laplacian L1\", L1)      # 建立第 1 層拉普拉斯金字塔\n",
    "cv2.waitKey(0)\n",
    "cv2.destroyAllWindows()"
   ]
  },
  {
   "cell_type": "code",
   "execution_count": 3,
   "id": "bd7870f7",
   "metadata": {},
   "outputs": [
    {
     "name": "stdout",
     "output_type": "stream",
     "text": [
      "src.shape = \n",
      "(276, 256, 3)\n",
      "dst.shape = \n",
      "(276, 256, 3)\n"
     ]
    }
   ],
   "source": [
    "# 拉普拉斯金字塔(Laplacian Pyramid, LP)\n",
    "import cv2\n",
    "src = cv2.imread(\"pengiun.jpg\")         # 讀取影像\n",
    "G0 = src\n",
    "G1 = cv2.pyrDown(G0)                    # 第 1 次向下採樣\n",
    "L0 = src- cv2.pyrUp(G1)                 # 拉普拉斯影像 \n",
    "dst = L0 + cv2.pyrUp(G1)                # 恢復結果影像\n",
    "print(f\"src.shape = \\n{src.shape}\")     # 列印原始影像大小\n",
    "print(f\"dst.shape = \\n{dst.shape}\")     # 列印恢復影像大小\n",
    "cv2.imshow(\"Src\", src)                  # 顯示原始影像\n",
    "cv2.imshow(\"Dst\", dst)                  # 顯示恢復影像\n",
    "cv2.waitKey(0)\n",
    "cv2.destroyAllWindows()\n"
   ]
  }
 ],
 "metadata": {
  "kernelspec": {
   "display_name": "yzu_CV",
   "language": "python",
   "name": "python3"
  },
  "language_info": {
   "codemirror_mode": {
    "name": "ipython",
    "version": 3
   },
   "file_extension": ".py",
   "mimetype": "text/x-python",
   "name": "python",
   "nbconvert_exporter": "python",
   "pygments_lexer": "ipython3",
   "version": "3.13.5"
  }
 },
 "nbformat": 4,
 "nbformat_minor": 5
}
