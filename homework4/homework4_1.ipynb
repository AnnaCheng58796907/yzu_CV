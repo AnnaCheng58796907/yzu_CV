{
 "cells": [
  {
   "cell_type": "code",
   "execution_count": null,
   "id": "1d313db0",
   "metadata": {},
   "outputs": [],
   "source": [
    "import cv2\n",
    "import numpy as np\n",
    "\n",
    "src1 = cv2.imread(\"image1_1.jpg\")\n",
    "src1 = cv2.\n"
   ]
  },
  {
   "cell_type": "code",
   "execution_count": 3,
   "id": "d981c209",
   "metadata": {},
   "outputs": [],
   "source": [
    "kernel = np.ones((11, 11), np.uint8) \n",
    "dst = cv2.morphologyEx(src1, cv2.MORPH_BLACKHAT, kernel) \n",
    "cv2.imshow(\"src1\", src1)\n",
    "cv2.imshow(\"after blackhat\", dst)\n",
    "cv2.waitKey(0)\n",
    "cv2.destroyAllWindows()"
   ]
  }
 ],
 "metadata": {
  "kernelspec": {
   "display_name": "yzu_CV",
   "language": "python",
   "name": "python3"
  },
  "language_info": {
   "codemirror_mode": {
    "name": "ipython",
    "version": 3
   },
   "file_extension": ".py",
   "mimetype": "text/x-python",
   "name": "python",
   "nbconvert_exporter": "python",
   "pygments_lexer": "ipython3",
   "version": "3.13.5"
  }
 },
 "nbformat": 4,
 "nbformat_minor": 5
}
