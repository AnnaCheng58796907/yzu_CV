{
 "cells": [
  {
   "cell_type": "code",
   "execution_count": 1,
   "id": "a6df67ca",
   "metadata": {},
   "outputs": [
    {
     "data": {
      "text/plain": [
       "True"
      ]
     },
     "execution_count": 1,
     "metadata": {},
     "output_type": "execute_result"
    }
   ],
   "source": [
    "# 影像雜訊消除\n",
    "# 產生高斯雜訊\n",
    "import cv2\n",
    "import numpy as np\n",
    "img = cv2.imread(\"leclerc.png\", cv2.IMREAD_GRAYSCALE)\n",
    "cv2.imshow(\"src\", img)\n",
    "img_norm = img / 255.0                              # 正規化到 0~1\n",
    "mean = 0\n",
    "stddev = 0.1\n",
    "gaussian_noise = np.random.normal(mean,\n",
    "                                  stddev,\n",
    "                                  img_norm.shape)   # 產生高斯雜訊\n",
    "noisy_img = img_norm + gaussian_noise               # 把雜訊加入影像\n",
    "noisy_img = np.clip(noisy_img, 0, 1)                # 裁切範圍\n",
    "noisy_img_uint8 = (noisy_img * 255).astype(np.uint8)# 轉回 0~255 \n",
    "cv2.imshow(\"Gaussian Noise\", noisy_img_uint8)\n",
    "cv2.waitKey(0)\n",
    "cv2.destroyAllWindows()\n",
    "cv2.imwrite('leclerc_gaussian_noise.png', noisy_img_uint8)"
   ]
  },
  {
   "cell_type": "code",
   "execution_count": 2,
   "id": "2c599adc",
   "metadata": {},
   "outputs": [
    {
     "data": {
      "text/plain": [
       "True"
      ]
     },
     "execution_count": 2,
     "metadata": {},
     "output_type": "execute_result"
    }
   ],
   "source": [
    "# 影像雜訊消除\n",
    "# 產生椒鹽雜訊\n",
    "import cv2\n",
    "import numpy as np\n",
    "img = cv2.imread(\"leclerc.png\", cv2.IMREAD_GRAYSCALE)\n",
    "cv2.imshow(\"src\", img)\n",
    "sp_img = img.copy()\n",
    "prob = 0.02                         # 設定雜訊比例，2% 的像素受到影響\n",
    "num_salt = np.ceil(prob * img.size * 0.5)\n",
    "num_pepper = np.ceil(prob * img.size * 0.5)\n",
    "coords = [np.random.randint(0, i, int(num_salt)) for i in img.shape]\n",
    "sp_img[coords[0], coords[1]] = 255  # 加 salt 雜訊（白點）\n",
    "coords = [np.random.randint(0, i, int(num_pepper)) for i in img.shape]\n",
    "sp_img[coords[0], coords[1]] = 0    # 加 pepper 雜訊（黑點）\n",
    "cv2.imshow(\"Salt-and-Pepper Noise\", sp_img)\n",
    "cv2.waitKey(0)\n",
    "cv2.destroyAllWindows()\n",
    "cv2.imwrite('leclerc_salt_pepper_noise.png', sp_img)"
   ]
  },
  {
   "cell_type": "code",
   "execution_count": 1,
   "id": "1a0557ce",
   "metadata": {},
   "outputs": [],
   "source": [
    "# 影像雜訊消除_濾波核(捲積核)\n",
    "# blur() 均值濾波器\n",
    "import cv2\n",
    "src = cv2.imread(\"leclerc.png\")\n",
    "dst1 = cv2.blur(src, (3, 3)) \n",
    "dst2 = cv2.blur(src, (5, 5)) \n",
    "dst3 = cv2.blur(src, (7, 7)) \n",
    "cv2.imshow(\"src\", src)\n",
    "cv2.imshow(\"dst 3 x 3\", dst1)\n",
    "cv2.imshow(\"dst 5 x 5\", dst2)\n",
    "cv2.imshow(\"dst 7 x 7\", dst3)\n",
    "cv2.waitKey(0)\n",
    "cv2.destroyAllWindows()"
   ]
  },
  {
   "cell_type": "code",
   "execution_count": 2,
   "id": "5bca0009",
   "metadata": {},
   "outputs": [],
   "source": [
    "# 影像雜訊消除_濾波核(捲積核)\n",
    "# boxFilter() 方框濾波器\n",
    "import cv2\n",
    "src = cv2.imread(\"leclerc_gaussian_noise.png\")\n",
    " # src = cv2.imread(\"leclerc_salt_pepper_noise.png\")\n",
    "dst1 = cv2.boxFilter(src, -1, (3, 3), normalize=0)\n",
    "dst2 = cv2.boxFilter(src, -1, (5, 5), normalize=0)\n",
    "dst3 = cv2.boxFilter(src, -1, (7, 7), normalize=0)\n",
    "cv2.imshow(\"src\", src)\n",
    "cv2.imshow(\"dst 3 x 3\", dst1)\n",
    "cv2.imshow(\"dst 5 x 5\", dst2)\n",
    "cv2.imshow(\"dst 7 x 7\", dst3)\n",
    "cv2.waitKey(0)\n",
    "cv2.destroyAllWindows()"
   ]
  },
  {
   "cell_type": "code",
   "execution_count": 1,
   "id": "21297370",
   "metadata": {},
   "outputs": [
    {
     "name": "stdout",
     "output_type": "stream",
     "text": [
      "src = \n",
      " [[ 62 156 100]\n",
      " [ 55  20 181]\n",
      " [ 53  51 104]]\n",
      "dst = \n",
      " [[ 62 100 100]\n",
      " [ 55  62 104]\n",
      " [ 53  53 104]]\n"
     ]
    }
   ],
   "source": [
    "# 影像雜訊消除_濾波核(捲積核)\n",
    "# medianBlur() 中值濾波器\n",
    "import cv2\n",
    "import numpy as np\n",
    "src = np.random.randint(0, 256, (3, 3), np.uint8)\n",
    "src[1, 1] = 20\n",
    "print(f\"src = \\n {src}\")\n",
    "dst = cv2.medianBlur(src, 3)\n",
    "print(f\"dst = \\n {dst}\")"
   ]
  },
  {
   "cell_type": "code",
   "execution_count": 2,
   "id": "bbe22cd7",
   "metadata": {},
   "outputs": [],
   "source": [
    "# 影像雜訊消除_濾波核(捲積核)\n",
    "# medianBlur() 中值濾波器\n",
    "import cv2\n",
    "src = cv2.imread(\"leclerc_gaussian_noise.png\")\n",
    "# src = cv2.imread(\"leclerc_salt_pepper_noise.png\")\n",
    "dst1 = cv2.medianBlur(src, 3) # 使用邊長是 3 的濾波核\n",
    "dst2 = cv2.medianBlur(src, 5) # 使用邊長是 5 的濾波核\n",
    "dst3 = cv2.medianBlur(src, 7) # 使用邊長是 7 的濾波核\n",
    "cv2.imshow(\"src\", src)\n",
    "cv2.imshow(\"dst 3 x 3\", dst1)\n",
    "cv2.imshow(\"dst 5 x 5\", dst2)\n",
    "cv2.imshow(\"dst 7 x 7\", dst3)\n",
    "cv2.waitKey(0)\n",
    "cv2.destroyAllWindows()\n"
   ]
  },
  {
   "cell_type": "code",
   "execution_count": 3,
   "id": "dfa99ca7",
   "metadata": {},
   "outputs": [],
   "source": [
    "# 影像雜訊消除_濾波核(捲積核)\n",
    "# GaussianBlur() 高斯濾波器\n",
    "import cv2\n",
    "src = cv2.imread(\"leclerc_gaussian_noise.png\")\n",
    "# src = cv2.imread(\"leclerc_salt_pepper_noise.png\")\n",
    "dst1 = cv2.GaussianBlur(src, (3, 3), 0, 0) \n",
    "dst2 = cv2.GaussianBlur(src, (5, 5), 0, 0) \n",
    "dst3 = cv2.GaussianBlur(src, (29, 29), 0, 0) \n",
    "cv2.imshow(\"src\", src)\n",
    "cv2.imshow(\"dst 3 x 3\", dst1)\n",
    "cv2.imshow(\"dst 5 x 5\", dst2)\n",
    "cv2.imshow(\"dst 29 x 29\", dst3)\n",
    "cv2.waitKey(0)\n",
    "cv2.destroyAllWindows()"
   ]
  },
  {
   "cell_type": "code",
   "execution_count": 2,
   "id": "d729f686",
   "metadata": {},
   "outputs": [],
   "source": [
    "# 影像雜訊消除_濾波核(捲積核)\n",
    "import cv2\n",
    "src = cv2.imread(\"border.jpg\")\n",
    "dst1 = cv2.blur(src, (3, 3)) # 均值濾波器- 3x3 濾波核\n",
    "dst2 = cv2.blur(src, (7, 7)) # 均值濾波器- 7x7 濾波核\n",
    "dst3 = cv2.GaussianBlur(src, (3, 3), 0, 0) # 高斯濾波器- 3x3 的濾波核\n",
    "dst4 = cv2.GaussianBlur(src, (7, 7), 0, 0) # 高斯濾波器- 7x7 的濾波核\n",
    "cv2.imshow(\"src\", src)\n",
    "cv2.imshow(\"dst 3 x 3\", dst1)\n",
    "cv2.imshow(\"dst 7 x 7\", dst2)\n",
    "cv2.imshow(\"Gauss dst 3 x 3\", dst3)\n",
    "cv2.imshow(\"Gauss dst 7 x 7\", dst4)\n",
    "cv2.waitKey(0)\n",
    "cv2.destroyAllWindows()"
   ]
  },
  {
   "cell_type": "code",
   "execution_count": 3,
   "id": "a3b81ef0",
   "metadata": {},
   "outputs": [],
   "source": [
    "# 影像雜訊消除_濾波核(捲積核)\n",
    "# bilateralFilter() 雙邊濾波器\n",
    "import cv2\n",
    "src = cv2.imread(\"leclerc_gaussian_noise.png\")\n",
    "# src = cv2.imread(\"leclerc_salt_pepper_noise.png\")\n",
    "dst1 = cv2.blur(src, (15, 15)) \n",
    "dst2 = cv2.GaussianBlur(src, (15, 15), 0, 0) \n",
    "dst2 = cv2.bilateralFilter(src, 15, 100, 100) \n",
    "cv2.imshow(\"src\", src)\n",
    "cv2.imshow(\"blur\", dst1)\n",
    "cv2.imshow(\"GaussianBlur\", dst1)\n",
    "cv2.imshow(\"bilateralFilter\", dst2)\n",
    "cv2.waitKey(0)\n",
    "cv2.destroyAllWindows()\n"
   ]
  },
  {
   "cell_type": "code",
   "execution_count": 1,
   "id": "8211d678",
   "metadata": {},
   "outputs": [],
   "source": [
    "# 影像雜訊消除_濾波核(捲積核)\n",
    "# filter2D() 2D濾波核\n",
    "import cv2\n",
    "import numpy as np\n",
    "src = cv2.imread(\"leclerc_gaussian_noise.png\")\n",
    "# src = cv2.imread(\"leclerc_salt_pepper_noise.png\")\n",
    "kernel = np.ones((11, 11), np.float32) / 121    # 自訂卷積核\n",
    "dst = cv2.filter2D(src, -1, kernel)             # 自定義濾波器\n",
    "cv2.imshow(\"src\", src)\n",
    "cv2.imshow(\"dst\", dst)\n",
    "cv2.waitKey(0)\n",
    "cv2.destroyAllWindows()"
   ]
  }
 ],
 "metadata": {
  "kernelspec": {
   "display_name": "yzu_CV",
   "language": "python",
   "name": "python3"
  },
  "language_info": {
   "codemirror_mode": {
    "name": "ipython",
    "version": 3
   },
   "file_extension": ".py",
   "mimetype": "text/x-python",
   "name": "python",
   "nbconvert_exporter": "python",
   "pygments_lexer": "ipython3",
   "version": "3.13.5"
  }
 },
 "nbformat": 4,
 "nbformat_minor": 5
}
