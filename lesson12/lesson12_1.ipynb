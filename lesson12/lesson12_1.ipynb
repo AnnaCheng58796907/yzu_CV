{
 "cells": [
  {
   "cell_type": "code",
   "execution_count": null,
   "id": "e87bbfa3",
   "metadata": {},
   "outputs": [],
   "source": []
  }
 ],
 "metadata": {
  "kernelspec": {
   "display_name": "yzu_CV",
   "language": "python",
   "name": "python3"
  },
  "language_info": {
   "name": "python",
   "version": "3.13.5"
  }
 },
 "nbformat": 4,
 "nbformat_minor": 5
}
