{
 "cells": [
  {
   "cell_type": "code",
   "execution_count": 1,
   "id": "48ab3650",
   "metadata": {},
   "outputs": [
    {
     "data": {
      "text/plain": [
       "'4.12.0'"
      ]
     },
     "execution_count": 1,
     "metadata": {},
     "output_type": "execute_result"
    }
   ],
   "source": [
    "import cv2\n",
    "\n",
    "cv2.__version__\n"
   ]
  },
  {
   "cell_type": "code",
   "execution_count": 2,
   "id": "dacb580d",
   "metadata": {},
   "outputs": [
    {
     "name": "stdout",
     "output_type": "stream",
     "text": [
      "<class 'numpy.ndarray'>\n",
      "[[[ 21   4 199]\n",
      "  [ 21   4 199]\n",
      "  [ 21   4 199]\n",
      "  ...\n",
      "  [ 21   4 199]\n",
      "  [ 21   4 199]\n",
      "  [ 21   4 199]]\n",
      "\n",
      " [[ 21   4 199]\n",
      "  [ 21   4 199]\n",
      "  [ 21   4 199]\n",
      "  ...\n",
      "  [ 21   4 199]\n",
      "  [ 21   4 199]\n",
      "  [ 21   4 199]]\n",
      "\n",
      " [[ 21   4 199]\n",
      "  [ 21   4 199]\n",
      "  [ 21   4 199]\n",
      "  ...\n",
      "  [ 21   4 199]\n",
      "  [ 21   4 199]\n",
      "  [ 21   4 199]]\n",
      "\n",
      " ...\n",
      "\n",
      " [[ 21   4 199]\n",
      "  [ 21   4 199]\n",
      "  [ 21   4 199]\n",
      "  ...\n",
      "  [ 21   4 199]\n",
      "  [ 21   4 199]\n",
      "  [ 21   4 199]]\n",
      "\n",
      " [[ 21   4 199]\n",
      "  [ 21   4 199]\n",
      "  [ 21   4 199]\n",
      "  ...\n",
      "  [ 21   4 199]\n",
      "  [ 21   4 199]\n",
      "  [ 21   4 199]]\n",
      "\n",
      " [[ 21   4 199]\n",
      "  [ 21   4 199]\n",
      "  [ 21   4 199]\n",
      "  ...\n",
      "  [ 21   4 199]\n",
      "  [ 21   4 199]\n",
      "  [ 21   4 199]]]\n",
      "(700, 700, 3)\n"
     ]
    }
   ],
   "source": [
    "import cv2\n",
    "\n",
    "img = cv2.imread('coca-cola-logo.png')\n",
    "\n",
    "#觀察回傳的資料型態\n",
    "print(type(img))\n",
    "\n",
    "#觀察回穿的資料內容\n",
    "print(img)\n",
    "\n",
    "#觀察回傳的資料形狀\n",
    "print(img.shape)"
   ]
  },
  {
   "cell_type": "code",
   "execution_count": null,
   "id": "1a94407a",
   "metadata": {},
   "outputs": [],
   "source": []
  }
 ],
 "metadata": {
  "kernelspec": {
   "display_name": "yzu_CV",
   "language": "python",
   "name": "python3"
  },
  "language_info": {
   "codemirror_mode": {
    "name": "ipython",
    "version": 3
   },
   "file_extension": ".py",
   "mimetype": "text/x-python",
   "name": "python",
   "nbconvert_exporter": "python",
   "pygments_lexer": "ipython3",
   "version": "3.13.5"
  }
 },
 "nbformat": 4,
 "nbformat_minor": 5
}
