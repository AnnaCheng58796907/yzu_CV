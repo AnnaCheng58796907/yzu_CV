{
 "cells": [
  {
   "cell_type": "markdown",
   "id": "9cd08b6c",
   "metadata": {},
   "source": [
    "#### litert_CV 虛擬環境\n",
    "* model"
   ]
  },
  {
   "cell_type": "code",
   "execution_count": 2,
   "id": "0a70cfc1",
   "metadata": {},
   "outputs": [
    {
     "name": "stdout",
     "output_type": "stream",
     "text": [
      "成功載入模型...\n",
      "影像尺寸: ( 224 , 224 )\n",
      "分類名稱 = beagle\n",
      "影像可能性 = 70.7 %\n"
     ]
    }
   ],
   "source": [
    "try:\n",
    "    from tflite_runtime.interpreter import Interpreter\n",
    "except ImportError:\n",
    "    from tensorflow.lite.python.interpreter import Interpreter\n",
    "import cv2\n",
    "import numpy as np\n",
    "\n",
    "model_path = \"models/mobilenet_v1_1.0_224_quantized_1_metadata_1.tflite\"\n",
    "label_path = \"models/labels.txt\"\n",
    "label_names = []\n",
    "with open(label_path, \"r\") as f:\n",
    "    for line in f.readlines():\n",
    "        label_names.append(line.strip())\n",
    "interpreter = Interpreter(model_path)\n",
    "print(\"成功載入模型...\")\n",
    "interpreter.allocate_tensors()\n",
    "_, height, width, _ = interpreter.get_input_details()[0][\"shape\"]\n",
    "print(\"影像尺寸: (\", width, \",\", height, \")\")\n",
    "image = cv2.imread(\"images/dog.jpg\")\n",
    "image_rgb = cv2.cvtColor(image, cv2.COLOR_BGR2RGB)\n",
    "image_resized = cv2.resize(image_rgb, (width, height))\n",
    "input_data = np.expand_dims(image_resized, axis=0)\n",
    "interpreter.set_tensor(\n",
    "    interpreter.get_input_details()[0][\"index\"], input_data)\n",
    "interpreter.invoke()\n",
    "output_details = interpreter.get_output_details()[0]\n",
    "output = np.squeeze(interpreter.get_tensor(output_details[\"index\"]))\n",
    "label_id = np.argmax(output)\n",
    "scale, zero_point = output_details[\"quantization\"]\n",
    "prob = scale * (output[label_id] - zero_point)\n",
    "classification_label = label_names[label_id]\n",
    "print(\"分類名稱 =\", classification_label)\n",
    "print(\"影像可能性 =\", np.round(prob*100, 2), \"%\")\n",
    "\n",
    "cv2.imshow(\"Object Detector\", image)\n",
    "cv2.waitKey(0)\n",
    "cv2.destroyAllWindows()\n"
   ]
  },
  {
   "cell_type": "code",
   "execution_count": 1,
   "id": "4177136a",
   "metadata": {},
   "outputs": [
    {
     "name": "stdout",
     "output_type": "stream",
     "text": [
      "成功載入模型...\n",
      "圖片資訊: ( 300 , 300 )\n"
     ]
    }
   ],
   "source": [
    "try:\n",
    "    from tflite_runtime.interpreter import Interpreter\n",
    "except ImportError:\n",
    "    from tensorflow.lite.python.interpreter import Interpreter\n",
    "import cv2\n",
    "import numpy as np\n",
    "\n",
    "model_path = \"models/lite-model_ssd_mobilenet_v1_1_metadata_2.tflite\"\n",
    "label_path = \"models/labelmap.txt\"\n",
    "label_names = []\n",
    "with open(label_path, \"r\") as f:\n",
    "    for line in f.readlines():\n",
    "        label_names.append(line.strip())\n",
    "interpreter = Interpreter(model_path=model_path)\n",
    "print(\"成功載入模型...\")\n",
    "interpreter.allocate_tensors()\n",
    "input_details = interpreter.get_input_details()\n",
    "output_details = interpreter.get_output_details()\n",
    "_, height, width, _ = input_details[0][\"shape\"]\n",
    "print(\"圖片資訊: (\", width, \",\", height, \")\")\n",
    "img = cv2.imread(\"images/people.jpg\")\n",
    "imgHeight, imgWidth, _ = img.shape\n",
    "img_rgb = cv2.cvtColor(img, cv2.COLOR_BGR2RGB)\n",
    "img_resized = cv2.resize(img_rgb, (width, height))\n",
    "input_data = np.expand_dims(img_resized, axis=0)\n",
    "interpreter.set_tensor(input_details[0][\"index\"], input_data)\n",
    "interpreter.invoke()\n",
    "boxes = interpreter.get_tensor(output_details[0][\"index\"])[0]\n",
    "classes = interpreter.get_tensor(output_details[1][\"index\"])[0]\n",
    "scores = interpreter.get_tensor(output_details[2][\"index\"])[0]\n",
    "for i in range(len(scores)):\n",
    "    if ((scores[i] > 0.5) and (scores[i] <= 1.0)):\n",
    "        startY = int(max(1, (boxes[i][0] * imgHeight)))\n",
    "        startX = int(max(1, (boxes[i][1] * imgWidth)))\n",
    "        endY = int(min(imgHeight, (boxes[i][2] * imgHeight)))\n",
    "        endX = int(min(imgWidth, (boxes[i][3] * imgWidth)))\n",
    "        cv2.rectangle(img, (startX, startY), (endX, endY),\n",
    "                      (10, 255, 0), 2)\n",
    "        object_name = label_names[int(classes[i])]\n",
    "        prob = np.round(scores[i]*100, 2)\n",
    "        label = object_name + \": \" + str(prob) + \"%\"\n",
    "        y = startY - 15 if startY - 15 > 15 else startY + 15\n",
    "        cv2.putText(img, label, (startX, y),\n",
    "                    cv2.FONT_HERSHEY_SIMPLEX,\n",
    "                    0.5, (10, 255, 0), 2)\n",
    "\n",
    "cv2.imshow(\"Object Detector\", img)\n",
    "cv2.waitKey(0)\n",
    "cv2.destroyAllWindows()\n"
   ]
  },
  {
   "cell_type": "code",
   "execution_count": 3,
   "id": "2e93ff61",
   "metadata": {},
   "outputs": [
    {
     "name": "stderr",
     "output_type": "stream",
     "text": [
      "c:\\Users\\q5j6j\\miniconda3\\envs\\litert_CV\\Lib\\site-packages\\face_recognition_models\\__init__.py:7: UserWarning: pkg_resources is deprecated as an API. See https://setuptools.pypa.io/en/latest/pkg_resources.html. The pkg_resources package is slated for removal as early as 2025-11-30. Refrain from using this package or pin to Setuptools<81.\n",
      "  from pkg_resources import resource_filename\n"
     ]
    },
    {
     "name": "stdout",
     "output_type": "stream",
     "text": [
      "臉數= 2\n"
     ]
    }
   ],
   "source": [
    "import face_recognition\n",
    "import cv2\n",
    "\n",
    "img = cv2.imread(\"images/faces2.jpg\")\n",
    "faces = face_recognition.face_locations(img,\n",
    "                                        number_of_times_to_upsample=1,\n",
    "                                        model=\"hog\")\n",
    "print(\"臉數=\", len(faces))\n",
    "for face in faces:\n",
    "    top, right, bottom, left = face\n",
    "    cv2.rectangle(img, (left, top), (right, bottom),\n",
    "                  (0, 0, 255), 3)\n",
    "\n",
    "cv2.imshow(\"Faces\", img)\n",
    "cv2.waitKey(0)\n",
    "cv2.destroyAllWindows()\n"
   ]
  }
 ],
 "metadata": {
  "kernelspec": {
   "display_name": "litert_CV",
   "language": "python",
   "name": "python3"
  },
  "language_info": {
   "codemirror_mode": {
    "name": "ipython",
    "version": 3
   },
   "file_extension": ".py",
   "mimetype": "text/x-python",
   "name": "python",
   "nbconvert_exporter": "python",
   "pygments_lexer": "ipython3",
   "version": "3.11.14"
  }
 },
 "nbformat": 4,
 "nbformat_minor": 5
}
