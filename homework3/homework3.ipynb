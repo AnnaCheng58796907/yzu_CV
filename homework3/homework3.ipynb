{
 "cells": [
  {
   "cell_type": "code",
   "execution_count": 1,
   "id": "be0f0da7",
   "metadata": {},
   "outputs": [],
   "source": [
    "import cv2\n",
    "import numpy as np\n"
   ]
  },
  {
   "cell_type": "code",
   "execution_count": 2,
   "id": "76ddb3e5",
   "metadata": {},
   "outputs": [],
   "source": [
    "width = 900\n",
    "height = (int(width / 3)) * 2\n",
    "\n",
    "img = np.ones((height, width, 3), np.uint8)\n",
    "\n",
    "cv2.imshow('img', img)\n",
    "cv2.waitKey(0)\n",
    "cv2.destroyAllWindows()"
   ]
  },
  {
   "cell_type": "code",
   "execution_count": 3,
   "id": "fdf1de32",
   "metadata": {},
   "outputs": [],
   "source": [
    "# img = cv2.imread(\"colorbar.jpg\")\n",
    "bgr_norm = img.astype(float) / 255.0\n",
    "# 計算 K 通道\n",
    "K = 1 - np.max(bgr_norm, axis=2)\n",
    "\n",
    "# 防止除以0,設定一個最小閾值\n",
    "denominator = 1 - K\n",
    "denominator[denominator == 0] = 1e-10\n",
    "\n",
    "# 計算 C、M、Y 通道\n",
    "C = (1 - bgr_norm[..., 2] - K) / denominator\n",
    "M = (1 - bgr_norm[..., 1] - K) / denominator\n",
    "Y = (1 - bgr_norm[..., 0] - K) / denominator\n",
    "\n",
    "# 歸一化回 0-255 並轉換為 uint8\n",
    "cmyk = np.zeros(img.shape[:2] + (4,), dtype=np.uint8)\n",
    "cmyk[..., 0] = (C * 255).astype(np.uint8)  # C 通道\n",
    "cmyk[..., 1] = (M * 255).astype(np.uint8)  # M 通道\n",
    "cmyk[..., 2] = (Y * 255).astype(np.uint8)  # Y 通道\n",
    "cmyk[..., 3] = (K * 255).astype(np.uint8)  # K 通道\n",
    "\n",
    "\n",
    "cv2.imshow(\"white\", cmyk)\n",
    "cv2.waitKey(0)\n",
    "cv2.destroyAllWindows()"
   ]
  },
  {
   "cell_type": "code",
   "execution_count": 4,
   "id": "4045203c",
   "metadata": {},
   "outputs": [],
   "source": [
    "red_cmyk = np.zeros(img.shape[:2] + (4,), dtype=np.uint8)\n",
    "red_cmyk[..., 0] = (C * 0).astype(np.uint8)\n",
    "red_cmyk[..., 1] = (M * 255).astype(np.uint8)\n",
    "red_cmyk[..., 2] = (Y * 255).astype(np.uint8)\n",
    "red_cmyk[..., 3] = (K * ((255 / 100) * 10)).astype(np.uint8)\n",
    "\n",
    "cv2.imshow('red', red_cmyk)\n",
    "cv2.waitKey(0)\n",
    "cv2.destroyAllWindows()"
   ]
  },
  {
   "cell_type": "code",
   "execution_count": 5,
   "id": "3e2131a4",
   "metadata": {},
   "outputs": [],
   "source": [
    "bg_cmyk = np.zeros(img.shape[:2] + (4,), dtype=np.uint8)\n",
    "bg_cmyk[..., 0] = (C * 255).astype(np.uint8)\n",
    "bg_cmyk[..., 1] = (M * ((255/100)*80)).astype(np.uint8)\n",
    "bg_cmyk[..., 2] = (Y * 0).astype(np.uint8)\n",
    "bg_cmyk[..., 3] = (K * ((255/100)*20)).astype(np.uint8)\n",
    "\n",
    "\n",
    "cv2.imshow(\"blue_green\", bg_cmyk)\n",
    "cv2.waitKey(0)\n",
    "cv2.destroyAllWindows()"
   ]
  },
  {
   "cell_type": "code",
   "execution_count": 6,
   "id": "f9fcb05a",
   "metadata": {},
   "outputs": [
    {
     "ename": "TypeError",
     "evalue": "unsupported operand type(s) for /: 'tuple' and 'int'",
     "output_type": "error",
     "traceback": [
      "\u001b[31m---------------------------------------------------------------------------\u001b[39m",
      "\u001b[31mTypeError\u001b[39m                                 Traceback (most recent call last)",
      "\u001b[36mCell\u001b[39m\u001b[36m \u001b[39m\u001b[32mIn[6]\u001b[39m\u001b[32m, line 1\u001b[39m\n\u001b[32m----> \u001b[39m\u001b[32m1\u001b[39m bg_src = np.ones((\u001b[43mimg\u001b[49m\u001b[43m.\u001b[49m\u001b[43mshape\u001b[49m\u001b[43m[\u001b[49m\u001b[32;43m0\u001b[39;49m\u001b[43m:\u001b[49m\u001b[32;43m2\u001b[39;49m\u001b[43m]\u001b[49m\u001b[43m/\u001b[49m\u001b[32;43m4\u001b[39;49m) + (\u001b[32m3\u001b[39m,), np.uint8) * \u001b[32m255\u001b[39m\n",
      "\u001b[31mTypeError\u001b[39m: unsupported operand type(s) for /: 'tuple' and 'int'"
     ]
    }
   ],
   "source": [
    "bg_src = np.ones((img.shape[0:2]/4) + (3,), np.uint8) * 255"
   ]
  }
 ],
 "metadata": {
  "kernelspec": {
   "display_name": "yzu_CV",
   "language": "python",
   "name": "python3"
  },
  "language_info": {
   "codemirror_mode": {
    "name": "ipython",
    "version": 3
   },
   "file_extension": ".py",
   "mimetype": "text/x-python",
   "name": "python",
   "nbconvert_exporter": "python",
   "pygments_lexer": "ipython3",
   "version": "3.13.5"
  }
 },
 "nbformat": 4,
 "nbformat_minor": 5
}
