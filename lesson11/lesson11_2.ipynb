{
 "cells": [
  {
   "cell_type": "code",
   "execution_count": null,
   "id": "1d880460",
   "metadata": {},
   "outputs": [
    {
     "name": "stdout",
     "output_type": "stream",
     "text": [
      "左上角 x = 66, 左上角 y = 39\n",
      "矩形寬度 = 178\n",
      "矩形高度 = 100\n"
     ]
    }
   ],
   "source": [
    "# 外接矩形\n",
    "import cv2\n",
    "\n",
    "src = cv2.imread(\"explode1.jpg\")\n",
    "cv2.imshow(\"src\", src)\n",
    "src_gray = cv2.cvtColor(src, cv2.COLOR_BGR2GRAY)\n",
    "_, dst_binary = cv2.threshold(src_gray, 127, 255, cv2.THRESH_BINARY)\n",
    "contours, _ = cv2.findContours(dst_binary,\n",
    "                               cv2.RETR_LIST,\n",
    "                               cv2.CHAIN_APPROX_SIMPLE)\n",
    "# 取得外接矩形,格式為元組(tuple)\n",
    "rect = cv2.boundingRect(contours[0])\n",
    "# 列出外接矩形的所有細項\n",
    "x, y, w, h = rect\n",
    "print(f\"左上角 x = {x}, 左上角 y = {y}\")\n",
    "print(f\"矩形寬度 = {w}\")\n",
    "print(f\"矩形高度 = {h}\")\n",
    "dst = cv2.rectangle(src, (x, y), (x+w, y+h), (0, 255, 255), 2)\n",
    "cv2.imshow(\"dst\", dst)\n",
    "cv2.waitKey(0)\n",
    "cv2.destroyAllWindows()\n"
   ]
  },
  {
   "cell_type": "code",
   "execution_count": 2,
   "id": "f34ee74e",
   "metadata": {},
   "outputs": [
    {
     "name": "stdout",
     "output_type": "stream",
     "text": [
      "最小外接矩形的中心點、寬、高、旋轉角度 = \n",
      " ((154.83755493164062, 88.25508880615234), (91.39300537109375, 174.26780700683594), 56.449337005615234)\n",
      "轉換後的矩形頂角 = \n",
      " [[ 56  98]\n",
      " [202   2]\n",
      " [252  78]\n",
      " [107 174]]\n"
     ]
    }
   ],
   "source": [
    "# 外接矩形\n",
    "import cv2\n",
    "import numpy as np\n",
    "\n",
    "src = cv2.imread(\"explode2.jpg\")\n",
    "cv2.imshow(\"src\", src)\n",
    "src_gray = cv2.cvtColor(src, cv2.COLOR_BGR2GRAY)\n",
    "_, dst_binary = cv2.threshold(src_gray, 127, 255, cv2.THRESH_BINARY)\n",
    "contours, _ = cv2.findContours(dst_binary,\n",
    "                               cv2.RETR_LIST,\n",
    "                               cv2.CHAIN_APPROX_SIMPLE)\n",
    "box = cv2.minAreaRect(contours[0])      # 取得最小外接矩形\n",
    "print(f\"最小外接矩形的中心點、寬、高、旋轉角度 = \\n {box}\")\n",
    "points = cv2.boxPoints(box)             # 找出頂點座標\n",
    "points = np.int32(points)               # 轉為整數\n",
    "# 調整頂點格式\n",
    "print(f\"轉換後的矩形頂角 = \\n {points}\")\n",
    "dst = cv2.drawContours(src, [points], 0, (0, 255, 0), 2)\n",
    "cv2.imshow(\"dst\", dst)\n",
    "cv2.waitKey(0)\n",
    "cv2.destroyAllWindows()\n"
   ]
  },
  {
   "cell_type": "code",
   "execution_count": null,
   "id": "6eea61f7",
   "metadata": {},
   "outputs": [],
   "source": [
    "# 外接圓\n",
    "import cv2\n",
    "\n",
    "src = cv2.imread(\"explode3.jpg\")\n",
    "cv2.imshow(\"src\", src)\n",
    "src_gray = cv2.cvtColor(src, cv2.COLOR_BGR2GRAY)\n",
    "_, dest_binary = cv2.threshold(src_gray, 127, 255, cv2.THRESH_BINARY)\n",
    "contours, _ = cv2.findContours(dst_binary,\n",
    "                               cv2.RETR_LIST,\n",
    "                               cv2.CHAIN_APPROX_SIMPLE)\n",
    "circle = cv2.minEnclosingCircle"
   ]
  },
  {
   "cell_type": "code",
   "execution_count": null,
   "id": "e87bbfa3",
   "metadata": {},
   "outputs": [],
   "source": []
  }
 ],
 "metadata": {
  "kernelspec": {
   "display_name": "yzu_CV",
   "language": "python",
   "name": "python3"
  },
  "language_info": {
   "codemirror_mode": {
    "name": "ipython",
    "version": 3
   },
   "file_extension": ".py",
   "mimetype": "text/x-python",
   "name": "python",
   "nbconvert_exporter": "python",
   "pygments_lexer": "ipython3",
   "version": "3.13.5"
  }
 },
 "nbformat": 4,
 "nbformat_minor": 5
}
