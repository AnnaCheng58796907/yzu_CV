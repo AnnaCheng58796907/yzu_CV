{
 "cells": [
  {
   "cell_type": "markdown",
   "id": "9cd08b6c",
   "metadata": {},
   "source": [
    "#### litert_CV 虛擬環境\n",
    "* model"
   ]
  },
  {
   "cell_type": "code",
   "execution_count": 2,
   "id": "0a70cfc1",
   "metadata": {},
   "outputs": [
    {
     "name": "stdout",
     "output_type": "stream",
     "text": [
      "成功載入模型...\n",
      "影像尺寸: ( 224 , 224 )\n",
      "分類名稱 = beagle\n",
      "影像可能性 = 70.7 %\n"
     ]
    }
   ],
   "source": [
    "try:\n",
    "    from tflite_runtime.interpreter import Interpreter\n",
    "except ImportError:\n",
    "    from tensorflow.lite.python.interpreter import Interpreter\n",
    "import cv2\n",
    "import numpy as np\n",
    "\n",
    "model_path = \"models/mobilenet_v1_1.0_224_quantized_1_metadata_1.tflite\"\n",
    "label_path = \"models/labels.txt\"\n",
    "label_names = []\n",
    "with open(label_path, \"r\") as f:\n",
    "    for line in f.readlines():\n",
    "        label_names.append(line.strip())\n",
    "interpreter = Interpreter(model_path)\n",
    "print(\"成功載入模型...\")\n",
    "interpreter.allocate_tensors()\n",
    "_, height, width, _ = interpreter.get_input_details()[0][\"shape\"]\n",
    "print(\"影像尺寸: (\", width, \",\", height, \")\")\n",
    "image = cv2.imread(\"images/dog.jpg\")\n",
    "image_rgb = cv2.cvtColor(image, cv2.COLOR_BGR2RGB)\n",
    "image_resized = cv2.resize(image_rgb, (width, height))\n",
    "input_data = np.expand_dims(image_resized, axis=0)\n",
    "interpreter.set_tensor(\n",
    "    interpreter.get_input_details()[0][\"index\"], input_data)\n",
    "interpreter.invoke()\n",
    "output_details = interpreter.get_output_details()[0]\n",
    "output = np.squeeze(interpreter.get_tensor(output_details[\"index\"]))\n",
    "label_id = np.argmax(output)\n",
    "scale, zero_point = output_details[\"quantization\"]\n",
    "prob = scale * (output[label_id] - zero_point)\n",
    "classification_label = label_names[label_id]\n",
    "print(\"分類名稱 =\", classification_label)\n",
    "print(\"影像可能性 =\", np.round(prob*100, 2), \"%\")\n",
    "\n",
    "cv2.imshow(\"Object Detector\", image)\n",
    "cv2.waitKey(0)\n",
    "cv2.destroyAllWindows()\n"
   ]
  },
  {
   "cell_type": "code",
   "execution_count": 1,
   "id": "4177136a",
   "metadata": {},
   "outputs": [
    {
     "name": "stdout",
     "output_type": "stream",
     "text": [
      "成功載入模型...\n",
      "圖片資訊: ( 300 , 300 )\n"
     ]
    }
   ],
   "source": [
    "try:\n",
    "    from tflite_runtime.interpreter import Interpreter\n",
    "except ImportError:\n",
    "    from tensorflow.lite.python.interpreter import Interpreter\n",
    "import cv2\n",
    "import numpy as np\n",
    "\n",
    "model_path = \"models/lite-model_ssd_mobilenet_v1_1_metadata_2.tflite\"\n",
    "label_path = \"models/labelmap.txt\"\n",
    "label_names = []\n",
    "with open(label_path, \"r\") as f:\n",
    "    for line in f.readlines():\n",
    "        label_names.append(line.strip())\n",
    "interpreter = Interpreter(model_path=model_path)\n",
    "print(\"成功載入模型...\")\n",
    "interpreter.allocate_tensors()\n",
    "input_details = interpreter.get_input_details()\n",
    "output_details = interpreter.get_output_details()\n",
    "_, height, width, _ = input_details[0][\"shape\"]\n",
    "print(\"圖片資訊: (\", width, \",\", height, \")\")\n",
    "img = cv2.imread(\"images/people.jpg\")\n",
    "imgHeight, imgWidth, _ = img.shape\n",
    "img_rgb = cv2.cvtColor(img, cv2.COLOR_BGR2RGB)\n",
    "img_resized = cv2.resize(img_rgb, (width, height))\n",
    "input_data = np.expand_dims(img_resized, axis=0)\n",
    "interpreter.set_tensor(input_details[0][\"index\"], input_data)\n",
    "interpreter.invoke()\n",
    "boxes = interpreter.get_tensor(output_details[0][\"index\"])[0]\n",
    "classes = interpreter.get_tensor(output_details[1][\"index\"])[0]\n",
    "scores = interpreter.get_tensor(output_details[2][\"index\"])[0]\n",
    "for i in range(len(scores)):\n",
    "    if ((scores[i] > 0.5) and (scores[i] <= 1.0)):\n",
    "        startY = int(max(1, (boxes[i][0] * imgHeight)))\n",
    "        startX = int(max(1, (boxes[i][1] * imgWidth)))\n",
    "        endY = int(min(imgHeight, (boxes[i][2] * imgHeight)))\n",
    "        endX = int(min(imgWidth, (boxes[i][3] * imgWidth)))\n",
    "        cv2.rectangle(img, (startX, startY), (endX, endY),\n",
    "                      (10, 255, 0), 2)\n",
    "        object_name = label_names[int(classes[i])]\n",
    "        prob = np.round(scores[i]*100, 2)\n",
    "        label = object_name + \": \" + str(prob) + \"%\"\n",
    "        y = startY - 15 if startY - 15 > 15 else startY + 15\n",
    "        cv2.putText(img, label, (startX, y),\n",
    "                    cv2.FONT_HERSHEY_SIMPLEX,\n",
    "                    0.5, (10, 255, 0), 2)\n",
    "\n",
    "cv2.imshow(\"Object Detector\", img)\n",
    "cv2.waitKey(0)\n",
    "cv2.destroyAllWindows()\n"
   ]
  },
  {
   "cell_type": "code",
   "execution_count": 3,
   "id": "2e93ff61",
   "metadata": {},
   "outputs": [
    {
     "name": "stderr",
     "output_type": "stream",
     "text": [
      "c:\\Users\\q5j6j\\miniconda3\\envs\\litert_CV\\Lib\\site-packages\\face_recognition_models\\__init__.py:7: UserWarning: pkg_resources is deprecated as an API. See https://setuptools.pypa.io/en/latest/pkg_resources.html. The pkg_resources package is slated for removal as early as 2025-11-30. Refrain from using this package or pin to Setuptools<81.\n",
      "  from pkg_resources import resource_filename\n"
     ]
    },
    {
     "name": "stdout",
     "output_type": "stream",
     "text": [
      "臉數= 2\n"
     ]
    }
   ],
   "source": [
    "import face_recognition\n",
    "import cv2\n",
    "\n",
    "img = cv2.imread(\"images/faces2.jpg\")\n",
    "faces = face_recognition.face_locations(img,\n",
    "                                        number_of_times_to_upsample=1,\n",
    "                                        model=\"hog\")\n",
    "print(\"臉數=\", len(faces))\n",
    "for face in faces:\n",
    "    top, right, bottom, left = face\n",
    "    cv2.rectangle(img, (left, top), (right, bottom),\n",
    "                  (0, 0, 255), 3)\n",
    "\n",
    "cv2.imshow(\"Faces\", img)\n",
    "cv2.waitKey(0)\n",
    "cv2.destroyAllWindows()\n"
   ]
  },
  {
   "cell_type": "code",
   "execution_count": 4,
   "id": "5e900237",
   "metadata": {},
   "outputs": [
    {
     "name": "stdout",
     "output_type": "stream",
     "text": [
      "[True]\n"
     ]
    }
   ],
   "source": [
    "import face_recognition\n",
    "import cv2\n",
    "\n",
    "img = cv2.imread(\"images/mary.jpg\")\n",
    "known_encoding = face_recognition.face_encodings(img)[0]\n",
    "new_img = cv2.imread(\"images/mary2.jpg\")\n",
    "new_encoding = face_recognition.face_encodings(new_img)[0]\n",
    "\n",
    "result = face_recognition.compare_faces([known_encoding],\n",
    "                                        new_encoding, tolerance=0.6)\n",
    "print(result)"
   ]
  },
  {
   "cell_type": "code",
   "execution_count": 1,
   "id": "41dafbab",
   "metadata": {},
   "outputs": [
    {
     "name": "stderr",
     "output_type": "stream",
     "text": [
      "c:\\Users\\q5j6j\\miniconda3\\envs\\litert_CV\\Lib\\site-packages\\face_recognition_models\\__init__.py:7: UserWarning: pkg_resources is deprecated as an API. See https://setuptools.pypa.io/en/latest/pkg_resources.html. The pkg_resources package is slated for removal as early as 2025-11-30. Refrain from using this package or pin to Setuptools<81.\n",
      "  from pkg_resources import resource_filename\n"
     ]
    },
    {
     "name": "stdout",
     "output_type": "stream",
     "text": [
      "載入已知人臉資料中...\n"
     ]
    },
    {
     "ename": "FileNotFoundError",
     "evalue": "[WinError 3] 系統找不到指定的路徑。: 'known_faces'",
     "output_type": "error",
     "traceback": [
      "\u001b[31m---------------------------------------------------------------------------\u001b[39m",
      "\u001b[31mFileNotFoundError\u001b[39m                         Traceback (most recent call last)",
      "\u001b[36mCell\u001b[39m\u001b[36m \u001b[39m\u001b[32mIn[1]\u001b[39m\u001b[32m, line 18\u001b[39m\n\u001b[32m     15\u001b[39m known_encodings = []\n\u001b[32m     16\u001b[39m known_names = []\n\u001b[32m---> \u001b[39m\u001b[32m18\u001b[39m \u001b[38;5;28;01mfor\u001b[39;00m filename \u001b[38;5;129;01min\u001b[39;00m \u001b[43mos\u001b[49m\u001b[43m.\u001b[49m\u001b[43mlistdir\u001b[49m\u001b[43m(\u001b[49m\u001b[43mknown_faces_dir\u001b[49m\u001b[43m)\u001b[49m:\n\u001b[32m     19\u001b[39m     \u001b[38;5;28;01mif\u001b[39;00m \u001b[38;5;129;01mnot\u001b[39;00m (filename.endswith(\u001b[33m\"\u001b[39m\u001b[33m.jpg\u001b[39m\u001b[33m\"\u001b[39m) \u001b[38;5;129;01mor\u001b[39;00m filename.endswith(\u001b[33m\"\u001b[39m\u001b[33m.png\u001b[39m\u001b[33m\"\u001b[39m)):\n\u001b[32m     20\u001b[39m         \u001b[38;5;28;01mcontinue\u001b[39;00m\n",
      "\u001b[31mFileNotFoundError\u001b[39m: [WinError 3] 系統找不到指定的路徑。: 'known_faces'"
     ]
    }
   ],
   "source": [
    "# 多人臉比對範例\n",
    "\n",
    "import face_recognition\n",
    "import cv2\n",
    "import os\n",
    "import numpy as np\n",
    "\n",
    "# 已知人物資料夾路徑\n",
    "known_faces_dir = \"known_faces\"\n",
    "tolerance = 0.6\n",
    "model = \"hog\"  # 可改為 \"cnn\"（需 GPU）\n",
    "\n",
    "# 載入已知人臉資料\n",
    "print(\"載入已知人臉資料中...\")\n",
    "known_encodings = []\n",
    "known_names = []\n",
    "\n",
    "for filename in os.listdir(known_faces_dir):\n",
    "    if not (filename.endswith(\".jpg\") or filename.endswith(\".png\")):\n",
    "        continue\n",
    "    path = os.path.join(known_faces_dir, filename)\n",
    "    name = os.path.splitext(filename)[0]  # 檔名即人物名稱\n",
    "\n",
    "    image = face_recognition.load_image_file(path)\n",
    "    encodings = face_recognition.face_encodings(image)\n",
    "    if len(encodings) > 0:\n",
    "        known_encodings.append(encodings[0])\n",
    "        known_names.append(name)\n",
    "        print(f\"已載入：{name}\")\n",
    "    else:\n",
    "        print(f\"無法偵測臉部：{filename}\")\n",
    "\n",
    "print(f\"共載入 {len(known_encodings)} 位人物。\")\n",
    "\n",
    "# 讀取未知人臉影像\n",
    "unknown_image = face_recognition.load_image_file(\"images/obama2.jpg\")\n",
    "unknown_locations = face_recognition.face_locations(unknown_image, model=model)\n",
    "unknown_encodings = face_recognition.face_encodings(unknown_image, unknown_locations)\n",
    "\n",
    "# 轉成 OpenCV 格式以顯示\n",
    "unknown_image_bgr = cv2.cvtColor(unknown_image, cv2.COLOR_RGB2BGR)\n",
    "\n",
    "# 比對每一張臉\n",
    "for (top, right, bottom, left), face_encoding in zip(unknown_locations, unknown_encodings):\n",
    "    results = face_recognition.compare_faces(known_encodings, face_encoding, tolerance)\n",
    "    distances = face_recognition.face_distance(known_encodings, face_encoding)\n",
    "    best_match_index = np.argmin(distances)\n",
    "\n",
    "    if results[best_match_index]:\n",
    "        name = known_names[best_match_index]\n",
    "        label = f\"{name} ({distances[best_match_index]:.2f})\"\n",
    "        color = (0, 255, 0)\n",
    "    else:\n",
    "        name = \"Unknown\"\n",
    "        label = f\"{name}\"\n",
    "        color = (0, 0, 255)\n",
    "\n",
    "    # 繪製方框與姓名\n",
    "    cv2.rectangle(unknown_image_bgr, (left, top), (right, bottom), color, 2)\n",
    "    cv2.rectangle(unknown_image_bgr, (left, bottom - 25), (right, bottom), color, cv2.FILLED)\n",
    "    cv2.putText(unknown_image_bgr, label, (left + 6, bottom - 6),\n",
    "                cv2.FONT_HERSHEY_SIMPLEX, 0.6, (255, 255, 255), 1)\n",
    "\n",
    "# 顯示結果\n",
    "cv2.imshow(\"Face Recognition Result\", unknown_image_bgr)\n",
    "cv2.waitKey(0)\n",
    "cv2.destroyAllWindows()\n"
   ]
  }
 ],
 "metadata": {
  "kernelspec": {
   "display_name": "litert_CV",
   "language": "python",
   "name": "python3"
  },
  "language_info": {
   "codemirror_mode": {
    "name": "ipython",
    "version": 3
   },
   "file_extension": ".py",
   "mimetype": "text/x-python",
   "name": "python",
   "nbconvert_exporter": "python",
   "pygments_lexer": "ipython3",
   "version": "3.11.14"
  }
 },
 "nbformat": 4,
 "nbformat_minor": 5
}
