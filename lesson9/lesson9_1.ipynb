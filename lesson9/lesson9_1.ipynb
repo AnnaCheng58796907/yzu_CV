{
 "cells": [
  {
   "cell_type": "code",
   "execution_count": null,
   "id": "ca42b39e",
   "metadata": {},
   "outputs": [
    {
     "name": "stdout",
     "output_type": "stream",
     "text": [
      "src = \n",
      " [[0 0 0 0 0 0 0]\n",
      " [0 1 1 1 1 1 0]\n",
      " [0 1 1 1 1 1 0]\n",
      " [0 1 1 1 1 1 0]\n",
      " [0 1 1 1 1 1 0]\n",
      " [0 1 1 1 1 1 0]\n",
      " [0 0 0 0 0 0 0]]\n",
      "kernel = \n",
      " [[1 1 1]\n",
      " [1 1 1]\n",
      " [1 1 1]]\n",
      "Erosion = \n",
      " [[0 0 0 0 0 0 0]\n",
      " [0 0 0 0 0 0 0]\n",
      " [0 0 1 1 1 0 0]\n",
      " [0 0 1 1 1 0 0]\n",
      " [0 0 1 1 1 0 0]\n",
      " [0 0 0 0 0 0 0]\n",
      " [0 0 0 0 0 0 0]]\n"
     ]
    }
   ],
   "source": [
    "# erode()侵蝕\n",
    "import cv2\n",
    "import numpy as np\n",
    "\n",
    "src = np.zeros((7, 7), np.uint8)\n",
    "src[1:6, 1:6] = 1                   # 建立前景影像\n",
    "kernel = np.ones((3, 3), np.uint8)  # 建立kernel\n",
    "dst = cv2.erode(src, kernel)        # 侵蝕運算\n",
    "print(f\"src = \\n {src}\")\n",
    "print(f\"kernel = \\n {kernel}\")\n",
    "print(f\"Erosion = \\n {dst}\")"
   ]
  },
  {
   "cell_type": "code",
   "execution_count": null,
   "id": "73c1ebf6",
   "metadata": {},
   "outputs": [],
   "source": [
    "# erode()侵蝕\n",
    "import cv2\n",
    "import numpy as np\n",
    "\n",
    "src = cv2.imread(\"bw.jpg\")\n",
    "kerne1 = np.ones((5, 5), np.uint8)\n",
    "dst1 = cv2.erode(src, kerne1)\n",
    "kerne2 = np.ones((11, 11), np.uint8)  \n",
    "dst2 = cv2.erode(src, kerne2)        \n",
    "cv2.imshow(\"src\", src)\n",
    "cv2.imshow(\"after erosion 5 x 5\", dst1)\n",
    "cv2.imshow(\"after erosion 11 x 11\", dst2)\n",
    "cv2.waitKey(0)\n",
    "cv2.destroyAllWindows()"
   ]
  },
  {
   "cell_type": "code",
   "execution_count": null,
   "id": "4482a041",
   "metadata": {},
   "outputs": [],
   "source": [
    "# erode()侵蝕\n",
    "import cv2\n",
    "import numpy as np\n",
    "\n",
    "src = cv2.imread(\"bw_noise.jpg\")\n",
    "kerne1 = np.ones((3, 3), np.uint8)\n",
    "dst1 = cv2.erode(src, kerne1)\n",
    "kerne2 = np.ones((5, 5), np.uint8)  \n",
    "dst2 = cv2.erode(src, kerne2)        \n",
    "cv2.imshow(\"src\", src)\n",
    "cv2.imshow(\"after erosion 3 x 3\", dst1)\n",
    "cv2.imshow(\"after erosion 5 x 5\", dst2)\n",
    "cv2.waitKey(0)\n",
    "cv2.destroyAllWindows()"
   ]
  },
  {
   "cell_type": "code",
   "execution_count": null,
   "id": "19c50f1d",
   "metadata": {},
   "outputs": [],
   "source": [
    "# erode()侵蝕\n",
    "import cv2\n",
    "import numpy as np\n",
    "\n",
    "src = cv2.imread(\"whilster.jpg\")\n",
    "kerne1 = np.ones((3, 3), np.uint8)\n",
    "dst1 = cv2.erode(src, kerne1)\n",
    "kerne2 = np.ones((5, 5), np.uint8)  \n",
    "dst2 = cv2.erode(src, kerne2)        \n",
    "cv2.imshow(\"src\", src)\n",
    "cv2.imshow(\"after erosion 3 x 3\", dst1)\n",
    "cv2.imshow(\"after erosion 5 x 5\", dst2)\n",
    "cv2.waitKey(0)\n",
    "cv2.destroyAllWindows()"
   ]
  },
  {
   "cell_type": "code",
   "execution_count": null,
   "id": "2222fd34",
   "metadata": {},
   "outputs": [
    {
     "name": "stdout",
     "output_type": "stream",
     "text": [
      "src = \n",
      " [[0 0 0 0 0 0 0]\n",
      " [0 0 0 0 0 0 0]\n",
      " [0 0 1 1 1 0 0]\n",
      " [0 0 1 1 1 0 0]\n",
      " [0 0 1 1 1 0 0]\n",
      " [0 0 0 0 0 0 0]\n",
      " [0 0 0 0 0 0 0]]\n",
      "kernel = \n",
      " [[1 1 1]\n",
      " [1 1 1]\n",
      " [1 1 1]]\n",
      "Dilation = \n",
      " [[0 0 0 0 0 0 0]\n",
      " [0 1 1 1 1 1 0]\n",
      " [0 1 1 1 1 1 0]\n",
      " [0 1 1 1 1 1 0]\n",
      " [0 1 1 1 1 1 0]\n",
      " [0 1 1 1 1 1 0]\n",
      " [0 0 0 0 0 0 0]]\n"
     ]
    }
   ],
   "source": [
    "# dilate() 擴展\n",
    "import cv2\n",
    "import numpy as np\n",
    "\n",
    "src = np.zeros((7, 7), np.uint8)\n",
    "src[2:5, 2:5] = 1                   # 建立前景影像\n",
    "kernel = np.ones((3, 3), np.uint8)  # 建立kernel\n",
    "dst = cv2.dilate(src, kernel)       # 擴展運算\n",
    "print(f\"src = \\n {src}\")\n",
    "print(f\"kernel = \\n {kernel}\")\n",
    "print(f\"Dilation = \\n {dst}\")"
   ]
  },
  {
   "cell_type": "code",
   "execution_count": 4,
   "id": "7a5ee919",
   "metadata": {},
   "outputs": [],
   "source": [
    "# dilate()擴展\n",
    "import cv2\n",
    "import numpy as np\n",
    "\n",
    "src = cv2.imread(\"bw_dilate.jpg\")\n",
    "kerne1 = np.ones((5, 5), np.uint8)\n",
    "dst1 = cv2.dilate(src, kerne1)\n",
    "kerne2 = np.ones((11, 11), np.uint8)  \n",
    "dst2 = cv2.dilate(src, kerne2)        \n",
    "cv2.imshow(\"src\", src)\n",
    "cv2.imshow(\"after dilation 5 x 5\", dst1)\n",
    "cv2.imshow(\"after dilation 11 x 11\", dst2)\n",
    "cv2.waitKey(0)\n",
    "cv2.destroyAllWindows()"
   ]
  },
  {
   "cell_type": "code",
   "execution_count": 1,
   "id": "221cb706",
   "metadata": {},
   "outputs": [],
   "source": [
    "# dilate()擴展\n",
    "import cv2\n",
    "import numpy as np\n",
    "\n",
    "src = cv2.imread(\"a.jpg\")\n",
    "kerne1 = np.ones((3, 3), np.uint8)\n",
    "dst1 = cv2.dilate(src, kerne1)\n",
    "kerne2 = np.ones((5, 5), np.uint8)  \n",
    "dst2 = cv2.dilate(src, kerne2)        \n",
    "cv2.imshow(\"src\", src)\n",
    "cv2.imshow(\"after dilation 3 x 3\", dst1)\n",
    "cv2.imshow(\"after dilation 5 x 5\", dst2)\n",
    "cv2.waitKey(0)\n",
    "cv2.destroyAllWindows()"
   ]
  },
  {
   "cell_type": "code",
   "execution_count": 2,
   "id": "8d35b3a3",
   "metadata": {},
   "outputs": [],
   "source": [
    "# dilate()擴展\n",
    "import cv2\n",
    "import numpy as np\n",
    "\n",
    "src = cv2.imread(\"whilster.jpg\")\n",
    "kerne1 = np.ones((3, 3), np.uint8)\n",
    "dst1 = cv2.dilate(src, kerne1)\n",
    "kerne2 = np.ones((5, 5), np.uint8)  \n",
    "dst2 = cv2.dilate(src, kerne2)        \n",
    "cv2.imshow(\"src\", src)\n",
    "cv2.imshow(\"after dilation 3 x 3\", dst1)\n",
    "cv2.imshow(\"after dilation 5 x 5\", dst2)\n",
    "cv2.waitKey(0)\n",
    "cv2.destroyAllWindows()"
   ]
  },
  {
   "cell_type": "code",
   "execution_count": null,
   "id": "54555c34",
   "metadata": {},
   "outputs": [],
   "source": [
    "# morphologyEx()開運算, 對影像先做侵蝕再做擴展\n",
    "import cv2\n",
    "import numpy as np\n",
    "\n",
    "src = cv2.imread(\"btree.jpg\")\n",
    "kernel = np.ones((3, 3), np.uint8)\n",
    "dst = cv2.morphologyEx(src, cv2.MORPH_OPEN, kernel)\n",
    "cv2.imshow(\"src\", src)\n",
    "cv2.imshow(\"after Opening 3 x 3\", dst)\n",
    "cv2.waitKey(0)\n",
    "cv2.destroyAllWindows()\n"
   ]
  },
  {
   "cell_type": "code",
   "execution_count": 1,
   "id": "4d8793e8",
   "metadata": {},
   "outputs": [],
   "source": [
    "# morphologyEx()開運算, 對影像先做侵蝕再做擴展\n",
    "import cv2\n",
    "import numpy as np\n",
    "\n",
    "src = cv2.imread(\"night.png\")\n",
    "kernel = np.ones((9, 9), np.uint8)\n",
    "mid = cv2.erode(src, kernel)\n",
    "dst = cv2.dilate(mid, kernel)\n",
    "cv2.imshow(\"src\", src)\n",
    "cv2.imshow(\"after erosion 9 x 9\", mid)\n",
    "cv2.imshow(\"after dilation 9 x 9\", dst)\n",
    "cv2.waitKey(0)\n",
    "cv2.destroyAllWindows()\n"
   ]
  },
  {
   "cell_type": "code",
   "execution_count": null,
   "id": "706b329e",
   "metadata": {},
   "outputs": [],
   "source": []
  }
 ],
 "metadata": {
  "kernelspec": {
   "display_name": "yzu_CV",
   "language": "python",
   "name": "python3"
  },
  "language_info": {
   "codemirror_mode": {
    "name": "ipython",
    "version": 3
   },
   "file_extension": ".py",
   "mimetype": "text/x-python",
   "name": "python",
   "nbconvert_exporter": "python",
   "pygments_lexer": "ipython3",
   "version": "3.13.5"
  }
 },
 "nbformat": 4,
 "nbformat_minor": 5
}
