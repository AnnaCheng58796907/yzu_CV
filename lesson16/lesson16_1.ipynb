{
 "cells": [
  {
   "cell_type": "markdown",
   "id": "9cd08b6c",
   "metadata": {},
   "source": [
    "#### CV_mp 虛擬環境"
   ]
  },
  {
   "cell_type": "code",
   "execution_count": null,
   "id": "8d177f25",
   "metadata": {},
   "outputs": [],
   "source": [
    "import cv2\n",
    "import mediapipe as mp\n",
    "\n",
    "mp_face_detection = mp.solutions.face_detection\n",
    "mp_drawing = mp.solutions.drawing_utils\n",
    "face_detection = mp_face_detection.FaceDetection(\n",
    "    min_detection_confidence=0.5)\n",
    "\n",
    "img = cv2.imread(\"images/face.jpg\")"
   ]
  }
 ],
 "metadata": {
  "kernelspec": {
   "display_name": "CV_mp",
   "language": "python",
   "name": "python3"
  },
  "language_info": {
   "name": "python",
   "version": "3.11.14"
  }
 },
 "nbformat": 4,
 "nbformat_minor": 5
}
