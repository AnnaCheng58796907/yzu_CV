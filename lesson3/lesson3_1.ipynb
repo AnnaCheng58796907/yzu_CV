{
 "cells": [
  {
   "cell_type": "code",
   "execution_count": 1,
   "id": "b6462370",
   "metadata": {},
   "outputs": [
    {
     "name": "stdout",
     "output_type": "stream",
     "text": [
      "[('Alice', 25, 88.5) ('Bob', 30, 92. )]\n"
     ]
    }
   ],
   "source": [
    "# Numpy 的資料型態\n",
    "\n",
    "import numpy as np\n",
    "dt = np.dtype([('name', 'U10'),\n",
    "               ('age', 'i4'),\n",
    "               ('score', 'f4')])\n",
    "data = np.array([(\"Alice\", 25, 88.5),\n",
    "                 (\"Bob\", 30, 92.0)],\n",
    "                 dtype=dt)\n",
    "print(data)"
   ]
  },
  {
   "cell_type": "code",
   "execution_count": 2,
   "id": "d8d929e3",
   "metadata": {},
   "outputs": [
    {
     "name": "stdout",
     "output_type": "stream",
     "text": [
      "<class 'numpy.ndarray'>\n",
      "[1 2 3]\n"
     ]
    }
   ],
   "source": [
    "# Numpy 的資料型態\n",
    "# 使用array 函式建立㇐維陣列\n",
    "import numpy as np\n",
    "x = np.array([1, 2, 3])\n",
    "print(type(x))\n",
    "print(x)"
   ]
  },
  {
   "cell_type": "code",
   "execution_count": 3,
   "id": "45f624c4",
   "metadata": {},
   "outputs": [
    {
     "name": "stdout",
     "output_type": "stream",
     "text": [
      "1\n",
      "2\n",
      "3\n"
     ]
    }
   ],
   "source": [
    "# Numpy 的資料型態\n",
    "# 列出陣列元素內容\n",
    "import numpy as np\n",
    "x = np.array([1, 2, 3])\n",
    "print(x[0])\n",
    "print(x[1])\n",
    "print(x[2])"
   ]
  },
  {
   "cell_type": "code",
   "execution_count": 4,
   "id": "a65d89ce",
   "metadata": {},
   "outputs": [
    {
     "name": "stdout",
     "output_type": "stream",
     "text": [
      "[ 1 10  3]\n"
     ]
    }
   ],
   "source": [
    "# Numpy 的資料型態\n",
    "# 設定陣列內容\n",
    "import numpy as np\n",
    "x = np.array([1, 2, 3])\n",
    "x[1] = 10\n",
    "print(x)"
   ]
  },
  {
   "cell_type": "code",
   "execution_count": 5,
   "id": "60eaf5a4",
   "metadata": {},
   "outputs": [
    {
     "name": "stdout",
     "output_type": "stream",
     "text": [
      "int64\n",
      "8\n",
      "1\n",
      "(3,)\n",
      "3\n"
     ]
    }
   ],
   "source": [
    "# Numpy 的資料型態\n",
    "# 認識ndarray 陣列的屬性\n",
    "import numpy as np\n",
    "x = np.array([1, 2, 3])\n",
    "print(x.dtype)\n",
    "print(x.itemsize)\n",
    "print(x.ndim)\n",
    "print(x.shape)\n",
    "print(x.size)"
   ]
  },
  {
   "cell_type": "code",
   "execution_count": 6,
   "id": "e6972247",
   "metadata": {},
   "outputs": [
    {
     "name": "stdout",
     "output_type": "stream",
     "text": [
      "int8\n",
      "1\n",
      "1\n",
      "(3,)\n",
      "3\n"
     ]
    }
   ],
   "source": [
    "# Numpy 的資料型態\n",
    "# 設定ndarray 陣列的元素資料型態\n",
    "import numpy as np\n",
    "x = np.array([1, 2, 3], dtype=np.int8)\n",
    "print(x.dtype)\n",
    "print(x.itemsize)\n",
    "print(x.ndim)\n",
    "print(x.shape)\n",
    "print(x.size)"
   ]
  },
  {
   "cell_type": "code",
   "execution_count": 7,
   "id": "52fff629",
   "metadata": {},
   "outputs": [
    {
     "name": "stdout",
     "output_type": "stream",
     "text": [
      "float64\n",
      "8\n",
      "1\n",
      "(3,)\n",
      "3\n",
      "[1.1 2.3 3.6]\n"
     ]
    }
   ],
   "source": [
    "# Numpy 的資料型態\n",
    "# 浮點數陣列的建立與列印\n",
    "import numpy as np\n",
    "x = np.array([1.1, 2.3, 3.6])\n",
    "print(x.dtype)\n",
    "print(x.itemsize)\n",
    "print(x.ndim)\n",
    "print(x.shape)\n",
    "print(x.size)\n",
    "print(x)"
   ]
  },
  {
   "cell_type": "code",
   "execution_count": 8,
   "id": "d84cf6f6",
   "metadata": {},
   "outputs": [
    {
     "name": "stdout",
     "output_type": "stream",
     "text": [
      "陣列維度 = 2\n",
      "陣列外型 = (1, 3)\n",
      "陣列大小 = 3\n",
      "陣列內容\n",
      "[[1 2 3]]\n",
      "----------------------------------------------------------------------\n",
      "陣列維度 = 2\n",
      "陣列外型 = (2, 3)\n",
      "陣列大小 = 6\n",
      "陣列內容\n",
      "[[1 2 3]\n",
      " [4 5 6]]\n"
     ]
    }
   ],
   "source": [
    "# Numpy 的資料型態\n",
    "# 使用array 函式建立多維陣列\n",
    "import numpy as np\n",
    "row1 = [1, 2, 3]\n",
    "arr1 = np.array(row1, ndmin=2)\n",
    "print(f\"陣列維度 = {arr1.ndim}\")\n",
    "print(f\"陣列外型 = {arr1.shape}\")\n",
    "print(f\"陣列大小 = {arr1.size}\")\n",
    "print(\"陣列內容\")\n",
    "print(arr1)\n",
    "print(\"-\"*70)\n",
    "row2 = [4, 5, 6]\n",
    "arr2 = np.array([row1, row2], ndmin=2)\n",
    "print(f\"陣列維度 = {arr2.ndim}\")\n",
    "print(f\"陣列外型 = {arr2.shape}\")\n",
    "print(f\"陣列大小 = {arr2.size}\")\n",
    "print(\"陣列內容\")\n",
    "print(arr2)"
   ]
  },
  {
   "cell_type": "code",
   "execution_count": 9,
   "id": "35502199",
   "metadata": {},
   "outputs": [
    {
     "name": "stdout",
     "output_type": "stream",
     "text": [
      "陣列維度 = 2\n",
      "陣列外型 = (2, 3)\n",
      "陣列大小 = 6\n",
      "陣列內容\n",
      "[[1 2 3]\n",
      " [4 5 6]]\n"
     ]
    }
   ],
   "source": [
    "# Numpy 的資料型態\n",
    "# 使用array 函式建立多維陣列\n",
    "import numpy as np\n",
    "x = np.array([[1, 2, 3], [4, 5, 6]])\n",
    "print(f\"陣列維度 = {x.ndim}\")\n",
    "print(f\"陣列外型 = {x.shape}\")\n",
    "print(f\"陣列大小 = {x.size}\")\n",
    "print(\"陣列內容\")\n",
    "print(x)"
   ]
  },
  {
   "cell_type": "code",
   "execution_count": 10,
   "id": "260fd124",
   "metadata": {},
   "outputs": [
    {
     "name": "stdout",
     "output_type": "stream",
     "text": [
      "3\n",
      "6\n",
      "3\n",
      "6\n"
     ]
    }
   ],
   "source": [
    "# Numpy 的資料型態\n",
    "# 二維陣列的索引\n",
    "import numpy as np\n",
    "x = np.array([[1, 2, 3], [4, 5, 6]])\n",
    "print(x[0][2])\n",
    "print(x[1][2])\n",
    " # 或是\n",
    "print(x[0, 2])\n",
    "print(x[1, 2])"
   ]
  },
  {
   "cell_type": "code",
   "execution_count": 11,
   "id": "0ad9eea7",
   "metadata": {},
   "outputs": [
    {
     "name": "stdout",
     "output_type": "stream",
     "text": [
      "[0. 0. 0.]\n",
      "----------------------------------------------------------------------\n",
      "[[0 0 0]\n",
      " [0 0 0]]\n"
     ]
    }
   ],
   "source": [
    "# Numpy 的資料型態\n",
    "# 使用zeros 函式建立內容都是0的陣列\n",
    "import numpy as np\n",
    "x1 = np.zeros(3)\n",
    "print(x1)\n",
    "print(\"-\"*70)\n",
    "x2 = np.zeros((2, 3), dtype=np.uint8)\n",
    "print(x2)"
   ]
  },
  {
   "cell_type": "code",
   "execution_count": 12,
   "id": "f94170e6",
   "metadata": {},
   "outputs": [
    {
     "name": "stdout",
     "output_type": "stream",
     "text": [
      "[[0 0 0 ... 0 0 0]\n",
      " [0 0 0 ... 0 0 0]\n",
      " [0 0 0 ... 0 0 0]\n",
      " ...\n",
      " [0 0 0 ... 0 0 0]\n",
      " [0 0 0 ... 0 0 0]\n",
      " [0 0 0 ... 0 0 0]]\n"
     ]
    }
   ],
   "source": [
    "# Numpy 的資料型態\n",
    "# 內容都是0的陣列相當於㇐張黑色影像\n",
    "import cv2\n",
    "import numpy as np\n",
    "fig = np.zeros((50, 200), dtype=np.uint8)\n",
    "print(fig)\n",
    "cv2.imshow(\"fig\", fig)\n",
    "cv2.waitKey(0)\n",
    "cv2.destroyAllWindows()"
   ]
  },
  {
   "cell_type": "code",
   "execution_count": 13,
   "id": "b4d1da90",
   "metadata": {},
   "outputs": [
    {
     "name": "stdout",
     "output_type": "stream",
     "text": [
      "[1. 1. 1.]\n",
      "----------------------------------------------------------------------\n",
      "[[1 1 1]\n",
      " [1 1 1]]\n"
     ]
    }
   ],
   "source": [
    "# Numpy 的資料型態\n",
    "# 使用ones 函式建立內容都是1的陣列\n",
    "import numpy as np\n",
    "x1 = np.ones(3)\n",
    "print(x1)\n",
    "print(\"-\"*70)\n",
    "x2 = np.ones((2, 3), dtype=np.uint8)\n",
    "print(x2)"
   ]
  },
  {
   "cell_type": "code",
   "execution_count": 14,
   "id": "15908538",
   "metadata": {},
   "outputs": [
    {
     "name": "stdout",
     "output_type": "stream",
     "text": [
      "[[255 255 255 ... 255 255 255]\n",
      " [255 255 255 ... 255 255 255]\n",
      " [255 255 255 ... 255 255 255]\n",
      " ...\n",
      " [255 255 255 ... 255 255 255]\n",
      " [255 255 255 ... 255 255 255]\n",
      " [255 255 255 ... 255 255 255]]\n"
     ]
    }
   ],
   "source": [
    "# Numpy 的資料型態\n",
    "# 內容都是255的陣列相當於㇐張白色影像\n",
    "import cv2\n",
    "import numpy as np\n",
    "fig = np.ones((50, 200), dtype=np.uint8) * 255\n",
    "print(fig)\n",
    "cv2.imshow(\"fig\", fig)\n",
    "cv2.waitKey(0)\n",
    "cv2.destroyAllWindows()"
   ]
  },
  {
   "cell_type": "code",
   "execution_count": 15,
   "id": "09d3acf6",
   "metadata": {},
   "outputs": [
    {
     "name": "stdout",
     "output_type": "stream",
     "text": [
      "[1. 1. 1.]\n",
      "----------------------------------------------------------------------\n",
      "[[0 0 0]\n",
      " [0 0 0]]\n"
     ]
    }
   ],
   "source": [
    "# Numpy 的資料型態\n",
    "# 使用empty 函式建立未初始化的陣列\n",
    "import numpy as np\n",
    "x1 = np.empty(3)\n",
    "print(x1)\n",
    "print(\"-\"*70)\n",
    "x2 = np.empty((2, 3), dtype=np.uint8)\n",
    "print(x2)"
   ]
  },
  {
   "cell_type": "code",
   "execution_count": 16,
   "id": "3550040e",
   "metadata": {},
   "outputs": [
    {
     "name": "stdout",
     "output_type": "stream",
     "text": [
      "回傳值是10(含)至20(不含)的單一隨機數\n",
      "11\n",
      "----------------------------------------------------------------------\n",
      "回傳一維陣列10個元素, 值是1(含)至5(不含)的隨機數\n",
      "[3 1 4 2 3 3 2 4 2 1]\n",
      "----------------------------------------------------------------------\n",
      "回傳單3*5陣列, 值是0(含)至10(不含)的隨機數\n",
      "[[1 3 7 2 0]\n",
      " [9 5 3 6 6]\n",
      " [4 3 4 5 1]]\n"
     ]
    }
   ],
   "source": [
    "# Numpy 的資料型態\n",
    "# 使用random.randint 函式建立隨機內容的陣列\n",
    "import numpy as np\n",
    "x1 = np.random.randint(10, 20)\n",
    "print(\"回傳值是10(含)至20(不含)的單一隨機數\")\n",
    "print(x1)\n",
    "print(\"-\"*70)\n",
    "print(\"回傳一維陣列10個元素, 值是1(含)至5(不含)的隨機數\")\n",
    "x2 = np.random.randint(1, 5, 10)\n",
    "print(x2)\n",
    "print(\"-\"*70)\n",
    "print(\"回傳單3*5陣列, 值是0(含)至10(不含)的隨機數\")\n",
    "x3 = np.random.randint(10, size=(3, 5))\n",
    "print(x3)"
   ]
  },
  {
   "cell_type": "code",
   "execution_count": 17,
   "id": "b39a14ae",
   "metadata": {},
   "outputs": [
    {
     "name": "stdout",
     "output_type": "stream",
     "text": [
      "[ 0  1  2  3  4  5  6  7  8  9 10 11 12 13 14 15]\n"
     ]
    }
   ],
   "source": [
    "# Numpy 的資料型態\n",
    "# 使用arange 函式建立陣列資料\n",
    "import numpy as np\n",
    "x = np.arange(16)\n",
    "print(x)"
   ]
  },
  {
   "cell_type": "code",
   "execution_count": 18,
   "id": "45e6b5e0",
   "metadata": {},
   "outputs": [
    {
     "name": "stdout",
     "output_type": "stream",
     "text": [
      "[ 0  1  2  3  4  5  6  7  8  9 10 11 12 13 14 15]\n",
      "[[ 0  1  2  3  4  5  6  7]\n",
      " [ 8  9 10 11 12 13 14 15]]\n"
     ]
    }
   ],
   "source": [
    "# Numpy 的資料型態\n",
    "# 使用reshape 函式變更陣列的形狀\n",
    "import numpy as np\n",
    "x = np.arange(16)\n",
    "print(x)\n",
    "print(np.reshape(x, (2, 8)))"
   ]
  },
  {
   "cell_type": "code",
   "execution_count": 19,
   "id": "105965d6",
   "metadata": {},
   "outputs": [
    {
     "name": "stdout",
     "output_type": "stream",
     "text": [
      "[ 0  1  2  3  4  5  6  7  8  9 10 11 12 13 14 15]\n",
      "[[ 0  1  2  3]\n",
      " [ 4  5  6  7]\n",
      " [ 8  9 10 11]\n",
      " [12 13 14 15]]\n"
     ]
    }
   ],
   "source": [
    "# Numpy 的資料型態\n",
    "# 使用reshape 函式變更陣列的形狀\n",
    "import numpy as np\n",
    "x = np.arange(16)\n",
    "print(x)\n",
    "print(np.reshape(x, (4, -1)))"
   ]
  },
  {
   "cell_type": "code",
   "execution_count": 20,
   "id": "b416e0f3",
   "metadata": {},
   "outputs": [
    {
     "name": "stdout",
     "output_type": "stream",
     "text": [
      "[ 0  1  2  3  4  5  6  7  8  9 10 11 12 13 14 15]\n",
      "[[ 0  1  2  3  4  5  6  7]\n",
      " [ 8  9 10 11 12 13 14 15]]\n"
     ]
    }
   ],
   "source": [
    "# Numpy 的資料型態\n",
    "# 使用reshape 函式變更陣列的形狀\n",
    "import numpy as np\n",
    "x = np.arange(16)\n",
    "print(x)\n",
    "print(np.reshape(x, (-1, 8)))"
   ]
  },
  {
   "cell_type": "code",
   "execution_count": 21,
   "id": "6a48a3d6",
   "metadata": {},
   "outputs": [
    {
     "name": "stdout",
     "output_type": "stream",
     "text": [
      "[6 7 8]\n"
     ]
    }
   ],
   "source": [
    "# Numpy 的資料型態\n",
    "# 陣列的四則運算\n",
    "import numpy as np\n",
    "x = np.array([1, 2, 3])\n",
    "y = x + 5\n",
    "print(y)"
   ]
  },
  {
   "cell_type": "code",
   "execution_count": 22,
   "id": "ba59f0c4",
   "metadata": {},
   "outputs": [
    {
     "name": "stdout",
     "output_type": "stream",
     "text": [
      "[11 22 33]\n"
     ]
    }
   ],
   "source": [
    "# Numpy 的資料型態\n",
    "# 陣列的四則運算\n",
    "import numpy as np\n",
    "x = np.array([1, 2, 3])\n",
    "y = np.array([10, 20, 30])\n",
    "z = x + y\n",
    "print(z)"
   ]
  },
  {
   "cell_type": "code",
   "execution_count": 23,
   "id": "ddf2c644",
   "metadata": {},
   "outputs": [
    {
     "name": "stdout",
     "output_type": "stream",
     "text": [
      "[10 40 90]\n"
     ]
    }
   ],
   "source": [
    "# Numpy 的資料型態\n",
    "# 陣列的四則運算\n",
    "import numpy as np\n",
    "x = np.array([1, 2, 3])\n",
    "y = np.array([10, 20, 30])\n",
    "z = x * y\n",
    "print(z)"
   ]
  },
  {
   "cell_type": "code",
   "execution_count": 24,
   "id": "9841bbf9",
   "metadata": {},
   "outputs": [
    {
     "name": "stdout",
     "output_type": "stream",
     "text": [
      "[0.1 0.1 0.1]\n",
      "[10. 10. 10.]\n"
     ]
    }
   ],
   "source": [
    "# Numpy 的資料型態\n",
    "# 陣列的四則運算\n",
    "import numpy as np\n",
    "x = np.array([1, 2, 3])\n",
    "y = np.array([10, 20, 30])\n",
    "z = x / y\n",
    "print(z)\n",
    "z = y / x\n",
    "print(z)"
   ]
  },
  {
   "cell_type": "code",
   "execution_count": 25,
   "id": "c2e33abc",
   "metadata": {},
   "outputs": [
    {
     "name": "stdout",
     "output_type": "stream",
     "text": [
      "[False False False]\n",
      "[ True  True  True]\n"
     ]
    }
   ],
   "source": [
    "# Numpy 的資料型態\n",
    "# 陣列的關係運算\n",
    "import numpy as np\n",
    "x = np.array([1, 2, 3])\n",
    "y = np.array([10, 20, 30])\n",
    "z = x > y\n",
    "print(z)\n",
    "z = x < y\n",
    "print(z)"
   ]
  },
  {
   "cell_type": "code",
   "execution_count": 26,
   "id": "65510bf3",
   "metadata": {},
   "outputs": [
    {
     "name": "stdout",
     "output_type": "stream",
     "text": [
      "陣列元素如下 : [0 1 2 3 4 5 6 7 8 9] \n",
      "x[2:]       = [2 3 4 5 6 7 8 9]\n",
      "x[:2]       = [0 1 2]\n",
      "x[0:3]      = [0 1 2]\n",
      "x[1:4]      = [1 2 3]\n",
      "x[0:9:2]    = [0 2 4 6 8]\n",
      "x[-1]       = 9\n",
      "x[::2]      = [0 2 4 6 8]\n",
      "x[2::3]     = [2 5 8]\n",
      "x[:]        = [0 1 2 3 4 5 6 7 8 9]\n",
      "x[::]       = [0 1 2 3 4 5 6 7 8 9]\n",
      "x[-3:-7:-1] = [7 6 5 4]\n"
     ]
    }
   ],
   "source": [
    "# Numpy 的資料型態\n",
    "# 陣列的切片\n",
    "import numpy as np\n",
    "x = np.array([0, 1, 2, 3, 4, 5, 6, 7, 8, 9])\n",
    "print(f\"陣列元素如下 : {x} \")\n",
    "print(f\"x[2:]       = {x[2:]}\")\n",
    "print(f\"x[:2]       = {x[:3]}\")\n",
    "print(f\"x[0:3]      = {x[0:3]}\")\n",
    "print(f\"x[1:4]      = {x[1:4]}\")\n",
    "print(f\"x[0:9:2]    = {x[0:9:2]}\")\n",
    "print(f\"x[-1]       = {x[-1]}\")\n",
    "print(f\"x[::2]      = {x[::2]}\")\n",
    "print(f\"x[2::3]     = {x[2::3]}\")\n",
    "print(f\"x[:]        = {x[:]}\")\n",
    "print(f\"x[::]       = {x[::]}\")\n",
    "print(f\"x[-3:-7:-1] = {x[-3:-7:-1]}\")"
   ]
  },
  {
   "cell_type": "code",
   "execution_count": 27,
   "id": "bda8d454",
   "metadata": {},
   "outputs": [
    {
     "name": "stdout",
     "output_type": "stream",
     "text": [
      "[0 1 2 3 4 5]\n",
      "[0 1 2 3 4 5]\n",
      "[0 1 2 3 4 5]\n",
      "----------------------------------------------------------------------\n",
      "[8 1 2 3 4 5]\n",
      "[7 1 2 3 4 5]\n",
      "[8 1 2 3 4 5]\n"
     ]
    }
   ],
   "source": [
    "# Numpy 的資料型態\n",
    "# Numpy array 函式的copy 參數\n",
    "import numpy as np\n",
    "x1 = np.array([0, 1, 2, 3, 4, 5])\n",
    "x2 = np.array(x1, copy=True)\n",
    "x3 = np.array(x1, copy=False)\n",
    "print(x1)\n",
    "print(x2)\n",
    "print(x3)\n",
    "print('-'*70)\n",
    "x2[0] = 7\n",
    "x3[0] = 8\n",
    "print(x1)\n",
    "print(x2)\n",
    "print(x3)"
   ]
  },
  {
   "cell_type": "code",
   "execution_count": 28,
   "id": "b53d1af6",
   "metadata": {},
   "outputs": [
    {
     "name": "stdout",
     "output_type": "stream",
     "text": [
      "[0 1 2 3 4 5]\n",
      "[0 1 2 3 4 5]\n",
      "[0 1 2 3 4 5]\n",
      "----------------------------------------------------------------------\n",
      "[8 1 2 3 4 5]\n",
      "[7 1 2 3 4 5]\n",
      "[8 1 2 3 4 5]\n"
     ]
    }
   ],
   "source": [
    "# Numpy 的資料型態\n",
    "# Numpy ndarray 類別的 copy 方法\n",
    "import numpy as np\n",
    "x1 = np.array([0, 1, 2, 3, 4, 5])\n",
    "x2 = x1.copy()\n",
    "x3 = x1\n",
    "print(x1)\n",
    "print(x2)\n",
    "print(x3)\n",
    "print('-'*70)\n",
    "x2[0] = 7\n",
    "x3[0] = 8\n",
    "print(x1)\n",
    "print(x2)\n",
    "print(x3)"
   ]
  },
  {
   "cell_type": "code",
   "execution_count": 29,
   "id": "45b097b3",
   "metadata": {},
   "outputs": [
    {
     "name": "stdout",
     "output_type": "stream",
     "text": [
      "[[ 0  1  2  3  4]\n",
      " [ 5  6  7  8  9]\n",
      " [10 11 12 13 14]]\n",
      "x4[2][1] = 11\n",
      "x4[1][3] = 8\n"
     ]
    }
   ],
   "source": [
    "# Numpy 的資料型態\n",
    "# 多維陣列的索引\n",
    "import numpy as np\n",
    "x1 = [0, 1, 2, 3, 4]\n",
    "x2 = [5, 6, 7, 8, 9]\n",
    "x3 = [10, 11, 12, 13, 14]\n",
    "x4 = np.array([x1, x2, x3])\n",
    "print(x4)\n",
    "print(f\"x4[2][1] = {x4[2][1]}\")\n",
    "print(f\"x4[1][3] = {x4[1][3]}\")"
   ]
  },
  {
   "cell_type": "code",
   "execution_count": 31,
   "id": "7507c710",
   "metadata": {},
   "outputs": [
    {
     "name": "stdout",
     "output_type": "stream",
     "text": [
      "[[ 0  1  2  3  4]\n",
      " [ 5  6  7  8  9]\n",
      " [10 11 12 13 14]]\n",
      "x4[2, 1] = 11\n",
      "x4[1, 3] = 8\n"
     ]
    }
   ],
   "source": [
    "# Numpy 的資料型態\n",
    "# 多維陣列的索引\n",
    "import numpy as np\n",
    "x1 = [0, 1, 2, 3, 4]\n",
    "x2 = [5, 6, 7, 8, 9]\n",
    "x3 = [10, 11, 12, 13, 14]\n",
    "x4 = np.array([x1, x2, x3])\n",
    "print(x4)\n",
    "print(f\"x4[2, 1] = {x4[2, 1]}\")\n",
    "print(f\"x4[1, 3] = {x4[1, 3]}\")"
   ]
  },
  {
   "cell_type": "code",
   "execution_count": 30,
   "id": "36e1e00a",
   "metadata": {},
   "outputs": [
    {
     "name": "stdout",
     "output_type": "stream",
     "text": [
      "[[[ 0  1  2  3  4]\n",
      "  [ 5  6  7  8  9]\n",
      "  [10 11 12 13 14]]\n",
      "\n",
      " [[ 0  1  2  3  4]\n",
      "  [ 5  6  7  8  9]\n",
      "  [10 11 12 13 14]]]\n",
      "x5[0][2][1] = 11\n",
      "x5[0][1][3] = 8\n",
      "x5[1][0][1] = 1\n",
      "x5[1][1][4] = 9\n"
     ]
    }
   ],
   "source": [
    "# Numpy 的資料型態\n",
    "# 多維陣列的索引\n",
    "import numpy as np\n",
    "x1 = [0, 1, 2, 3, 4]\n",
    "x2 = [5, 6, 7, 8, 9]\n",
    "x3 = [10, 11, 12, 13, 14]\n",
    "x4 = np.array([x1, x2, x3])\n",
    "x5 = np.array([x4, x4])\n",
    "print(x5)\n",
    "print(f\"x5[0][2][1] = {x5[0][2][1]}\")\n",
    "print(f\"x5[0][1][3] = {x5[0][1][3]}\")\n",
    "print(f\"x5[1][0][1] = {x5[1][0][1]}\")\n",
    "print(f\"x5[1][1][4] = {x5[1][1][4]}\")"
   ]
  },
  {
   "cell_type": "code",
   "execution_count": 32,
   "id": "e37af3bf",
   "metadata": {},
   "outputs": [
    {
     "name": "stdout",
     "output_type": "stream",
     "text": [
      "[[[ 0  1  2  3  4]\n",
      "  [ 5  6  7  8  9]\n",
      "  [10 11 12 13 14]]\n",
      "\n",
      " [[ 0  1  2  3  4]\n",
      "  [ 5  6  7  8  9]\n",
      "  [10 11 12 13 14]]]\n",
      "x5[0, 2, 1] = 11\n",
      "x5[0, 1, 3] = 8\n",
      "x5[1, 0, 1] = 1\n",
      "x5[1, 1, 4] = 9\n"
     ]
    }
   ],
   "source": [
    "# Numpy 的資料型態\n",
    "# 多維陣列的索引\n",
    "import numpy as np\n",
    "x1 = [0, 1, 2, 3, 4]\n",
    "x2 = [5, 6, 7, 8, 9]\n",
    "x3 = [10, 11, 12, 13, 14]\n",
    "x4 = np.array([x1, x2, x3])\n",
    "x5 = np.array([x4, x4])\n",
    "print(x5)\n",
    "print(f\"x5[0, 2, 1] = {x5[0, 2, 1]}\")\n",
    "print(f\"x5[0, 1, 3] = {x5[0, 1, 3]}\")\n",
    "print(f\"x5[1, 0, 1] = {x5[1, 0, 1]}\")\n",
    "print(f\"x5[1, 1, 4] = {x5[1, 1, 4]}\")"
   ]
  },
  {
   "cell_type": "code",
   "execution_count": 33,
   "id": "8606980b",
   "metadata": {},
   "outputs": [
    {
     "name": "stdout",
     "output_type": "stream",
     "text": [
      "[[ 0  1  2  3  4]\n",
      " [ 5  6  7  8  9]\n",
      " [10 11 12 13 14]]\n",
      "x[:, :] = 結果是二維陣列\n",
      "[[ 0  1  2  3  4]\n",
      " [ 5  6  7  8  9]\n",
      " [10 11 12 13 14]]\n",
      "----------------------------------------------------------------------\n",
      "x[2, :4] = 結果是一維陣列\n",
      "[10 11 12 13]\n",
      "----------------------------------------------------------------------\n",
      "x[:2, :1] = 結果是二維陣列\n",
      "[[0]\n",
      " [5]]\n",
      "----------------------------------------------------------------------\n",
      "x[:, 4:] = 結果是二維陣列\n",
      "[[ 4]\n",
      " [ 9]\n",
      " [14]]\n",
      "----------------------------------------------------------------------\n",
      "x[:, 4] = 結果是一維陣列\n",
      "[ 4  9 14]\n"
     ]
    }
   ],
   "source": [
    "# Numpy 的資料型態\n",
    "# 多維陣列的切片\n",
    "import numpy as np\n",
    "x1 = [0, 1, 2, 3, 4]\n",
    "x2 = [5, 6, 7, 8, 9]\n",
    "x3 = [10, 11, 12, 13, 14]\n",
    "x = np.array([x1, x2, x3])\n",
    "print(x)\n",
    "print(\"x[:, :] = 結果是二維陣列\")\n",
    "print(x[:, :])\n",
    "print(\"-\"*70)\n",
    "print(\"x[2, :4] = 結果是一維陣列\")\n",
    "print(x[2, :4])\n",
    "print(\"-\"*70)\n",
    "print(\"x[:2, :1] = 結果是二維陣列\")\n",
    "print(x[:2, :1])\n",
    "print(\"-\"*70)\n",
    "print(\"x[:, 4:] = 結果是二維陣列\")\n",
    "print(x[:, 4:])\n",
    "print(\"-\"*70)\n",
    "print(\"x[:, 4] = 結果是一維陣列\")\n",
    "print(x[:, 4])"
   ]
  },
  {
   "cell_type": "code",
   "execution_count": 42,
   "id": "5b5db796",
   "metadata": {},
   "outputs": [
    {
     "name": "stdout",
     "output_type": "stream",
     "text": [
      "x = [[ 0  1  2  3  4]\n",
      " [ 5  6  7  8  9]\n",
      " [10 11 12 13 14]]\n",
      "x[:2, 4] = 結果是一維陣列\n",
      "[4 9]\n",
      "----------------------------------------------------------------------\n",
      "x[:2][4] = 結果是?\n"
     ]
    },
    {
     "ename": "IndexError",
     "evalue": "index 4 is out of bounds for axis 0 with size 2",
     "output_type": "error",
     "traceback": [
      "\u001b[31m---------------------------------------------------------------------------\u001b[39m",
      "\u001b[31mIndexError\u001b[39m                                Traceback (most recent call last)",
      "\u001b[36mCell\u001b[39m\u001b[36m \u001b[39m\u001b[32mIn[42]\u001b[39m\u001b[32m, line 13\u001b[39m\n\u001b[32m     11\u001b[39m \u001b[38;5;28mprint\u001b[39m(\u001b[33m\"\u001b[39m\u001b[33m-\u001b[39m\u001b[33m\"\u001b[39m*\u001b[32m70\u001b[39m)\n\u001b[32m     12\u001b[39m \u001b[38;5;28mprint\u001b[39m(\u001b[33m\"\u001b[39m\u001b[33mx[:2][4] = 結果是?\u001b[39m\u001b[33m\"\u001b[39m)\n\u001b[32m---> \u001b[39m\u001b[32m13\u001b[39m \u001b[38;5;28mprint\u001b[39m(\u001b[43mx\u001b[49m\u001b[43m[\u001b[49m\u001b[43m:\u001b[49m\u001b[32;43m2\u001b[39;49m\u001b[43m]\u001b[49m\u001b[43m[\u001b[49m\u001b[32;43m4\u001b[39;49m\u001b[43m]\u001b[49m)\n",
      "\u001b[31mIndexError\u001b[39m: index 4 is out of bounds for axis 0 with size 2"
     ]
    }
   ],
   "source": [
    "# Numpy 的資料型態\n",
    "# 多維陣列的切片\n",
    "import numpy as np\n",
    "x1 = [0, 1, 2, 3, 4]\n",
    "x2 = [5, 6, 7, 8, 9]\n",
    "x3 = [10, 11, 12, 13, 14]\n",
    "x = np.array([x1, x2, x3])\n",
    "print(f'x = {x}')\n",
    "print(\"x[:2, 4] = 結果是一維陣列\")\n",
    "print(x[:2, 4])\n",
    "print(\"-\"*70)\n",
    "print(\"x[:2][4] = 結果是?\")\n",
    "print(x[:2][4])"
   ]
  },
  {
   "cell_type": "code",
   "execution_count": 43,
   "id": "9479917b",
   "metadata": {},
   "outputs": [
    {
     "name": "stdout",
     "output_type": "stream",
     "text": [
      "陣列 1 \n",
      "[[0 1]\n",
      " [2 3]]\n",
      "陣列 2 \n",
      "[[4 5]\n",
      " [6 7]]\n",
      "合併結果 \n",
      "[[0 1]\n",
      " [2 3]\n",
      " [4 5]\n",
      " [6 7]]\n"
     ]
    }
   ],
   "source": [
    "# Numpy 的資料型態\n",
    "# 陣列垂直合併\n",
    "import numpy as np\n",
    "x1 = np.arange(4).reshape(2, 2)\n",
    "print(f\"陣列 1 \\n{x1}\")\n",
    "x2 = np.arange(4, 8).reshape(2, 2)\n",
    "print(f\"陣列 2 \\n{x2}\")\n",
    "x = np.vstack((x1, x2))\n",
    "print(f\"合併結果 \\n{x}\")"
   ]
  },
  {
   "cell_type": "code",
   "execution_count": 44,
   "id": "cb731c26",
   "metadata": {},
   "outputs": [
    {
     "name": "stdout",
     "output_type": "stream",
     "text": [
      "陣列 1 \n",
      "[[0 1]\n",
      " [2 3]]\n",
      "陣列 2 \n",
      "[[4 5]\n",
      " [6 7]]\n",
      "合併結果 \n",
      "[[0 1 4 5]\n",
      " [2 3 6 7]]\n"
     ]
    }
   ],
   "source": [
    "# Numpy 的資料型態\n",
    "# 陣列水平合併\n",
    "import numpy as np\n",
    "x1 = np.arange(4).reshape(2, 2)\n",
    "print(f\"陣列 1 \\n{x1}\")\n",
    "x2 = np.arange(4, 8).reshape(2, 2)\n",
    "print(f\"陣列 2 \\n{x2}\")\n",
    "x = np.hstack((x1, x2))\n",
    "print(f\"合併結果 \\n{x}\")"
   ]
  },
  {
   "cell_type": "code",
   "execution_count": 45,
   "id": "8a96ebec",
   "metadata": {},
   "outputs": [],
   "source": [
    "# Numpy 的資料型態\n",
    "# 建立灰階影像\n",
    "import cv2\n",
    "import numpy as np\n",
    "height = 160\n",
    "width = 280\n",
    "image = np.zeros((height, width), np.uint8)\n",
    "cv2.imshow(\"image\", image)\n",
    "cv2.waitKey(0)\n",
    "cv2.destroyAllWindows()"
   ]
  },
  {
   "cell_type": "code",
   "execution_count": 46,
   "id": "20095557",
   "metadata": {},
   "outputs": [],
   "source": [
    "# Numpy 的資料型態\n",
    "# 建立灰階影像\n",
    "import cv2\n",
    "import numpy as np\n",
    "height = 160\n",
    "width = 280\n",
    "image = np.zeros((height, width), np.uint8)\n",
    "image.fill(255)\n",
    "cv2.imshow(\"image\", image)\n",
    "cv2.waitKey(0)\n",
    "cv2.destroyAllWindows()"
   ]
  },
  {
   "cell_type": "code",
   "execution_count": 47,
   "id": "7c431784",
   "metadata": {},
   "outputs": [],
   "source": [
    "# Numpy 的資料型態\n",
    "# 建立灰階影像\n",
    "import cv2\n",
    "import numpy as np\n",
    "height = 160\n",
    "width = 280\n",
    "image = np.ones((height, width), np.uint8)\n",
    "image = image * 255\n",
    "cv2.imshow(\"image\", image)\n",
    "cv2.waitKey(0)\n",
    "cv2.destroyAllWindows()"
   ]
  },
  {
   "cell_type": "code",
   "execution_count": 48,
   "id": "019f538a",
   "metadata": {},
   "outputs": [],
   "source": [
    "# Numpy 的資料型態\n",
    "# 編輯灰階影像\n",
    "import cv2\n",
    "import numpy as np\n",
    "height = 160\n",
    "width = 280\n",
    "image = np.zeros((height, width), np.uint8)\n",
    "image[40:120, 70:210] = 255\n",
    "cv2.imshow(\"image\", image)\n",
    "cv2.waitKey(0)\n",
    "cv2.destroyAllWindows()"
   ]
  },
  {
   "cell_type": "code",
   "execution_count": 49,
   "id": "9311a734",
   "metadata": {},
   "outputs": [],
   "source": [
    "# Numpy 的資料型態\n",
    "# 編輯灰階影像\n",
    "import cv2\n",
    "import numpy as np\n",
    "height = 160\n",
    "width = 280\n",
    "image = np.zeros((height, width), np.uint8)\n",
    "for y in range(0, height, 20):\n",
    "    image[y:y+10, :] = 255\n",
    "cv2.imshow(\"image\", image)\n",
    "cv2.waitKey(0)\n",
    "cv2.destroyAllWindows()"
   ]
  },
  {
   "cell_type": "code",
   "execution_count": 50,
   "id": "b945fedb",
   "metadata": {},
   "outputs": [],
   "source": [
    "# Numpy 的資料型態\n",
    "# 建立彩色影像\n",
    "import cv2\n",
    "import numpy as np\n",
    "height = 160\n",
    "width = 280\n",
    "image = np.zeros((height, width, 3), np.uint8)\n",
    "image[:, :, 0] = 255\n",
    "cv2.imshow(\"image\", image)\n",
    "cv2.waitKey(0)\n",
    "cv2.destroyAllWindows()"
   ]
  },
  {
   "cell_type": "code",
   "execution_count": 51,
   "id": "2c15cee8",
   "metadata": {},
   "outputs": [],
   "source": [
    "# Numpy 的資料型態\n",
    "# 建立彩色影像\n",
    "import cv2\n",
    "import numpy as np\n",
    "height = 160\n",
    "width = 280\n",
    "image = np.zeros((height, width, 3), np.uint8)\n",
    "blue_image = image.copy()\n",
    "blue_image[:, :, 0] = 255\n",
    "cv2.imshow(\"blue image\", blue_image)\n",
    "green_image = image.copy()\n",
    "green_image[:, :, 1] = 255\n",
    "cv2.imshow(\"green image\", green_image)\n",
    "red_image = image.copy()\n",
    "red_image[:, :, 2] = 255\n",
    "cv2.imshow(\"red image\", red_image)\n",
    "cv2.waitKey(0)\n",
    "cv2.destroyAllWindows()"
   ]
  },
  {
   "cell_type": "code",
   "execution_count": 52,
   "id": "2597ad05",
   "metadata": {},
   "outputs": [],
   "source": [
    "# Numpy 的資料型態\n",
    "# 建立彩色影像\n",
    "import cv2\n",
    "import numpy as np\n",
    "height = 150\n",
    "width = 300\n",
    "image = np.zeros((height, width, 3), np.uint8)\n",
    "image[0:50, :, 0] = 255\n",
    "image[50:100, :, 1] = 255\n",
    "image[100:150, :, 2] = 255\n",
    "cv2.imshow(\"image\", image)\n",
    "cv2.waitKey(0)\n",
    "cv2.destroyAllWindows()"
   ]
  },
  {
   "cell_type": "code",
   "execution_count": 53,
   "id": "b95fe656",
   "metadata": {},
   "outputs": [],
   "source": [
    "# Numpy 的資料型態\n",
    "# 建立彩色的隨機影像\n",
    "import cv2\n",
    "import numpy as np\n",
    "height = 160\n",
    "width = 280\n",
    "image = np.random.randint(256, size=[height, width, 3], dtype=np.uint8)\n",
    "cv2.imshow(\"image\", image)\n",
    "cv2.waitKey(0)\n",
    "cv2.destroyAllWindows()\n"
   ]
  }
 ],
 "metadata": {
  "kernelspec": {
   "display_name": "yzu_CV",
   "language": "python",
   "name": "python3"
  },
  "language_info": {
   "codemirror_mode": {
    "name": "ipython",
    "version": 3
   },
   "file_extension": ".py",
   "mimetype": "text/x-python",
   "name": "python",
   "nbconvert_exporter": "python",
   "pygments_lexer": "ipython3",
   "version": "3.13.5"
  }
 },
 "nbformat": 4,
 "nbformat_minor": 5
}
