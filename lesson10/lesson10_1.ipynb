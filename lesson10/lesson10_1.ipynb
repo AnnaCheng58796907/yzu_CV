{
 "cells": [
  {
   "cell_type": "code",
   "execution_count": null,
   "id": "9644fd36",
   "metadata": {},
   "outputs": [],
   "source": [
    "# 影像梯度(濾波器)\n",
    "# Sober()、Scharr()、Laplacian()\n",
    "# x軸方向梯度\n"
   ]
  }
 ],
 "metadata": {
  "language_info": {
   "name": "python"
  }
 },
 "nbformat": 4,
 "nbformat_minor": 5
}
