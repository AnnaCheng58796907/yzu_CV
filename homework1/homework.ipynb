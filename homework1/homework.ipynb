{
 "cells": [
  {
   "cell_type": "code",
   "execution_count": 1,
   "id": "bb39c3f4",
   "metadata": {
    "tags": [
     "value"
    ]
   },
   "outputs": [
    {
     "name": "stdout",
     "output_type": "stream",
     "text": [
      "[[ 30  54  30 ...   0   0   0]\n",
      " [ 26   6   4 ...   0   0   0]\n",
      " [  0   0   4 ...   0   0   0]\n",
      " ...\n",
      " [154 102 129 ...  87 104   0]\n",
      " [171 112 116 ...  84  89   0]\n",
      " [ 90 102 109 ...  84  89   0]] [[ 30  54  30 ...   0   0   0]\n",
      " [ 26   6   4 ...   0   0   0]\n",
      " [  0   0   4 ...   0   0   0]\n",
      " ...\n",
      " [154 102 129 ...  87 104   0]\n",
      " [171 112 116 ...  84  89   0]\n",
      " [ 90 102 109 ...  84  89   0]]\n"
     ]
    }
   ],
   "source": [
    "import cv2\n",
    "import numpy as np\n",
    "\n",
    "img = cv2.imread('mountain.jpg')\n",
    "copy_img = img.copy()\n",
    "hsv_img = cv2.cvtColor(copy_img, cv2.COLOR_BGR2HSV)\n",
    "h, s, v = cv2.split(hsv_img)\n",
    "ret_value = cv2.waitKey(0)\n",
    "a = h.astype(np.int16)\n",
    "print(a, h)"
   ]
  },
  {
   "cell_type": "code",
   "execution_count": null,
   "id": "e16589fc",
   "metadata": {},
   "outputs": [],
   "source": [
    "if np.any(h <= 0):\n",
    "    print(\"小於0\")\n",
    "else:\n",
    "    h[:, :] -= 5\n",
    "    print(\"減5\")\n",
    "\n",
    "print(h)"
   ]
  },
  {
   "cell_type": "code",
   "execution_count": null,
   "id": "c53989d9",
   "metadata": {},
   "outputs": [],
   "source": [
    "if np.any(h >= 179):\n",
    "    print(\"大於179\")\n",
    "else:\n",
    "    h[:, :] += 5\n",
    "    print(\"加5\")\n",
    "\n",
    "print(h)"
   ]
  }
 ],
 "metadata": {
  "kernelspec": {
   "display_name": "yzu_CV",
   "language": "python",
   "name": "python3"
  },
  "language_info": {
   "codemirror_mode": {
    "name": "ipython",
    "version": 3
   },
   "file_extension": ".py",
   "mimetype": "text/x-python",
   "name": "python",
   "nbconvert_exporter": "python",
   "pygments_lexer": "ipython3",
   "version": "3.13.5"
  }
 },
 "nbformat": 4,
 "nbformat_minor": 5
}
