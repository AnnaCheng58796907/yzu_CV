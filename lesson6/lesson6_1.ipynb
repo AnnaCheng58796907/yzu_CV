{
 "cells": [
  {
   "cell_type": "code",
   "execution_count": 5,
   "id": "ae3152ab",
   "metadata": {},
   "outputs": [],
   "source": [
    "import cv2\n",
    "import numpy as np\n",
    "\n",
    "img = np.ones((200, 300, 3), np.uint8) * 255\n",
    "# cv2.line(img, (50,100), (250, 100), (255, 0, 0))\n",
    "cv2.line(img, (50,100), (250, 100), (255, 0, 0), thickness=11)\n",
    "cv2.imshow(\"My Draw\", img)\n",
    "cv2.waitKey(0)\n",
    "cv2.destroyAllWindows()\n"
   ]
  },
  {
   "cell_type": "code",
   "execution_count": 2,
   "id": "d3dcc7fa",
   "metadata": {},
   "outputs": [],
   "source": [
    "import cv2\n",
    "import numpy as np\n",
    "\n",
    "img = np.ones((200, 300, 3), np.uint8) * 255\n",
    "\n",
    "# Line_4:綠色斜線\n",
    "cv2.line(img, (50, 100), (250, 20), (0, 255, 0), lineType=cv2.LINE_4)\n",
    "\n",
    "# LINE_8: 藍色斜線\n",
    "cv2.line(img, (50, 150), (250, 60), (255, 0, 0), lineType=cv2.LINE_8)\n",
    "\n",
    "# LINE_AA:紅色斜線(抗鋸齒)\n",
    "cv2.line(img, (50, 200), (250, 110), (0, 0, 255), lineType=cv2.LINE_AA)\n",
    "\n",
    "cv2.imshow('Comare Line Types (diagonal)', img)\n",
    "cv2.waitKey(0)\n",
    "cv2.destroyAllWindows()\n",
    "\n"
   ]
  },
  {
   "cell_type": "code",
   "execution_count": 1,
   "id": "9e676fc6",
   "metadata": {},
   "outputs": [],
   "source": [
    "import cv2\n",
    "import numpy as np\n",
    "\n",
    "img = np.ones((300, 600, 3), np.uint8) * 255\n",
    "font = cv2.FONT_HERSHEY_SIMPLEX\n",
    "cv2.putText(img, 'Python', (150, 180), font, 3, (255, 0, 0), 12)\n",
    "cv2.imshow('Python', img)\n",
    "cv2.waitKey(0)\n",
    "cv2.destroyAllWindows()\n"
   ]
  },
  {
   "cell_type": "code",
   "execution_count": 1,
   "id": "3d60d247",
   "metadata": {},
   "outputs": [
    {
     "name": "stderr",
     "output_type": "stream",
     "text": [
      "<>:11: SyntaxWarning: invalid escape sequence '\\W'\n",
      "<>:11: SyntaxWarning: invalid escape sequence '\\W'\n",
      "C:\\Users\\q5j6j\\AppData\\Local\\Temp\\ipykernel_17568\\3834714268.py:11: SyntaxWarning: invalid escape sequence '\\W'\n",
      "  \"C:\\Windows\\Fonts\\mingliu.ttc\",\n"
     ]
    }
   ],
   "source": [
    "import cv2\n",
    "import numpy as np\n",
    "from PIL import Image, ImageDraw, ImageFont\n",
    "\n",
    "\n",
    "def cv2_Chinese_Text(img, text, left, top, textColor, fontSize):\n",
    "    if (isinstance(img, np.ndarray)):\n",
    "        img = Image.fromarray(cv2.cvtColor(img, cv2.COLOR_BGR2RGB))\n",
    "    draw = ImageDraw.Draw(img)\n",
    "    fontText = ImageFont.truetype(\n",
    "        \"C:\\Windows\\Fonts\\mingliu.ttc\",\n",
    "        fontSize,\n",
    "        encoding=\"utf-8\"\n",
    "    )\n",
    "    draw.text((left, top), text, textColor, font=fontText)\n",
    "\n",
    "    return cv2.cvtColor(np.asarray(img), cv2.COLOR_RGB2BGR)\n",
    "\n",
    "img = cv2.imread('antarctic.jpg')\n",
    "img = cv2_Chinese_Text(img, \"我在南極\", 220, 100, (0, 0, 255), 50)\n",
    "cv2.imshow(\"Antarctic\", img)\n",
    "cv2.waitKey(0)\n",
    "cv2.destroyAllWindows()\n"
   ]
  }
 ],
 "metadata": {
  "kernelspec": {
   "display_name": "yzu_CV",
   "language": "python",
   "name": "python3"
  },
  "language_info": {
   "codemirror_mode": {
    "name": "ipython",
    "version": 3
   },
   "file_extension": ".py",
   "mimetype": "text/x-python",
   "name": "python",
   "nbconvert_exporter": "python",
   "pygments_lexer": "ipython3",
   "version": "3.13.5"
  }
 },
 "nbformat": 4,
 "nbformat_minor": 5
}
