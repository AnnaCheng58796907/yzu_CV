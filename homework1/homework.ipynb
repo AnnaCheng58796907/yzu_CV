{
 "cells": [
  {
   "cell_type": "code",
   "execution_count": 50,
   "id": "bb39c3f4",
   "metadata": {},
   "outputs": [],
   "source": [
    "import cv2\n",
    "import numpy as np\n",
    "\n",
    "img = cv2.imread('mountain.jpg')\n",
    "copy_img = img.copy()\n",
    "hsv_img = cv2.cvtColor(copy_img, cv2.COLOR_BGR2HSV)\n",
    "h, s, v = cv2.split(hsv_img)\n",
    "\n"
   ]
  },
  {
   "cell_type": "code",
   "execution_count": 57,
   "id": "e16589fc",
   "metadata": {},
   "outputs": [
    {
     "name": "stdout",
     "output_type": "stream",
     "text": [
      "小於0\n",
      "[[ 30  54  30 ...   0   0   0]\n",
      " [ 26   6   4 ...   0   0   0]\n",
      " [  0   0   4 ...   0   0   0]\n",
      " ...\n",
      " [154 102 129 ...  87 104   0]\n",
      " [171 112 116 ...  84  89   0]\n",
      " [ 90 102 109 ...  84  89   0]]\n"
     ]
    }
   ],
   "source": [
    "if np.any(h <= 0):\n",
    "    print(\"小於0\")\n",
    "else:\n",
    "    h[:, :] -= 5\n",
    "    print(\"減5\")\n",
    "\n",
    "print(h)"
   ]
  },
  {
   "cell_type": "code",
   "execution_count": 60,
   "id": "c53989d9",
   "metadata": {},
   "outputs": [
    {
     "name": "stdout",
     "output_type": "stream",
     "text": [
      "大於179\n",
      "[[ 30  54  30 ...   0   0   0]\n",
      " [ 26   6   4 ...   0   0   0]\n",
      " [  0   0   4 ...   0   0   0]\n",
      " ...\n",
      " [154 102 129 ...  87 104   0]\n",
      " [171 112 116 ...  84  89   0]\n",
      " [ 90 102 109 ...  84  89   0]]\n"
     ]
    }
   ],
   "source": [
    "if np.any(h >= 179):\n",
    "    print(\"大於179\")\n",
    "else:\n",
    "    h[:, :] += 5\n",
    "    print(\"加5\")\n",
    "\n",
    "print(h)"
   ]
  }
 ],
 "metadata": {
  "kernelspec": {
   "display_name": "yzu_CV",
   "language": "python",
   "name": "python3"
  },
  "language_info": {
   "codemirror_mode": {
    "name": "ipython",
    "version": 3
   },
   "file_extension": ".py",
   "mimetype": "text/x-python",
   "name": "python",
   "nbconvert_exporter": "python",
   "pygments_lexer": "ipython3",
   "version": "3.13.5"
  }
 },
 "nbformat": 4,
 "nbformat_minor": 5
}
