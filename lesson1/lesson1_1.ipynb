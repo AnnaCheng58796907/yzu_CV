{
 "cells": [
  {
   "cell_type": "code",
   "execution_count": 1,
   "id": "48ab3650",
   "metadata": {},
   "outputs": [
    {
     "data": {
      "text/plain": [
       "'4.12.0'"
      ]
     },
     "execution_count": 1,
     "metadata": {},
     "output_type": "execute_result"
    }
   ],
   "source": [
    "import cv2\n",
    "\n",
    "cv2.__version__\n"
   ]
  },
  {
   "cell_type": "code",
   "execution_count": 2,
   "id": "dacb580d",
   "metadata": {},
   "outputs": [
    {
     "name": "stdout",
     "output_type": "stream",
     "text": [
      "<class 'numpy.ndarray'>\n",
      "[[[ 21   4 199]\n",
      "  [ 21   4 199]\n",
      "  [ 21   4 199]\n",
      "  ...\n",
      "  [ 21   4 199]\n",
      "  [ 21   4 199]\n",
      "  [ 21   4 199]]\n",
      "\n",
      " [[ 21   4 199]\n",
      "  [ 21   4 199]\n",
      "  [ 21   4 199]\n",
      "  ...\n",
      "  [ 21   4 199]\n",
      "  [ 21   4 199]\n",
      "  [ 21   4 199]]\n",
      "\n",
      " [[ 21   4 199]\n",
      "  [ 21   4 199]\n",
      "  [ 21   4 199]\n",
      "  ...\n",
      "  [ 21   4 199]\n",
      "  [ 21   4 199]\n",
      "  [ 21   4 199]]\n",
      "\n",
      " ...\n",
      "\n",
      " [[ 21   4 199]\n",
      "  [ 21   4 199]\n",
      "  [ 21   4 199]\n",
      "  ...\n",
      "  [ 21   4 199]\n",
      "  [ 21   4 199]\n",
      "  [ 21   4 199]]\n",
      "\n",
      " [[ 21   4 199]\n",
      "  [ 21   4 199]\n",
      "  [ 21   4 199]\n",
      "  ...\n",
      "  [ 21   4 199]\n",
      "  [ 21   4 199]\n",
      "  [ 21   4 199]]\n",
      "\n",
      " [[ 21   4 199]\n",
      "  [ 21   4 199]\n",
      "  [ 21   4 199]\n",
      "  ...\n",
      "  [ 21   4 199]\n",
      "  [ 21   4 199]\n",
      "  [ 21   4 199]]]\n",
      "(700, 700, 3)\n"
     ]
    }
   ],
   "source": [
    "import cv2\n",
    "\n",
    "img = cv2.imread('coca-cola-logo.png')\n",
    "\n",
    "#觀察回傳的資料型態\n",
    "print(type(img))\n",
    "\n",
    "#觀察回穿的資料內容\n",
    "print(img)\n",
    "\n",
    "#觀察回傳的資料形狀\n",
    "print(img.shape)"
   ]
  },
  {
   "cell_type": "code",
   "execution_count": 2,
   "id": "d4178f15",
   "metadata": {},
   "outputs": [],
   "source": [
    "import cv2\n",
    "\n",
    "img = cv2.imread('coca-cola-logo.png')\n",
    "\n",
    "cv2.imshow(\"MyPicture\", img)\n",
    "ret_value = cv2.waitKey(5000)  # 0是無限等待，5000是等待5秒\n",
    "cv2.destroyWindow(\"MyPicture\")\n",
    "cv2.destroyAllWindows()"
   ]
  },
  {
   "cell_type": "code",
   "execution_count": 3,
   "id": "13c532cb",
   "metadata": {},
   "outputs": [
    {
     "name": "stdout",
     "output_type": "stream",
     "text": [
      "ret_value: -1\n"
     ]
    }
   ],
   "source": [
    "import cv2\n",
    "\n",
    "img = cv2.imread('coca-cola-logo.png')\n",
    "\n",
    "cv2.imshow(\"MyPicture\", img)\n",
    "ret_value = cv2.waitKey(5000)  # 0是無限等待，5000是等待5秒\n",
    "cv2.destroyWindow(\"MyPicture\")\n",
    "print(f\"ret_value: {ret_value}\")"
   ]
  },
  {
   "cell_type": "code",
   "execution_count": 4,
   "id": "70aa61d4",
   "metadata": {},
   "outputs": [],
   "source": [
    "import cv2\n",
    "\n",
    "# 設定可調視窗\n",
    "cv2.namedWindow(\"MyPicture1\")\n",
    "cv2.namedWindow(\"MyPicture2\", cv2.WINDOW_NORMAL)\n",
    "\n",
    "img1 = cv2.imread('coca-cola-logo.png')\n",
    "img2 = cv2.imread('coca-cola-logo.png', cv2.IMREAD_GRAYSCALE)\n",
    "\n",
    "cv2.imshow(\"MyPicture1\", img1)\n",
    "cv2.imshow(\"MyPicture2\", img2)\n",
    "\n",
    "ret_value = cv2.waitKey(0)  # 0是無限等待，5000是等待5秒\n",
    "\n",
    "cv2.destroyAllWindows()"
   ]
  },
  {
   "cell_type": "code",
   "execution_count": 1,
   "id": "733f4ca0",
   "metadata": {},
   "outputs": [],
   "source": [
    "import cv2\n",
    "\n",
    "img = cv2.imread('coca-cola-logo.png')\n",
    "\n",
    "cv2.imshow(\"MyPicture\", img)\n",
    "ret_value = cv2.waitKey(0)  # 0是無限等待，5000是等待5秒\n",
    "while ret_value != ord(\"q\"):  # 按下q鍵退出\n",
    "    ret_value = cv2.waitKey(0)  # 等待按鍵輸入\n",
    "cv2.destroyWindow(\"MyPicture\")\n",
    "cv2.destroyAllWindows()"
   ]
  },
  {
   "cell_type": "code",
   "execution_count": 3,
   "id": "9ab6fce9",
   "metadata": {},
   "outputs": [
    {
     "name": "stdout",
     "output_type": "stream",
     "text": [
      "儲存檔案成功!\n"
     ]
    }
   ],
   "source": [
    "import cv2\n",
    "\n",
    "\n",
    "cv2.namedWindow(\"MyPicture\")\n",
    "img = cv2.imread('coca-cola-logo.png')\n",
    "cv2.imshow(\"MyPicture\", img)\n",
    "\n",
    "# 儲存圖片\n",
    "# 將圖片儲存為coca-cola-logo-copy.jpg\n",
    "ret = cv2.imwrite('coca-cola-logo-copy.jpg', img)\n",
    "\n",
    "# 檢查儲存是否成功\n",
    "if ret:\n",
    "    print(\"儲存檔案成功!\")\n",
    "else:\n",
    "    print(\"儲存檔案失敗!\")\n",
    "\n",
    "cv2.waitKey(0)  # 等待按鍵輸入\n",
    "cv2.destroyWindow(\"MyPicture\")\n",
    "cv2.destroyAllWindows()\n"
   ]
  }
 ],
 "metadata": {
  "kernelspec": {
   "display_name": "yzu_CV",
   "language": "python",
   "name": "python3"
  },
  "language_info": {
   "codemirror_mode": {
    "name": "ipython",
    "version": 3
   },
   "file_extension": ".py",
   "mimetype": "text/x-python",
   "name": "python",
   "nbconvert_exporter": "python",
   "pygments_lexer": "ipython3",
   "version": "3.13.5"
  }
 },
 "nbformat": 4,
 "nbformat_minor": 5
}
