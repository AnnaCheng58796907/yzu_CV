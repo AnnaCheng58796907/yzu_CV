{
 "cells": [
  {
   "cell_type": "code",
   "execution_count": 1,
   "id": "fb4f83c6",
   "metadata": {},
   "outputs": [
    {
     "name": "stdout",
     "output_type": "stream",
     "text": [
      "列印灰階影像的屬性\n",
      "shape = (1129, 1693)\n",
      "size = 1911397\n",
      "dtype = uint8\n"
     ]
    }
   ],
   "source": [
    "# 影像表示方法\n",
    "# 獲得灰階影像的屬性\n",
    "import cv2\n",
    "img = cv2.imread(\"Building7.jpg\", cv2.IMREAD_GRAYSCALE)\n",
    "print(\"列印灰階影像的屬性\")\n",
    "print(f\"shape = {img.shape}\")\n",
    "print(f\"size = {img.size}\")\n",
    "print(f\"dtype = {img.dtype}\")"
   ]
  },
  {
   "cell_type": "code",
   "execution_count": 2,
   "id": "6945ed49",
   "metadata": {},
   "outputs": [
    {
     "name": "stdout",
     "output_type": "stream",
     "text": [
      "列印彩色影像的屬性\n",
      "shape = (1129, 1693, 3)\n",
      "size = 5734191\n",
      "dtype = uint8\n"
     ]
    }
   ],
   "source": [
    "# 影像表示方法\n",
    "# 獲得彩色影像的屬性\n",
    "import cv2\n",
    "img = cv2.imread(\"Building7.jpg\")\n",
    "print(\"列印彩色影像的屬性\")\n",
    "print(f\"shape = {img.shape}\")\n",
    "print(f\"size = {img.size}\")\n",
    "print(f\"dtype = {img.dtype}\")"
   ]
  },
  {
   "cell_type": "code",
   "execution_count": 3,
   "id": "dae9254b",
   "metadata": {},
   "outputs": [
    {
     "name": "stdout",
     "output_type": "stream",
     "text": [
      "<class 'numpy.uint8'>\n",
      "灰階數值 = 149\n"
     ]
    }
   ],
   "source": [
    "# 影像表示方法\n",
    "# 讀取灰階影像特定座標像素的灰階數值\n",
    "import cv2\n",
    "pt_y = 169\n",
    "pt_x = 118\n",
    "img = cv2.imread(\"Building7.jpg\", cv2.IMREAD_GRAYSCALE)\n",
    "px = img[pt_y, pt_x]\n",
    "print(type(px))\n",
    "print(f\"灰階數值 = {px}\")"
   ]
  },
  {
   "cell_type": "code",
   "execution_count": 4,
   "id": "15f5b80b",
   "metadata": {},
   "outputs": [
    {
     "name": "stdout",
     "output_type": "stream",
     "text": [
      "<class 'numpy.ndarray'>\n",
      "BGR 數值 = [248 169  72]\n"
     ]
    }
   ],
   "source": [
    "# 影像表示方法\n",
    "# 讀取彩色影像特定座標像素的BGR數值\n",
    "import cv2\n",
    "pt_y = 169\n",
    "pt_x = 118\n",
    "img = cv2.imread(\"Building7.jpg\")\n",
    "px = img[pt_y, pt_x]\n",
    "print(type(px))\n",
    "print(f\"BGR 數值 = {px}\")"
   ]
  },
  {
   "cell_type": "code",
   "execution_count": 5,
   "id": "804d7973",
   "metadata": {},
   "outputs": [
    {
     "name": "stdout",
     "output_type": "stream",
     "text": [
      "BGR 數值 = [248 169 72]\n"
     ]
    }
   ],
   "source": [
    "# 影像表示方法\n",
    "# 讀取彩色影像特定座標像素的各通道數值\n",
    "import cv2\n",
    "pt_y = 169\n",
    "pt_x = 118\n",
    "img = cv2.imread(\"Building7.jpg\")\n",
    "blue = img[pt_y, pt_x, 0]\n",
    "green = img[pt_y, pt_x, 1]\n",
    "red = img[pt_y, pt_x, 2]\n",
    "print(f\"BGR 數值 = [{blue} {green} {red}]\")"
   ]
  },
  {
   "cell_type": "code",
   "execution_count": 6,
   "id": "3c478d54",
   "metadata": {},
   "outputs": [
    {
     "name": "stdout",
     "output_type": "stream",
     "text": [
      "更改前 BGR 數值 = [248 169  72]\n",
      "更改後 BGR 數值 = [255 255 255]\n"
     ]
    }
   ],
   "source": [
    "# 影像表示方法\n",
    "# 修改彩色影像特定座標像素的BGR數值\n",
    "import cv2\n",
    "pt_y = 169\n",
    "pt_x = 118\n",
    "img = cv2.imread(\"Building7.jpg\")\n",
    "print(f\"更改前 BGR 數值 = {img[pt_y, pt_x]}\")\n",
    "img[pt_y, pt_x] = [255, 255, 255]\n",
    "print(f\"更改後 BGR 數值 = {img[pt_y, pt_x]}\")"
   ]
  },
  {
   "cell_type": "code",
   "execution_count": 7,
   "id": "b3af91ba",
   "metadata": {},
   "outputs": [],
   "source": [
    "# 影像表示方法\n",
    "# 修改彩色影像特定區塊像素的BGR數值\n",
    "import cv2\n",
    "img = cv2.imread(\"Building7.jpg\")\n",
    "cv2.namedWindow(\"Before the change\", cv2.WINDOW_NORMAL)\n",
    "cv2.namedWindow(\"After the change\", cv2.WINDOW_NORMAL)\n",
    "cv2.imshow(\"Before the change\", img)\n",
    "for y in range(img.shape[0]-50, img.shape[0]):\n",
    "    for x in range(img.shape[1]-50, img.shape[1]):\n",
    "        img[y, x] = [255, 255, 255]\n",
    "cv2.imshow(\"After the change\", img)\n",
    "cv2.waitKey(0)\n",
    "cv2.destroyAllWindows()"
   ]
  },
  {
   "cell_type": "code",
   "execution_count": 8,
   "id": "4f794bf1",
   "metadata": {},
   "outputs": [
    {
     "name": "stdout",
     "output_type": "stream",
     "text": [
      "[16 37 39]\n",
      "[39 37 16]\n"
     ]
    }
   ],
   "source": [
    "# 影像表示方法\n",
    "# BGR → RGB 色彩空間轉換範例\n",
    "import cv2\n",
    "img = cv2.imread(\"view.jpg\")\n",
    "print(img[0][0])\n",
    "cv2.imshow(\"BGR\", img)\n",
    "img_rgb = cv2.cvtColor(img, cv2.COLOR_BGR2RGB)\n",
    "print(img_rgb[0][0])\n",
    "cv2.imshow(\"RGB\", img_rgb)\n",
    "cv2.waitKey(0)\n",
    "cv2.destroyAllWindows()"
   ]
  },
  {
   "cell_type": "code",
   "execution_count": 9,
   "id": "443674f3",
   "metadata": {},
   "outputs": [
    {
     "name": "stdout",
     "output_type": "stream",
     "text": [
      "[16 37 39]\n",
      "[39 37 16]\n"
     ]
    }
   ],
   "source": [
    "# 影像表示方法\n",
    "# BGR → RGB 色彩空間轉換範例\n",
    "import cv2\n",
    "img = cv2.imread(\"view.jpg\")\n",
    "print(img[0][0])\n",
    "# 若採用這個色彩空間轉換碼，\n",
    "# 會產生什麼結果？\n",
    "cv2.imshow(\"BGR\", img)\n",
    "img_rgb = cv2.cvtColor(img, cv2.COLOR_RGB2BGR)\n",
    "print(img_rgb[0][0])\n",
    "cv2.imshow(\"RGB\", img_rgb)\n",
    "cv2.waitKey(0)\n",
    "cv2.destroyAllWindows()"
   ]
  },
  {
   "cell_type": "code",
   "execution_count": 1,
   "id": "2024c6e0",
   "metadata": {},
   "outputs": [
    {
     "name": "stdout",
     "output_type": "stream",
     "text": [
      "[16 37 39]\n",
      "[39 37 16]\n",
      "[16 37 39]\n"
     ]
    }
   ],
   "source": [
    "# 影像表示方法\n",
    "# BGR → RGB→BGR色彩空間轉換範例\n",
    "import cv2\n",
    "img = cv2.imread(\"view.jpg\")\n",
    "print(img[0][0])\n",
    "cv2.imshow(\"BGR\", img)\n",
    "img_rgb = cv2.cvtColor(img, cv2.COLOR_BGR2RGB)\n",
    "print(img_rgb[0][0])\n",
    "cv2.imshow(\"RGB\", img_rgb)\n",
    "img_bgr = cv2.cvtColor(img_rgb, cv2.COLOR_RGB2BGR)\n",
    "print(img_bgr[0][0])\n",
    "cv2.imshow(\"BGR Again\", img_bgr)\n",
    "cv2.waitKey(0)\n",
    "cv2.destroyAllWindows()"
   ]
  },
  {
   "cell_type": "code",
   "execution_count": 2,
   "id": "a16367c3",
   "metadata": {},
   "outputs": [
    {
     "name": "stdout",
     "output_type": "stream",
     "text": [
      "[16 37 39]\n",
      "35\n",
      "35\n"
     ]
    }
   ],
   "source": [
    "# 影像表示方法\n",
    "# BGR → 灰階色彩空間轉換範例\n",
    "import cv2\n",
    "img = cv2.imread(\"view.jpg\")\n",
    "print(img[0][0])\n",
    "print(int(0.299 * img[0][0][2] + 0.587 * img[0][0][1] + 0.114 * img[0][0][0]))\n",
    "cv2.imshow(\"BGR\", img)\n",
    "img_gray = cv2.cvtColor(img, cv2.COLOR_BGR2GRAY)\n",
    "print(img_gray[0][0])\n",
    "cv2.imshow(\"GRAY\", img_gray)\n",
    "cv2.waitKey(0)\n",
    "cv2.destroyAllWindows()"
   ]
  },
  {
   "cell_type": "code",
   "execution_count": 1,
   "id": "4112bffd",
   "metadata": {},
   "outputs": [
    {
     "name": "stdout",
     "output_type": "stream",
     "text": [
      "[16 37 39]\n",
      "35\n",
      "[35 35 35]\n"
     ]
    }
   ],
   "source": [
    "# 影像表示方法\n",
    "# BGR → 灰階→ BGR 色彩空間轉換範例\n",
    "import cv2\n",
    "img = cv2.imread(\"view.jpg\")\n",
    "print(img[0][0])\n",
    "cv2.imshow(\"BGR\", img)\n",
    "img_gray = cv2.cvtColor(img, cv2.COLOR_BGR2GRAY)\n",
    "print(img_gray[0][0])\n",
    "cv2.imshow(\"GRAY\", img_gray)\n",
    "img_bgr = cv2.cvtColor(img_gray, cv2.COLOR_GRAY2BGR)\n",
    "print(img_bgr[0][0])\n",
    "cv2.imshow(\"BGR Again\", img_bgr)\n",
    "cv2.waitKey(0)\n",
    "cv2.destroyAllWindows()"
   ]
  },
  {
   "cell_type": "code",
   "execution_count": 2,
   "id": "c7eb10f9",
   "metadata": {},
   "outputs": [
    {
     "name": "stdout",
     "output_type": "stream",
     "text": [
      "[250 252 252]\n",
      "[ 30   2 252]\n"
     ]
    }
   ],
   "source": [
    "# 影像表示方法\n",
    "# BGR → HSV 色彩空間轉換範例\n",
    "import cv2\n",
    "img = cv2.imread(\"mountain.jpg\")\n",
    "print(img[0][0])\n",
    "cv2.imshow(\"BGR\", img)\n",
    "img_hsv = cv2.cvtColor(img, cv2.COLOR_BGR2HSV)\n",
    "print(img_hsv[0][0])\n",
    "cv2.imshow(\"HSV\", img_hsv)\n",
    "cv2.waitKey(0)\n",
    "cv2.destroyAllWindows()"
   ]
  },
  {
   "cell_type": "code",
   "execution_count": 1,
   "id": "9dea80ba",
   "metadata": {},
   "outputs": [
    {
     "name": "stdout",
     "output_type": "stream",
     "text": [
      "影像 shape 屬性 = (319, 279, 3)\n",
      "B 通道影像 shape 屬性 = (319, 279)\n"
     ]
    }
   ],
   "source": [
    "# 影像表示方法\n",
    "# 拆分BGR 色彩通道範例\n",
    "import cv2\n",
    "img = cv2.imread('colorbar.jpg')\n",
    "print(f\"影像 shape 屬性 = {img.shape}\")\n",
    "cv2.imshow('bgr', img)\n",
    "blue, green, red = cv2.split(img)\n",
    "cv2.imshow('blue', blue)\n",
    "cv2.imshow('green', green)\n",
    "cv2.imshow('red', red)\n",
    "print(f\"B 通道影像 shape 屬性 = {blue.shape}\")\n",
    "cv2.waitKey(0)\n",
    "cv2.destroyAllWindows()"
   ]
  },
  {
   "cell_type": "code",
   "execution_count": 2,
   "id": "c6199dcd",
   "metadata": {},
   "outputs": [
    {
     "name": "stdout",
     "output_type": "stream",
     "text": [
      "BGR 影像 shape 屬性：(314, 425, 3)\n",
      "B 通道影像 shape 屬性：(314, 425)\n",
      "G 通道影像 shape 屬性：(314, 425)\n",
      "R 通道影像 shape 屬性：(314, 425)\n"
     ]
    }
   ],
   "source": [
    "# 影像表示方法\n",
    "# 拆分BGR 色彩通道範例\n",
    "import cv2\n",
    "image = cv2.imread('mountain.jpg')\n",
    "cv2.imshow('bgr', image)\n",
    "blue, green, red = cv2.split(image) \n",
    "cv2.imshow('blue', blue)\n",
    "cv2.imshow('green', green)\n",
    "cv2.imshow('red', red)\n",
    "print(f\"BGR 影像 shape 屬性：{image.shape}\")\n",
    "print(f\"B 通道影像 shape 屬性：{blue.shape}\")\n",
    "print(f\"G 通道影像 shape 屬性：{green.shape}\")\n",
    "print(f\"R 通道影像 shape 屬性：{red.shape}\")\n",
    "cv2.waitKey(0)\n",
    "cv2.destroyAllWindows()"
   ]
  },
  {
   "cell_type": "code",
   "execution_count": 1,
   "id": "c923737e",
   "metadata": {},
   "outputs": [
    {
     "name": "stdout",
     "output_type": "stream",
     "text": [
      "BGR 影像：[174 226 239]\n",
      "B 通道內容：\n",
      "174\n",
      "G 通道內容：\n",
      "226\n",
      "R 通道內容：\n",
      "239\n"
     ]
    }
   ],
   "source": [
    "# 影像表示方法\n",
    "# 拆分BGR 色彩通道範例\n",
    "import cv2\n",
    "image = cv2.imread('mountain.jpg')\n",
    "cv2.imshow('bgr', image)\n",
    "blue, green, red = cv2.split(image)\n",
    "cv2.imshow('blue', blue)\n",
    "cv2.imshow('green', green)\n",
    "cv2.imshow('red', red)\n",
    "print(f\"BGR 影像：{image[157][212]}\")\n",
    "print(\"B 通道內容：\")\n",
    "print(blue[157][212])\n",
    "print(\"G 通道內容：\")\n",
    "print(green[157][212])\n",
    "print(\"R 通道內容：\")\n",
    "print(red[157][212])\n",
    "cv2.waitKey(0)\n",
    "cv2.destroyAllWindows()"
   ]
  },
  {
   "cell_type": "code",
   "execution_count": 2,
   "id": "fa1b48ec",
   "metadata": {},
   "outputs": [],
   "source": [
    "# 影像表示方法\n",
    "# 拆分HSV 色彩通道範例\n",
    "import cv2\n",
    "image = cv2.imread('mountain.jpg')\n",
    "cv2.imshow('bgr', image)\n",
    "hsv_image = cv2.cvtColor(image, cv2.COLOR_BGR2HSV)\n",
    "hue, saturation, value = cv2.split(hsv_image)\n",
    "cv2.imshow('hsv', hue)\n",
    "cv2.imshow('saturation', saturation)\n",
    "cv2.imshow('value', value)\n",
    "cv2.waitKey(0)\n",
    "cv2.destroyAllWindows()"
   ]
  },
  {
   "cell_type": "code",
   "execution_count": 1,
   "id": "2b2af5b2",
   "metadata": {},
   "outputs": [],
   "source": [
    "# 影像表示方法\n",
    "# 合併BGR 色彩通道範例\n",
    "import cv2\n",
    "img = cv2.imread('street.jpg')\n",
    "cv2.imshow(\"Original\", img)\n",
    "blue, green, red = cv2.split(img)\n",
    "bgr_img = cv2.merge([blue, green, red])\n",
    "cv2.imshow(\"B -> G -> R\", bgr_img)\n",
    "rgb_img = cv2.merge([red, green, blue])\n",
    "cv2.imshow(\"R -> G -> B\", rgb_img)\n",
    "cv2.waitKey(0)\n",
    "cv2.destroyAllWindows()"
   ]
  },
  {
   "cell_type": "code",
   "execution_count": 2,
   "id": "7fa7708e",
   "metadata": {},
   "outputs": [],
   "source": [
    "# 影像表示方法\n",
    "# 合併HSV 色彩通道範例\n",
    "import cv2\n",
    "img = cv2.imread('street.jpg')\n",
    "cv2.imshow(\"Original\", img)\n",
    "hsv_img = cv2.cvtColor(img, cv2.COLOR_BGR2HSV)\n",
    "cv2.imshow(\"HSV\", hsv_img)\n",
    "hue, saturation, value = cv2.split(hsv_img)\n",
    "hsv_img = cv2.merge([hue, saturation, value])\n",
    "cv2.imshow(\"Merge\", hsv_img)\n",
    "cv2.waitKey(0)\n",
    "cv2.destroyAllWindows()"
   ]
  },
  {
   "cell_type": "code",
   "execution_count": 1,
   "id": "239b191e",
   "metadata": {},
   "outputs": [],
   "source": [
    "# 影像表示方法\n",
    "# 色調Hue 調整\n",
    "import cv2\n",
    "image = cv2.imread('street.jpg')\n",
    "cv2.imshow(\"Original\", image)\n",
    "hsv_image = cv2.cvtColor(image, cv2.COLOR_BGR2HSV)\n",
    "hue, saturation, value = cv2.split(hsv_image)\n",
    "hue[:, :] = 50 # equivalent to hue.fill(50)\n",
    "hsv_image1 = cv2.merge([hue, saturation, value])\n",
    "new_image1 = cv2.cvtColor(hsv_image1, cv2.COLOR_HSV2BGR)\n",
    "cv2.imshow(\"New 1\", new_image1)\n",
    "hue[:, :] = 150\n",
    "hsv_image2 = cv2.merge([hue, saturation, value])\n",
    "new_image2 = cv2.cvtColor(hsv_image2, cv2.COLOR_HSV2BGR)\n",
    "cv2.imshow(\"New 2\", new_image2)\n",
    "cv2.waitKey(0)\n",
    "cv2.destroyAllWindows()"
   ]
  },
  {
   "cell_type": "code",
   "execution_count": 2,
   "id": "47b2e817",
   "metadata": {},
   "outputs": [],
   "source": [
    "# 影像表示方法\n",
    "# 飽和度Saturation 調整\n",
    "import cv2\n",
    "image = cv2.imread('street.jpg')\n",
    "hsv_image = cv2.cvtColor(image, cv2.COLOR_BGR2HSV)\n",
    "hue, saturation, value = cv2.split(hsv_image)\n",
    "saturation.fill(255)\n",
    "hsv_image = cv2.merge([hue, saturation, value])\n",
    "new_image = cv2.cvtColor(hsv_image, cv2.COLOR_HSV2BGR)\n",
    "cv2.imshow(\"Original\", image)\n",
    "cv2.imshow(\"New\", new_image)\n",
    "cv2.waitKey(0)\n",
    "cv2.destroyAllWindows()"
   ]
  },
  {
   "cell_type": "code",
   "execution_count": 1,
   "id": "6c5fa804",
   "metadata": {},
   "outputs": [],
   "source": [
    "# 影像表示方法\n",
    "# 明度Value 調整\n",
    "import cv2\n",
    "image = cv2.imread('street.jpg')\n",
    "hsv_image = cv2.cvtColor(image, cv2.COLOR_BGR2HSV)\n",
    "hue, saturation, value = cv2.split(hsv_image)\n",
    "value.fill(255)\n",
    "hsv_image = cv2.merge([hue, saturation, value])\n",
    "new_image = cv2.cvtColor(hsv_image, \n",
    "cv2.COLOR_HSV2BGR)\n",
    "cv2.imshow(\"Original\", image)\n",
    "cv2.imshow(\"New\", new_image)\n",
    "cv2.waitKey(0)\n",
    "cv2.destroyAllWindows()"
   ]
  },
  {
   "cell_type": "code",
   "execution_count": 2,
   "id": "b2dd334d",
   "metadata": {},
   "outputs": [
    {
     "name": "stdout",
     "output_type": "stream",
     "text": [
      "列出轉成含 A 通道影像物件後的 alpha 值\n",
      "[[255 255 255 ... 255 255 255]\n",
      " [255 255 255 ... 255 255 255]\n",
      " [255 255 255 ... 255 255 255]\n",
      " ...\n",
      " [255 255 255 ... 255 255 255]\n",
      " [255 255 255 ... 255 255 255]\n",
      " [255 255 255 ... 255 255 255]]\n"
     ]
    },
    {
     "data": {
      "text/plain": [
       "True"
      ]
     },
     "execution_count": 2,
     "metadata": {},
     "output_type": "execute_result"
    }
   ],
   "source": [
    "# 影像表示方法\n",
    "# alpha 通道範例\n",
    "import cv2\n",
    "image = cv2.imread('street.jpg')\n",
    "cv2.imshow(\"Original\", image)\n",
    "bgra_image = cv2.cvtColor(image, cv2.COLOR_BGR2BGRA)\n",
    "b, g, r, a = cv2.split(bgra_image)\n",
    "print(\"列出轉成含 A 通道影像物件後的 alpha 值\")\n",
    "print(a)\n",
    "a[:, :] = 32 # equivalent to a.fill(50)\n",
    "a32_image = cv2.merge([b, g, r, a])\n",
    "cv2.imshow(\"The a32 Image\", a32_image)\n",
    "a.fill(128)\n",
    "a128_image = cv2.merge([b, g, r, a])\n",
    "cv2.imshow(\"The a128 Image\", a128_image)\n",
    "cv2.waitKey(0)\n",
    "cv2.destroyAllWindows()\n",
    "cv2.imwrite('a32.png', a32_image)\n",
    "cv2.imwrite('a128.png', a128_image)"
   ]
  }
 ],
 "metadata": {
  "kernelspec": {
   "display_name": "yzu_CV",
   "language": "python",
   "name": "python3"
  },
  "language_info": {
   "codemirror_mode": {
    "name": "ipython",
    "version": 3
   },
   "file_extension": ".py",
   "mimetype": "text/x-python",
   "name": "python",
   "nbconvert_exporter": "python",
   "pygments_lexer": "ipython3",
   "version": "3.13.5"
  }
 },
 "nbformat": 4,
 "nbformat_minor": 5
}
