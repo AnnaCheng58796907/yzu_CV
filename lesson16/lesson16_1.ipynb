{
 "cells": [
  {
   "cell_type": "markdown",
   "id": "9cd08b6c",
   "metadata": {},
   "source": [
    "#### CV_mp 虛擬環境"
   ]
  },
  {
   "cell_type": "code",
   "execution_count": 3,
   "id": "8d177f25",
   "metadata": {},
   "outputs": [
    {
     "name": "stderr",
     "output_type": "stream",
     "text": [
      "c:\\Users\\q5j6j\\miniconda3\\envs\\CV_mp\\Lib\\site-packages\\google\\protobuf\\symbol_database.py:55: UserWarning: SymbolDatabase.GetPrototype() is deprecated. Please use message_factory.GetMessageClass() instead. SymbolDatabase.GetPrototype() will be removed soon.\n",
      "  warnings.warn('SymbolDatabase.GetPrototype() is deprecated. Please '\n"
     ]
    }
   ],
   "source": [
    "import cv2\n",
    "import mediapipe as mp\n",
    "\n",
    "mp_face_detection = mp.solutions.face_detection\n",
    "mp_drawing = mp.solutions.drawing_utils\n",
    "face_detection = mp_face_detection.FaceDetection(\n",
    "    min_detection_confidence=0.5)\n",
    "\n",
    "img = cv2.imread(\"images/face.jpg\")\n",
    "results = face_detection.process(cv2.cvtColor(img, cv2.COLOR_BGR2RGB))\n",
    "\n",
    "if results.detections:\n",
    "    for detection in results.detections:\n",
    "        mp_drawing.draw_detection(img, detection)\n",
    "        bbox = detection.location_data.relative_bounding_box\n",
    "        ih, iw, _ = img.shape\n",
    "        x, y = int(bbox.xmin * iw), int(bbox.ymin * ih)\n",
    "        score = str(int(detection.score[0]*100)) + \"%\"\n",
    "        cv2.putText(img, score, (x, y - 10),\n",
    "                    cv2.FONT_HERSHEY_SIMPLEX, 1, (0, 255, 0), 2)\n",
    "        \n",
    "cv2.imshow(\"MediaPipe Face Detection\", img)\n",
    "cv2.waitKey(0)\n",
    "cv2.destroyAllWindows()\n"
   ]
  },
  {
   "cell_type": "code",
   "execution_count": null,
   "id": "8008156e",
   "metadata": {},
   "outputs": [],
   "source": [
    "# MediaPipe人臉偵測(新版寫法)\n",
    "import mediapipe as mp\n",
    "from mediapipe.tasks import python\n",
    "from mediapipe.tasks.python import vision\n",
    "import cv2\n",
    "\n",
    "base_options = python.BaseOptions(\n",
    "    model_asset_path=''\n",
    ")"
   ]
  }
 ],
 "metadata": {
  "kernelspec": {
   "display_name": "CV_mp",
   "language": "python",
   "name": "python3"
  },
  "language_info": {
   "codemirror_mode": {
    "name": "ipython",
    "version": 3
   },
   "file_extension": ".py",
   "mimetype": "text/x-python",
   "name": "python",
   "nbconvert_exporter": "python",
   "pygments_lexer": "ipython3",
   "version": "3.11.14"
  }
 },
 "nbformat": 4,
 "nbformat_minor": 5
}
