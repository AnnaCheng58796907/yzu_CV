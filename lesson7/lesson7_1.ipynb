{
 "cells": [
  {
   "cell_type": "code",
   "execution_count": null,
   "id": "d9e1d4ac",
   "metadata": {},
   "outputs": [
    {
     "name": "stdout",
     "output_type": "stream",
     "text": [
      "src = \n",
      " [[ 79 218 237 221 211]\n",
      " [188  36 177  77  59]\n",
      " [222  19  20 119 147]]\n",
      "threshold = 127.0\n",
      "dst =\n",
      " [[  0 255 255 255 255]\n",
      " [255   0 255   0   0]\n",
      " [255   0   0   0 255]]\n"
     ]
    }
   ],
   "source": [
    "# 閾值處理\n",
    "# threshold()\n",
    "import cv2\n",
    "import numpy as np\n",
    "\n",
    "thresh = 127\n",
    "maxval = 255\n",
    "src = np.random.randint(0, 256, size=[3,5], dtype=np.uint8)\n",
    "ret, dst = cv2.threshold(src, thresh, maxval, cv2.THRESH_BINARY)\n",
    "print(f\"src = \\n {src}\")\n",
    "print(f\"threshold = {ret}\")\n",
    "print(f\"dst =\\n {dst}\")\n"
   ]
  },
  {
   "cell_type": "code",
   "execution_count": null,
   "id": "21f1b750",
   "metadata": {},
   "outputs": [
    {
     "name": "stdout",
     "output_type": "stream",
     "text": [
      "threshold = 123.0\n"
     ]
    }
   ],
   "source": [
    "# 閾值處理\n",
    "# threshold() Otsu演算法\n",
    "import cv2\n",
    "\n",
    "src = cv2.imread(\"leclerc.png\", cv2.IMREAD_GRAYSCALE)\n",
    "cv2.imshow(\"Src\", src)\n",
    "thresh = 100\n",
    "maxval = 255\n",
    "ret, dst = cv2.threshold(src, thresh, maxval, cv2.THRESH_BINARY)\n",
    "cv2.imshow(\"Dst - 100\", dst)\n",
    "thresh = 0\n",
    "ret, dst = cv2.threshold(\n",
    "    src, thresh, maxval, cv2.THRESH_BINARY+cv2.THRESH_OTSU\n",
    ")\n",
    "cv2.imshow(\"Dst - Otsu\", dst)\n",
    "print(f\"threshold = {ret}\")\n",
    "cv2.waitKey(0)\n",
    "cv2.destroyAllWindows()\n"
   ]
  },
  {
   "cell_type": "code",
   "execution_count": null,
   "id": "fd0b890d",
   "metadata": {},
   "outputs": [],
   "source": [
    "# 閾值處理\n",
    "# adaptiveThreshold() 自適應閾值應用\n",
    "import cv2\n",
    "\n",
    "src = cv2.imread(\"school.jpg\", cv2.IMREAD_GRAYSCALE)\n",
    "thresh = 127\n",
    "maxval = 255\n",
    "ret, dst = cv2.threshold(src, thresh, maxval, cv2.THRESH_BINARY)\n",
    "# 自適應閾值計算方式為ADAPTIVE_THRESH_MEAN_C\n",
    "dst_mean = cv2.adaptiveThreshold(src, maxval, cv2.ADAPTIVE_THRESH_MEAN_C,\n",
    "                                 cv2.THRESH_BINARY, 3, 5)\n",
    "# 自適應閾值計算方式為ADAPTIVE_THRESH_GAUSSIAN_C\n",
    "dst_gauss = cv2.adaptiveThreshold(src, maxval, cv2.ADAPTIVE_THRESH_GAUSSIAN_C,\n",
    "                                 cv2.THRESH_BINARY, 3, 5)\n",
    "cv2.imshow(\"src\", src)\n",
    "cv2.imshow(\"THRESH_BINARY\", dst)\n",
    "cv2.imshow(\"ADAPTIVE_THRESH_MEAN_C\", dst_mean)\n",
    "cv2.imshow(\"ADAPTIVE_THRESH_GAUSSIAN_C\", dst_gauss)\n",
    "\n",
    "cv2.waitKey(0)\n",
    "cv2.destroyAllWindows()\n"
   ]
  },
  {
   "cell_type": "code",
   "execution_count": null,
   "id": "11c262f3",
   "metadata": {},
   "outputs": [],
   "source": [
    "# 閾值處理\n",
    "# 平面圖分解\n",
    "import cv2\n",
    "import numpy as np\n",
    "\n",
    "img = cv2.imread(\"leclerc.png\", cv2.IMREAD_GRAYSCALE)\n",
    "cv2.imshow(\"Leclerc.png\", img)\n",
    "row, column = img.shape\n",
    "x = np.zeros((row, column, 8), dtype=np.uint8)\n",
    "for i in range(8):\n",
    "    x[:, :, i] = 2**i\n",
    "result = np.zeros((row,column, 8), dtype=np.uint8)\n",
    "for i in range(8):\n",
    "    result[:, :, i] = cv2.bitwise_and(img, x[:, :, i])\n",
    "    # mask = result[:, :, i] > 0\n",
    "    # result[mask] = 255\n",
    "    ret, result[:, :, i] = cv2.threshold(result[:, :, i], 0, 255, cv2.THRESH_BINARY)\n",
    "    cv2.imshow(str(i), result[:, :, i])\n",
    "\n",
    "cv2.waitKey(0)\n",
    "cv2.destroyAllWindows()"
   ]
  },
  {
   "cell_type": "code",
   "execution_count": null,
   "id": "1b2ea0b3",
   "metadata": {},
   "outputs": [],
   "source": [
    "# 閾值處理\n",
    "# 最低有效位元對影像整體沒有太大的影響\n",
    "import cv2\n",
    "import numpy as np\n",
    "\n",
    "img = cv2.imread(\"leclerc.png\", cv2.IMREAD_GRAYSCALE)\n",
    "cv2.imshow(\"Leclerc.png\", img)\n",
    "\n",
    "row, column = img.shape\n",
    "mask = np.random.randint(254, 256, (row, column)).astype(np.uint8)\n",
    "cv2.imshow(\"mask\", mask)\n",
    "new_img = cv2.bitwise_and(img, mask)\n",
    "cv2.imshow(\"New Leclerc\", new_img)\n",
    "\n",
    "cv2.waitKey(0)\n",
    "cv2.destroyAllWindows()\n"
   ]
  },
  {
   "cell_type": "code",
   "execution_count": null,
   "id": "eb794da7",
   "metadata": {},
   "outputs": [],
   "source": [
    "# 閾值處理\n",
    "# 把浮水印影像嵌入原始影像\n",
    "import cv2\n",
    "import numpy as np\n",
    "\n",
    "img = cv2.imread(\"leclerc.png\", cv2.IMREAD_GRAYSCALE)\n",
    "cv2.imshow(\"Leclerc.png\", img)\n",
    "row, column = img.shape\n",
    "high7 = np.ones((row, column), np.uint8) * 254\n",
    "tmp_img = cv2.bitwise_and(img, high7)\n",
    "\n",
    "watermark = np.ones((row, column), np.uint8) * 255\n",
    "font = cv2.FONT_HERSHEY_SIMPLEX\n",
    "cv2.putText(watermark, 'Copy Right', (10, row - 10), font, 1, 0, 2)\n",
    "cv2.imshow(\"Copy Right\", watermark)\n",
    "ret, wm = cv2.threshold(watermark, 0, 1, cv2.THRESH_BINARY)\n",
    "new_img = cv2.bitwise_or(tmp_img, wm)\n",
    "cv2.imshow(\"New Leclerc\", new_img)\n",
    "\n",
    "cv2.waitKey(0)\n",
    "cv2.destroyAllWindows()\n"
   ]
  },
  {
   "cell_type": "code",
   "execution_count": 2,
   "id": "6b48010e",
   "metadata": {},
   "outputs": [
    {
     "name": "stdout",
     "output_type": "stream",
     "text": [
      "Threshold =  240.0\n"
     ]
    }
   ],
   "source": [
    "# 閾值處理-影像分割\n",
    "import cv2\n",
    "\n",
    "src = cv2.imread('coin.png', cv2.IMREAD_GRAYSCALE)\n",
    "cv2.imshow(\"Src\", src)\n",
    "ret, dst = cv2.threshold(src, 240, 255, cv2.THRESH_BINARY_INV)\n",
    "# ret, dst = cv2.threshold(src, 0, 255, cv2.THRESH_BINARY_INV+cv2.THRESH_OTSU)\n",
    "print(\"Threshold = \", ret)\n",
    "cv2.imshow(\"Dst\", dst)\n",
    "cv2.waitKey(0)\n",
    "cv2.destroyAllWindows()\n"
   ]
  },
  {
   "cell_type": "code",
   "execution_count": 3,
   "id": "c40535e3",
   "metadata": {},
   "outputs": [
    {
     "name": "stdout",
     "output_type": "stream",
     "text": [
      "Threshold =  117.0\n"
     ]
    }
   ],
   "source": [
    "# 閾值處理-多個物件的影像分割\n",
    "import cv2\n",
    "src = cv2.imread(\"coin1.jpg\", cv2.IMREAD_GRAYSCALE)\n",
    "cv2.imshow(\"Src\", src)\n",
    "ret, dst = cv2.threshold(src, 0, 255, cv2.THRESH_BINARY_INV+cv2.THRESH_OTSU)\n",
    "print(\"Threshold = \", ret)\n",
    "cv2.imshow(\"Dst\", dst)\n",
    "cv2.waitKey(0)\n",
    "cv2.destroyAllWindows()"
   ]
  }
 ],
 "metadata": {
  "kernelspec": {
   "display_name": "yzu_CV",
   "language": "python",
   "name": "python3"
  },
  "language_info": {
   "codemirror_mode": {
    "name": "ipython",
    "version": 3
   },
   "file_extension": ".py",
   "mimetype": "text/x-python",
   "name": "python",
   "nbconvert_exporter": "python",
   "pygments_lexer": "ipython3",
   "version": "3.13.5"
  }
 },
 "nbformat": 4,
 "nbformat_minor": 5
}
